{
 "cells": [
  {
   "cell_type": "markdown",
   "metadata": {
    "colab_type": "text",
    "id": "skqjIrYFb_K-"
   },
   "source": [
    "#ROSSMAN SALES - Ciclo 01"
   ]
  },
  {
   "cell_type": "markdown",
   "metadata": {
    "colab_type": "text",
    "id": "o9Di4IPRpazn"
   },
   "source": [
    "\n",
    "## INTRODUÇÃO (TODO)\n",
    "\n"
   ]
  },
  {
   "cell_type": "markdown",
   "metadata": {
    "colab_type": "text",
    "id": "FlWeYoJ44Oe_"
   },
   "source": [
    "## RESUMO (TODO)"
   ]
  },
  {
   "cell_type": "markdown",
   "metadata": {
    "colab_type": "text",
    "id": "o7_H_1KCcCcU"
   },
   "source": [
    "#0.0. IMPORTAÇÃO DOS DADOS E BIBLIOTECAS"
   ]
  },
  {
   "cell_type": "markdown",
   "metadata": {
    "colab_type": "text",
    "id": "1YFbG2XToDNz"
   },
   "source": [
    "## 0.1 Importação das bibliotecas"
   ]
  },
  {
   "cell_type": "code",
   "execution_count": 15,
   "metadata": {
    "cellView": "both",
    "colab": {},
    "colab_type": "code",
    "id": "O-56naudd98W"
   },
   "outputs": [],
   "source": [
    "#importando bibliotecas\n",
    "  \n",
    "  # Importação e manipulação de dados\n",
    "import pandas as pd\n",
    "import numpy  as np\n",
    "\n",
    "  # Visualização de dados\n",
    "import matplotlib.pyplot as plt\n",
    "import seaborn           as sns\n",
    "\n",
    "  # Feature Engineering\n",
    "from   IPython.display        import Image\n",
    "import datetime\n",
    "import math\n",
    "\n",
    "  # Feature Selection\n",
    "from sklearn.ensemble         import RandomForestRegressor\n",
    "from boruta                   import BorutaPy\n",
    "\n",
    "  # Preparação de dados\n",
    "from sklearn.preprocessing    import RobustScaler, MinMaxScaler, LabelEncoder\n",
    "\n",
    "  # Modelagem\n",
    "import xgboost as xgb\n",
    "from sklearn.linear_model     import LinearRegression, Lasso\n",
    "\n",
    "  # Resultados de modelos\n",
    "from sklearn.metrics          import mean_absolute_error, mean_squared_error\n",
    "  \n",
    "  # Validação\n",
    "from sklearn.model_selection  import cross_validate\n",
    "from sklearn.model_selection  import KFold\n",
    "\n",
    "  # Otimização\n",
    "import random\n",
    "import warnings\n",
    "warnings.filterwarnings( 'ignore')"
   ]
  },
  {
   "cell_type": "markdown",
   "metadata": {
    "colab_type": "text",
    "id": "7zPFfy4iD_wp"
   },
   "source": [
    "## Funções Auxiliares"
   ]
  },
  {
   "cell_type": "code",
   "execution_count": 16,
   "metadata": {
    "colab": {},
    "colab_type": "code",
    "id": "k3-ik5GOA3fY"
   },
   "outputs": [],
   "source": [
    "def mean_absolute_percentage_error(y, y_pred):\n",
    "  return np.mean(np.abs((y - y_pred) / y))"
   ]
  },
  {
   "cell_type": "code",
   "execution_count": 17,
   "metadata": {
    "colab": {},
    "colab_type": "code",
    "id": "1UmOMc0wAKyu"
   },
   "outputs": [],
   "source": [
    "def ml_error( model_name, y, y_pred):\n",
    "  mae = mean_absolute_error(y, y_pred)\n",
    "  mape = mean_absolute_percentage_error(y, y_pred)\n",
    "  rmse = np.sqrt (mean_squared_error(y, y_pred))\n",
    "\n",
    "  return pd.DataFrame({'Model Name': model_name,\n",
    "                       'MAE' : mae,\n",
    "                       'MAPE': mape,\n",
    "                       'RMSE': rmse}, index=[0])"
   ]
  },
  {
   "cell_type": "markdown",
   "metadata": {
    "colab_type": "text",
    "id": "cbG8Esj1XEJC"
   },
   "source": [
    "### Versões"
   ]
  },
  {
   "cell_type": "code",
   "execution_count": 18,
   "metadata": {
    "cellView": "both",
    "colab": {
     "base_uri": "https://localhost:8080/",
     "height": 102
    },
    "colab_type": "code",
    "id": "xm8IJT2MeIsA",
    "outputId": "6a69f617-86f7-4907-847f-6a818ae350a4"
   },
   "outputs": [
    {
     "name": "stdout",
     "output_type": "stream",
     "text": [
      "Versão do Python: 3.8.5 (default, Aug  5 2020, 09:44:06) [MSC v.1916 64 bit (AMD64)]\n",
      "Versão do numpy: 1.19.1\n",
      "Versão do pandas: 1.1.1\n",
      "Versão do seaborn: 0.10.1\n"
     ]
    }
   ],
   "source": [
    "import sys\n",
    "print('Versão do Python:', sys.version)\n",
    "print('Versão do numpy: %s' % np.__version__)\n",
    "print('Versão do pandas: %s' % pd.__version__)\n",
    "print('Versão do seaborn: %s' % sns.__version__)"
   ]
  },
  {
   "cell_type": "markdown",
   "metadata": {
    "colab_type": "text",
    "id": "Yy4Yxt9UoGtc"
   },
   "source": [
    "## 0.2 Importação dos dados"
   ]
  },
  {
   "cell_type": "code",
   "execution_count": null,
   "metadata": {
    "colab": {
     "base_uri": "https://localhost:8080/",
     "height": 34
    },
    "colab_type": "code",
    "id": "RVIva5Ba6Qhq",
    "outputId": "a0fb74bf-7a93-488c-bd3f-4b4c17b71f21",
    "scrolled": true
   },
   "outputs": [
    {
     "name": "stdout",
     "output_type": "stream",
     "text": [
      "Mounted at /gdrive\n"
     ]
    }
   ],
   "source": [
    "D:\\ProjetosML\\repos\\ROSSMANN\\rossmann-store-sales200805"
   ]
  },
  {
   "cell_type": "code",
   "execution_count": 20,
   "metadata": {
    "colab": {},
    "colab_type": "code",
    "id": "70Zs75LBcJvT"
   },
   "outputs": [],
   "source": [
    "# Endereço do conjunto de dados na pasta do google drive\n",
    "store_csv_path        = 'rossmann-store-sales200805/store.csv'\n",
    "test_csv_path         = 'rossmann-store-sales200805/test.csv'\n",
    "train_csv_path        = 'rossmann-store-sales200805/train.csv'\n",
    "sample_sub_csv_path   = 'rossmann-store-sales200805/sample_submission.csv'\n"
   ]
  },
  {
   "cell_type": "code",
   "execution_count": 21,
   "metadata": {
    "colab": {},
    "colab_type": "code",
    "id": "_4ZpopGWd6BV"
   },
   "outputs": [],
   "source": [
    "# Carregando dados para dataframes\n",
    "df_stores_raw = pd.read_csv(store_csv_path, low_memory=False)\n",
    "df_train_raw = pd.read_csv(train_csv_path, low_memory=False)\n",
    "df_test_raw = pd.read_csv(test_csv_path, low_memory=False)\n",
    "\n",
    "df_stores_raw.name='store_df_raw'\n",
    "df_train_raw.name='train_df_raw'\n",
    "df_test_raw.name='true_df_raw'\n"
   ]
  },
  {
   "cell_type": "markdown",
   "metadata": {
    "colab_type": "text",
    "id": "MCfNF4hmqpZN"
   },
   "source": [
    "## 0.3. Merge (Join)"
   ]
  },
  {
   "cell_type": "code",
   "execution_count": 23,
   "metadata": {
    "colab": {},
    "colab_type": "code",
    "id": "iCAdFTRZquNP"
   },
   "outputs": [],
   "source": [
    "df_raw = pd.merge(df_train_raw, df_stores_raw, how='left', on='Store')"
   ]
  },
  {
   "cell_type": "code",
   "execution_count": 24,
   "metadata": {
    "colab": {
     "base_uri": "https://localhost:8080/",
     "height": 609
    },
    "colab_type": "code",
    "id": "K7rJbuSyXqM-",
    "outputId": "eb2d3045-9ea4-4384-c66f-530721a78586"
   },
   "outputs": [
    {
     "data": {
      "text/html": [
       "<div>\n",
       "<style scoped>\n",
       "    .dataframe tbody tr th:only-of-type {\n",
       "        vertical-align: middle;\n",
       "    }\n",
       "\n",
       "    .dataframe tbody tr th {\n",
       "        vertical-align: top;\n",
       "    }\n",
       "\n",
       "    .dataframe thead th {\n",
       "        text-align: right;\n",
       "    }\n",
       "</style>\n",
       "<table border=\"1\" class=\"dataframe\">\n",
       "  <thead>\n",
       "    <tr style=\"text-align: right;\">\n",
       "      <th></th>\n",
       "      <th>Store</th>\n",
       "      <th>DayOfWeek</th>\n",
       "      <th>Date</th>\n",
       "      <th>Sales</th>\n",
       "      <th>Customers</th>\n",
       "      <th>Open</th>\n",
       "      <th>Promo</th>\n",
       "      <th>StateHoliday</th>\n",
       "      <th>SchoolHoliday</th>\n",
       "      <th>StoreType</th>\n",
       "      <th>Assortment</th>\n",
       "      <th>CompetitionDistance</th>\n",
       "      <th>CompetitionOpenSinceMonth</th>\n",
       "      <th>CompetitionOpenSinceYear</th>\n",
       "      <th>Promo2</th>\n",
       "      <th>Promo2SinceWeek</th>\n",
       "      <th>Promo2SinceYear</th>\n",
       "      <th>PromoInterval</th>\n",
       "    </tr>\n",
       "  </thead>\n",
       "  <tbody>\n",
       "    <tr>\n",
       "      <th>0</th>\n",
       "      <td>1</td>\n",
       "      <td>5</td>\n",
       "      <td>2015-07-31</td>\n",
       "      <td>5263</td>\n",
       "      <td>555</td>\n",
       "      <td>1</td>\n",
       "      <td>1</td>\n",
       "      <td>0</td>\n",
       "      <td>1</td>\n",
       "      <td>c</td>\n",
       "      <td>a</td>\n",
       "      <td>1270.0</td>\n",
       "      <td>9.0</td>\n",
       "      <td>2008.0</td>\n",
       "      <td>0</td>\n",
       "      <td>NaN</td>\n",
       "      <td>NaN</td>\n",
       "      <td>NaN</td>\n",
       "    </tr>\n",
       "    <tr>\n",
       "      <th>1</th>\n",
       "      <td>2</td>\n",
       "      <td>5</td>\n",
       "      <td>2015-07-31</td>\n",
       "      <td>6064</td>\n",
       "      <td>625</td>\n",
       "      <td>1</td>\n",
       "      <td>1</td>\n",
       "      <td>0</td>\n",
       "      <td>1</td>\n",
       "      <td>a</td>\n",
       "      <td>a</td>\n",
       "      <td>570.0</td>\n",
       "      <td>11.0</td>\n",
       "      <td>2007.0</td>\n",
       "      <td>1</td>\n",
       "      <td>13.0</td>\n",
       "      <td>2010.0</td>\n",
       "      <td>Jan,Apr,Jul,Oct</td>\n",
       "    </tr>\n",
       "    <tr>\n",
       "      <th>2</th>\n",
       "      <td>3</td>\n",
       "      <td>5</td>\n",
       "      <td>2015-07-31</td>\n",
       "      <td>8314</td>\n",
       "      <td>821</td>\n",
       "      <td>1</td>\n",
       "      <td>1</td>\n",
       "      <td>0</td>\n",
       "      <td>1</td>\n",
       "      <td>a</td>\n",
       "      <td>a</td>\n",
       "      <td>14130.0</td>\n",
       "      <td>12.0</td>\n",
       "      <td>2006.0</td>\n",
       "      <td>1</td>\n",
       "      <td>14.0</td>\n",
       "      <td>2011.0</td>\n",
       "      <td>Jan,Apr,Jul,Oct</td>\n",
       "    </tr>\n",
       "    <tr>\n",
       "      <th>3</th>\n",
       "      <td>4</td>\n",
       "      <td>5</td>\n",
       "      <td>2015-07-31</td>\n",
       "      <td>13995</td>\n",
       "      <td>1498</td>\n",
       "      <td>1</td>\n",
       "      <td>1</td>\n",
       "      <td>0</td>\n",
       "      <td>1</td>\n",
       "      <td>c</td>\n",
       "      <td>c</td>\n",
       "      <td>620.0</td>\n",
       "      <td>9.0</td>\n",
       "      <td>2009.0</td>\n",
       "      <td>0</td>\n",
       "      <td>NaN</td>\n",
       "      <td>NaN</td>\n",
       "      <td>NaN</td>\n",
       "    </tr>\n",
       "    <tr>\n",
       "      <th>4</th>\n",
       "      <td>5</td>\n",
       "      <td>5</td>\n",
       "      <td>2015-07-31</td>\n",
       "      <td>4822</td>\n",
       "      <td>559</td>\n",
       "      <td>1</td>\n",
       "      <td>1</td>\n",
       "      <td>0</td>\n",
       "      <td>1</td>\n",
       "      <td>a</td>\n",
       "      <td>a</td>\n",
       "      <td>29910.0</td>\n",
       "      <td>4.0</td>\n",
       "      <td>2015.0</td>\n",
       "      <td>0</td>\n",
       "      <td>NaN</td>\n",
       "      <td>NaN</td>\n",
       "      <td>NaN</td>\n",
       "    </tr>\n",
       "    <tr>\n",
       "      <th>...</th>\n",
       "      <td>...</td>\n",
       "      <td>...</td>\n",
       "      <td>...</td>\n",
       "      <td>...</td>\n",
       "      <td>...</td>\n",
       "      <td>...</td>\n",
       "      <td>...</td>\n",
       "      <td>...</td>\n",
       "      <td>...</td>\n",
       "      <td>...</td>\n",
       "      <td>...</td>\n",
       "      <td>...</td>\n",
       "      <td>...</td>\n",
       "      <td>...</td>\n",
       "      <td>...</td>\n",
       "      <td>...</td>\n",
       "      <td>...</td>\n",
       "      <td>...</td>\n",
       "    </tr>\n",
       "    <tr>\n",
       "      <th>1017204</th>\n",
       "      <td>1111</td>\n",
       "      <td>2</td>\n",
       "      <td>2013-01-01</td>\n",
       "      <td>0</td>\n",
       "      <td>0</td>\n",
       "      <td>0</td>\n",
       "      <td>0</td>\n",
       "      <td>a</td>\n",
       "      <td>1</td>\n",
       "      <td>a</td>\n",
       "      <td>a</td>\n",
       "      <td>1900.0</td>\n",
       "      <td>6.0</td>\n",
       "      <td>2014.0</td>\n",
       "      <td>1</td>\n",
       "      <td>31.0</td>\n",
       "      <td>2013.0</td>\n",
       "      <td>Jan,Apr,Jul,Oct</td>\n",
       "    </tr>\n",
       "    <tr>\n",
       "      <th>1017205</th>\n",
       "      <td>1112</td>\n",
       "      <td>2</td>\n",
       "      <td>2013-01-01</td>\n",
       "      <td>0</td>\n",
       "      <td>0</td>\n",
       "      <td>0</td>\n",
       "      <td>0</td>\n",
       "      <td>a</td>\n",
       "      <td>1</td>\n",
       "      <td>c</td>\n",
       "      <td>c</td>\n",
       "      <td>1880.0</td>\n",
       "      <td>4.0</td>\n",
       "      <td>2006.0</td>\n",
       "      <td>0</td>\n",
       "      <td>NaN</td>\n",
       "      <td>NaN</td>\n",
       "      <td>NaN</td>\n",
       "    </tr>\n",
       "    <tr>\n",
       "      <th>1017206</th>\n",
       "      <td>1113</td>\n",
       "      <td>2</td>\n",
       "      <td>2013-01-01</td>\n",
       "      <td>0</td>\n",
       "      <td>0</td>\n",
       "      <td>0</td>\n",
       "      <td>0</td>\n",
       "      <td>a</td>\n",
       "      <td>1</td>\n",
       "      <td>a</td>\n",
       "      <td>c</td>\n",
       "      <td>9260.0</td>\n",
       "      <td>NaN</td>\n",
       "      <td>NaN</td>\n",
       "      <td>0</td>\n",
       "      <td>NaN</td>\n",
       "      <td>NaN</td>\n",
       "      <td>NaN</td>\n",
       "    </tr>\n",
       "    <tr>\n",
       "      <th>1017207</th>\n",
       "      <td>1114</td>\n",
       "      <td>2</td>\n",
       "      <td>2013-01-01</td>\n",
       "      <td>0</td>\n",
       "      <td>0</td>\n",
       "      <td>0</td>\n",
       "      <td>0</td>\n",
       "      <td>a</td>\n",
       "      <td>1</td>\n",
       "      <td>a</td>\n",
       "      <td>c</td>\n",
       "      <td>870.0</td>\n",
       "      <td>NaN</td>\n",
       "      <td>NaN</td>\n",
       "      <td>0</td>\n",
       "      <td>NaN</td>\n",
       "      <td>NaN</td>\n",
       "      <td>NaN</td>\n",
       "    </tr>\n",
       "    <tr>\n",
       "      <th>1017208</th>\n",
       "      <td>1115</td>\n",
       "      <td>2</td>\n",
       "      <td>2013-01-01</td>\n",
       "      <td>0</td>\n",
       "      <td>0</td>\n",
       "      <td>0</td>\n",
       "      <td>0</td>\n",
       "      <td>a</td>\n",
       "      <td>1</td>\n",
       "      <td>d</td>\n",
       "      <td>c</td>\n",
       "      <td>5350.0</td>\n",
       "      <td>NaN</td>\n",
       "      <td>NaN</td>\n",
       "      <td>1</td>\n",
       "      <td>22.0</td>\n",
       "      <td>2012.0</td>\n",
       "      <td>Mar,Jun,Sept,Dec</td>\n",
       "    </tr>\n",
       "  </tbody>\n",
       "</table>\n",
       "<p>1017209 rows × 18 columns</p>\n",
       "</div>"
      ],
      "text/plain": [
       "         Store  DayOfWeek        Date  Sales  Customers  Open  Promo  \\\n",
       "0            1          5  2015-07-31   5263        555     1      1   \n",
       "1            2          5  2015-07-31   6064        625     1      1   \n",
       "2            3          5  2015-07-31   8314        821     1      1   \n",
       "3            4          5  2015-07-31  13995       1498     1      1   \n",
       "4            5          5  2015-07-31   4822        559     1      1   \n",
       "...        ...        ...         ...    ...        ...   ...    ...   \n",
       "1017204   1111          2  2013-01-01      0          0     0      0   \n",
       "1017205   1112          2  2013-01-01      0          0     0      0   \n",
       "1017206   1113          2  2013-01-01      0          0     0      0   \n",
       "1017207   1114          2  2013-01-01      0          0     0      0   \n",
       "1017208   1115          2  2013-01-01      0          0     0      0   \n",
       "\n",
       "        StateHoliday  SchoolHoliday StoreType Assortment  CompetitionDistance  \\\n",
       "0                  0              1         c          a               1270.0   \n",
       "1                  0              1         a          a                570.0   \n",
       "2                  0              1         a          a              14130.0   \n",
       "3                  0              1         c          c                620.0   \n",
       "4                  0              1         a          a              29910.0   \n",
       "...              ...            ...       ...        ...                  ...   \n",
       "1017204            a              1         a          a               1900.0   \n",
       "1017205            a              1         c          c               1880.0   \n",
       "1017206            a              1         a          c               9260.0   \n",
       "1017207            a              1         a          c                870.0   \n",
       "1017208            a              1         d          c               5350.0   \n",
       "\n",
       "         CompetitionOpenSinceMonth  CompetitionOpenSinceYear  Promo2  \\\n",
       "0                              9.0                    2008.0       0   \n",
       "1                             11.0                    2007.0       1   \n",
       "2                             12.0                    2006.0       1   \n",
       "3                              9.0                    2009.0       0   \n",
       "4                              4.0                    2015.0       0   \n",
       "...                            ...                       ...     ...   \n",
       "1017204                        6.0                    2014.0       1   \n",
       "1017205                        4.0                    2006.0       0   \n",
       "1017206                        NaN                       NaN       0   \n",
       "1017207                        NaN                       NaN       0   \n",
       "1017208                        NaN                       NaN       1   \n",
       "\n",
       "         Promo2SinceWeek  Promo2SinceYear     PromoInterval  \n",
       "0                    NaN              NaN               NaN  \n",
       "1                   13.0           2010.0   Jan,Apr,Jul,Oct  \n",
       "2                   14.0           2011.0   Jan,Apr,Jul,Oct  \n",
       "3                    NaN              NaN               NaN  \n",
       "4                    NaN              NaN               NaN  \n",
       "...                  ...              ...               ...  \n",
       "1017204             31.0           2013.0   Jan,Apr,Jul,Oct  \n",
       "1017205              NaN              NaN               NaN  \n",
       "1017206              NaN              NaN               NaN  \n",
       "1017207              NaN              NaN               NaN  \n",
       "1017208             22.0           2012.0  Mar,Jun,Sept,Dec  \n",
       "\n",
       "[1017209 rows x 18 columns]"
      ]
     },
     "execution_count": 24,
     "metadata": {},
     "output_type": "execute_result"
    }
   ],
   "source": [
    "df_raw"
   ]
  },
  {
   "cell_type": "markdown",
   "metadata": {
    "colab_type": "text",
    "id": "V6fEPNaPcCfd"
   },
   "source": [
    "# 1.0. DESCRIÇÃO DOS DADOS "
   ]
  },
  {
   "cell_type": "markdown",
   "metadata": {
    "colab_type": "text",
    "id": "h-BsKbjJkbRw"
   },
   "source": [
    "## 1.1 Dimensões dos dados (Data Shape)"
   ]
  },
  {
   "cell_type": "code",
   "execution_count": 25,
   "metadata": {
    "colab": {},
    "colab_type": "code",
    "id": "qDfllk0bG91C"
   },
   "outputs": [],
   "source": [
    "#cópia para segurança\n",
    "df1 = df_raw.copy()"
   ]
  },
  {
   "cell_type": "code",
   "execution_count": 26,
   "metadata": {
    "colab": {
     "base_uri": "https://localhost:8080/",
     "height": 476
    },
    "colab_type": "code",
    "id": "4HBuKPGqj-mw",
    "outputId": "08012e3b-cb70-4a77-9dab-bde022eacb45"
   },
   "outputs": [
    {
     "name": "stdout",
     "output_type": "stream",
     "text": [
      "\n",
      " ===Descrição Geral===\n",
      "Numero de registros: 1017209\n",
      "Numero de variaveis: 18\n",
      "\n",
      " ===Lista de Variáveis===\n",
      "Store\n",
      "DayOfWeek\n",
      "Date\n",
      "Sales\n",
      "Customers\n",
      "Open\n",
      "Promo\n",
      "StateHoliday\n",
      "SchoolHoliday\n",
      "StoreType\n",
      "Assortment\n",
      "CompetitionDistance\n",
      "CompetitionOpenSinceMonth\n",
      "CompetitionOpenSinceYear\n",
      "Promo2\n",
      "Promo2SinceWeek\n",
      "Promo2SinceYear\n",
      "PromoInterval\n",
      "\n",
      " ===Variável Alvo===\n",
      "Sales\n"
     ]
    }
   ],
   "source": [
    "#Informações gerais dos dados\n",
    "print('\\n', '===Descrição Geral===')\n",
    "print('Numero de registros: {}'.format(df_raw.shape[0]))\n",
    "print('Numero de variaveis: {}'.format(df_raw.shape[1]))\n",
    "print('\\n', '===Lista de Variáveis===')\n",
    "print(*df_raw.columns.to_list(), sep='\\n')\n",
    "print('\\n', '===Variável Alvo===')\n",
    "print('Sales')"
   ]
  },
  {
   "cell_type": "markdown",
   "metadata": {
    "colab_type": "text",
    "id": "OuXRB9iYrJBt"
   },
   "source": [
    "### De acordo com a documentação do dataset, tem-se as seguintes variáveis com suas respectivas descrições:\n",
    "\n",
    "*  Id - an Id that represents a (Store, Date) duple within the test set\n",
    "*Store - a unique Id for each store\n",
    "*Sales - the turnover for any given day (this is what you are predicting)\n",
    "*Customers - the number of customers on a given day\n",
    "*Open - an indicator for whether the store was open: 0 = closed, 1 = open\n",
    "*StateHoliday - indicates a state holiday. Normally all stores, with few exceptions, are closed on state holidays. Note that all schools are closed on public holidays and weekends. a = public holiday, b = Easter holiday, c = Christmas, 0 = None\n",
    "*SchoolHoliday - indicates if the (Store, Date) was affected by the closure of public schools\n",
    "*StoreType - differentiates between 4 different store models: a, b, c, d\n",
    "*Assortment - describes an assortment level: a = basic, b = extra, c = extended\n",
    "*CompetitionDistance - distance in meters to the nearest competitor store\n",
    "*CompetitionOpenSince[Month/Year] - gives the approximate year and month of the time the nearest competitor was opened\n",
    "*Promo - indicates whether a store is running a promo on that day\n",
    "*Promo2 - Promo2 is a continuing and consecutive promotion for some stores: 0 = store is not participating, 1 = store is participating\n",
    "*Promo2Since[Year/Week] - describes the year and calendar week when the store started participating in Promo2\n",
    "*PromoInterval - describes the consecutive intervals Promo2 is started, naming the months the promotion is started anew. E.g. \"Feb,May,Aug,Nov\" means each round starts in February, May, August, November of any given year for that store"
   ]
  },
  {
   "cell_type": "code",
   "execution_count": 27,
   "metadata": {
    "colab": {
     "base_uri": "https://localhost:8080/",
     "height": 644
    },
    "colab_type": "code",
    "id": "Vo4MnA1aYcRZ",
    "outputId": "3e78932b-e904-4c79-9825-2dca73c190e2"
   },
   "outputs": [
    {
     "data": {
      "text/html": [
       "<div>\n",
       "<style scoped>\n",
       "    .dataframe tbody tr th:only-of-type {\n",
       "        vertical-align: middle;\n",
       "    }\n",
       "\n",
       "    .dataframe tbody tr th {\n",
       "        vertical-align: top;\n",
       "    }\n",
       "\n",
       "    .dataframe thead th {\n",
       "        text-align: right;\n",
       "    }\n",
       "</style>\n",
       "<table border=\"1\" class=\"dataframe\">\n",
       "  <thead>\n",
       "    <tr style=\"text-align: right;\">\n",
       "      <th></th>\n",
       "      <th>1002325</th>\n",
       "      <th>178555</th>\n",
       "      <th>510023</th>\n",
       "      <th>984730</th>\n",
       "      <th>776379</th>\n",
       "      <th>331986</th>\n",
       "      <th>116801</th>\n",
       "      <th>834254</th>\n",
       "      <th>158704</th>\n",
       "      <th>172127</th>\n",
       "    </tr>\n",
       "  </thead>\n",
       "  <tbody>\n",
       "    <tr>\n",
       "      <th>Store</th>\n",
       "      <td>726</td>\n",
       "      <td>156</td>\n",
       "      <td>139</td>\n",
       "      <td>971</td>\n",
       "      <td>10</td>\n",
       "      <td>291</td>\n",
       "      <td>842</td>\n",
       "      <td>1020</td>\n",
       "      <td>375</td>\n",
       "      <td>418</td>\n",
       "    </tr>\n",
       "    <tr>\n",
       "      <th>DayOfWeek</th>\n",
       "      <td>1</td>\n",
       "      <td>6</td>\n",
       "      <td>1</td>\n",
       "      <td>3</td>\n",
       "      <td>7</td>\n",
       "      <td>6</td>\n",
       "      <td>6</td>\n",
       "      <td>5</td>\n",
       "      <td>3</td>\n",
       "      <td>5</td>\n",
       "    </tr>\n",
       "    <tr>\n",
       "      <th>Date</th>\n",
       "      <td>2013-01-14</td>\n",
       "      <td>2015-02-21</td>\n",
       "      <td>2014-03-31</td>\n",
       "      <td>2013-01-30</td>\n",
       "      <td>2013-08-04</td>\n",
       "      <td>2014-09-20</td>\n",
       "      <td>2015-04-18</td>\n",
       "      <td>2013-06-14</td>\n",
       "      <td>2015-03-11</td>\n",
       "      <td>2015-02-27</td>\n",
       "    </tr>\n",
       "    <tr>\n",
       "      <th>Sales</th>\n",
       "      <td>8480</td>\n",
       "      <td>2891</td>\n",
       "      <td>12083</td>\n",
       "      <td>5387</td>\n",
       "      <td>0</td>\n",
       "      <td>4533</td>\n",
       "      <td>22061</td>\n",
       "      <td>7280</td>\n",
       "      <td>7685</td>\n",
       "      <td>6270</td>\n",
       "    </tr>\n",
       "    <tr>\n",
       "      <th>Customers</th>\n",
       "      <td>996</td>\n",
       "      <td>308</td>\n",
       "      <td>785</td>\n",
       "      <td>739</td>\n",
       "      <td>0</td>\n",
       "      <td>516</td>\n",
       "      <td>1290</td>\n",
       "      <td>1003</td>\n",
       "      <td>670</td>\n",
       "      <td>687</td>\n",
       "    </tr>\n",
       "    <tr>\n",
       "      <th>Open</th>\n",
       "      <td>1</td>\n",
       "      <td>1</td>\n",
       "      <td>1</td>\n",
       "      <td>1</td>\n",
       "      <td>0</td>\n",
       "      <td>1</td>\n",
       "      <td>1</td>\n",
       "      <td>1</td>\n",
       "      <td>1</td>\n",
       "      <td>1</td>\n",
       "    </tr>\n",
       "    <tr>\n",
       "      <th>Promo</th>\n",
       "      <td>0</td>\n",
       "      <td>0</td>\n",
       "      <td>1</td>\n",
       "      <td>0</td>\n",
       "      <td>0</td>\n",
       "      <td>0</td>\n",
       "      <td>0</td>\n",
       "      <td>0</td>\n",
       "      <td>0</td>\n",
       "      <td>0</td>\n",
       "    </tr>\n",
       "    <tr>\n",
       "      <th>StateHoliday</th>\n",
       "      <td>0</td>\n",
       "      <td>0</td>\n",
       "      <td>0</td>\n",
       "      <td>0</td>\n",
       "      <td>0</td>\n",
       "      <td>0</td>\n",
       "      <td>0</td>\n",
       "      <td>0</td>\n",
       "      <td>0</td>\n",
       "      <td>0</td>\n",
       "    </tr>\n",
       "    <tr>\n",
       "      <th>SchoolHoliday</th>\n",
       "      <td>0</td>\n",
       "      <td>0</td>\n",
       "      <td>0</td>\n",
       "      <td>0</td>\n",
       "      <td>1</td>\n",
       "      <td>0</td>\n",
       "      <td>0</td>\n",
       "      <td>0</td>\n",
       "      <td>0</td>\n",
       "      <td>0</td>\n",
       "    </tr>\n",
       "    <tr>\n",
       "      <th>StoreType</th>\n",
       "      <td>a</td>\n",
       "      <td>a</td>\n",
       "      <td>a</td>\n",
       "      <td>c</td>\n",
       "      <td>a</td>\n",
       "      <td>d</td>\n",
       "      <td>d</td>\n",
       "      <td>a</td>\n",
       "      <td>a</td>\n",
       "      <td>a</td>\n",
       "    </tr>\n",
       "    <tr>\n",
       "      <th>Assortment</th>\n",
       "      <td>c</td>\n",
       "      <td>a</td>\n",
       "      <td>a</td>\n",
       "      <td>a</td>\n",
       "      <td>a</td>\n",
       "      <td>a</td>\n",
       "      <td>c</td>\n",
       "      <td>a</td>\n",
       "      <td>c</td>\n",
       "      <td>a</td>\n",
       "    </tr>\n",
       "    <tr>\n",
       "      <th>CompetitionDistance</th>\n",
       "      <td>40540</td>\n",
       "      <td>2020</td>\n",
       "      <td>1700</td>\n",
       "      <td>1140</td>\n",
       "      <td>3160</td>\n",
       "      <td>NaN</td>\n",
       "      <td>1200</td>\n",
       "      <td>40</td>\n",
       "      <td>15710</td>\n",
       "      <td>1060</td>\n",
       "    </tr>\n",
       "    <tr>\n",
       "      <th>CompetitionOpenSinceMonth</th>\n",
       "      <td>2</td>\n",
       "      <td>2</td>\n",
       "      <td>1</td>\n",
       "      <td>5</td>\n",
       "      <td>9</td>\n",
       "      <td>NaN</td>\n",
       "      <td>11</td>\n",
       "      <td>8</td>\n",
       "      <td>2</td>\n",
       "      <td>5</td>\n",
       "    </tr>\n",
       "    <tr>\n",
       "      <th>CompetitionOpenSinceYear</th>\n",
       "      <td>2002</td>\n",
       "      <td>2011</td>\n",
       "      <td>2008</td>\n",
       "      <td>2011</td>\n",
       "      <td>2009</td>\n",
       "      <td>NaN</td>\n",
       "      <td>2007</td>\n",
       "      <td>2015</td>\n",
       "      <td>2013</td>\n",
       "      <td>2009</td>\n",
       "    </tr>\n",
       "    <tr>\n",
       "      <th>Promo2</th>\n",
       "      <td>0</td>\n",
       "      <td>1</td>\n",
       "      <td>1</td>\n",
       "      <td>1</td>\n",
       "      <td>0</td>\n",
       "      <td>0</td>\n",
       "      <td>0</td>\n",
       "      <td>0</td>\n",
       "      <td>1</td>\n",
       "      <td>1</td>\n",
       "    </tr>\n",
       "    <tr>\n",
       "      <th>Promo2SinceWeek</th>\n",
       "      <td>NaN</td>\n",
       "      <td>14</td>\n",
       "      <td>14</td>\n",
       "      <td>14</td>\n",
       "      <td>NaN</td>\n",
       "      <td>NaN</td>\n",
       "      <td>NaN</td>\n",
       "      <td>NaN</td>\n",
       "      <td>37</td>\n",
       "      <td>27</td>\n",
       "    </tr>\n",
       "    <tr>\n",
       "      <th>Promo2SinceYear</th>\n",
       "      <td>NaN</td>\n",
       "      <td>2011</td>\n",
       "      <td>2011</td>\n",
       "      <td>2012</td>\n",
       "      <td>NaN</td>\n",
       "      <td>NaN</td>\n",
       "      <td>NaN</td>\n",
       "      <td>NaN</td>\n",
       "      <td>2009</td>\n",
       "      <td>2011</td>\n",
       "    </tr>\n",
       "    <tr>\n",
       "      <th>PromoInterval</th>\n",
       "      <td>NaN</td>\n",
       "      <td>Mar,Jun,Sept,Dec</td>\n",
       "      <td>Jan,Apr,Jul,Oct</td>\n",
       "      <td>Mar,Jun,Sept,Dec</td>\n",
       "      <td>NaN</td>\n",
       "      <td>NaN</td>\n",
       "      <td>NaN</td>\n",
       "      <td>NaN</td>\n",
       "      <td>Jan,Apr,Jul,Oct</td>\n",
       "      <td>Feb,May,Aug,Nov</td>\n",
       "    </tr>\n",
       "  </tbody>\n",
       "</table>\n",
       "</div>"
      ],
      "text/plain": [
       "                              1002325           178555           510023   \\\n",
       "Store                             726               156              139   \n",
       "DayOfWeek                           1                 6                1   \n",
       "Date                       2013-01-14        2015-02-21       2014-03-31   \n",
       "Sales                            8480              2891            12083   \n",
       "Customers                         996               308              785   \n",
       "Open                                1                 1                1   \n",
       "Promo                               0                 0                1   \n",
       "StateHoliday                        0                 0                0   \n",
       "SchoolHoliday                       0                 0                0   \n",
       "StoreType                           a                 a                a   \n",
       "Assortment                          c                 a                a   \n",
       "CompetitionDistance             40540              2020             1700   \n",
       "CompetitionOpenSinceMonth           2                 2                1   \n",
       "CompetitionOpenSinceYear         2002              2011             2008   \n",
       "Promo2                              0                 1                1   \n",
       "Promo2SinceWeek                   NaN                14               14   \n",
       "Promo2SinceYear                   NaN              2011             2011   \n",
       "PromoInterval                     NaN  Mar,Jun,Sept,Dec  Jan,Apr,Jul,Oct   \n",
       "\n",
       "                                    984730      776379      331986   \\\n",
       "Store                                   971          10         291   \n",
       "DayOfWeek                                 3           7           6   \n",
       "Date                             2013-01-30  2013-08-04  2014-09-20   \n",
       "Sales                                  5387           0        4533   \n",
       "Customers                               739           0         516   \n",
       "Open                                      1           0           1   \n",
       "Promo                                     0           0           0   \n",
       "StateHoliday                              0           0           0   \n",
       "SchoolHoliday                             0           1           0   \n",
       "StoreType                                 c           a           d   \n",
       "Assortment                                a           a           a   \n",
       "CompetitionDistance                    1140        3160         NaN   \n",
       "CompetitionOpenSinceMonth                 5           9         NaN   \n",
       "CompetitionOpenSinceYear               2011        2009         NaN   \n",
       "Promo2                                    1           0           0   \n",
       "Promo2SinceWeek                          14         NaN         NaN   \n",
       "Promo2SinceYear                        2012         NaN         NaN   \n",
       "PromoInterval              Mar,Jun,Sept,Dec         NaN         NaN   \n",
       "\n",
       "                              116801      834254           158704   \\\n",
       "Store                             842        1020              375   \n",
       "DayOfWeek                           6           5                3   \n",
       "Date                       2015-04-18  2013-06-14       2015-03-11   \n",
       "Sales                           22061        7280             7685   \n",
       "Customers                        1290        1003              670   \n",
       "Open                                1           1                1   \n",
       "Promo                               0           0                0   \n",
       "StateHoliday                        0           0                0   \n",
       "SchoolHoliday                       0           0                0   \n",
       "StoreType                           d           a                a   \n",
       "Assortment                          c           a                c   \n",
       "CompetitionDistance              1200          40            15710   \n",
       "CompetitionOpenSinceMonth          11           8                2   \n",
       "CompetitionOpenSinceYear         2007        2015             2013   \n",
       "Promo2                              0           0                1   \n",
       "Promo2SinceWeek                   NaN         NaN               37   \n",
       "Promo2SinceYear                   NaN         NaN             2009   \n",
       "PromoInterval                     NaN         NaN  Jan,Apr,Jul,Oct   \n",
       "\n",
       "                                   172127   \n",
       "Store                                  418  \n",
       "DayOfWeek                                5  \n",
       "Date                            2015-02-27  \n",
       "Sales                                 6270  \n",
       "Customers                              687  \n",
       "Open                                     1  \n",
       "Promo                                    0  \n",
       "StateHoliday                             0  \n",
       "SchoolHoliday                            0  \n",
       "StoreType                                a  \n",
       "Assortment                               a  \n",
       "CompetitionDistance                   1060  \n",
       "CompetitionOpenSinceMonth                5  \n",
       "CompetitionOpenSinceYear              2009  \n",
       "Promo2                                   1  \n",
       "Promo2SinceWeek                         27  \n",
       "Promo2SinceYear                       2011  \n",
       "PromoInterval              Feb,May,Aug,Nov  "
      ]
     },
     "execution_count": 27,
     "metadata": {},
     "output_type": "execute_result"
    }
   ],
   "source": [
    "df_raw.sample(10).T"
   ]
  },
  {
   "cell_type": "markdown",
   "metadata": {
    "colab_type": "text",
    "id": "S-XOpE1Lb0jp"
   },
   "source": [
    "## 1.2  Renomeando variáveis para português"
   ]
  },
  {
   "cell_type": "markdown",
   "metadata": {
    "colab_type": "text",
    "id": "apegcg-gpGlm"
   },
   "source": [
    "Como o nome das variáveis está em inglês, estas serão renomeadas para português conforme a tabela abaixo."
   ]
  },
  {
   "cell_type": "code",
   "execution_count": 28,
   "metadata": {
    "colab": {
     "base_uri": "https://localhost:8080/",
     "height": 607
    },
    "colab_type": "code",
    "id": "hVwqOGV6gQOA",
    "outputId": "898fa0ca-fcec-4e8e-ea00-4accd5ec6993"
   },
   "outputs": [
    {
     "data": {
      "text/html": [
       "<div>\n",
       "<style scoped>\n",
       "    .dataframe tbody tr th:only-of-type {\n",
       "        vertical-align: middle;\n",
       "    }\n",
       "\n",
       "    .dataframe tbody tr th {\n",
       "        vertical-align: top;\n",
       "    }\n",
       "\n",
       "    .dataframe thead th {\n",
       "        text-align: right;\n",
       "    }\n",
       "</style>\n",
       "<table border=\"1\" class=\"dataframe\">\n",
       "  <thead>\n",
       "    <tr style=\"text-align: right;\">\n",
       "      <th></th>\n",
       "      <th>nome_antigo</th>\n",
       "      <th>nome_novo</th>\n",
       "    </tr>\n",
       "  </thead>\n",
       "  <tbody>\n",
       "    <tr>\n",
       "      <th>0</th>\n",
       "      <td>Store</td>\n",
       "      <td>ID_loja</td>\n",
       "    </tr>\n",
       "    <tr>\n",
       "      <th>1</th>\n",
       "      <td>DayOfWeek</td>\n",
       "      <td>dia_da_semana</td>\n",
       "    </tr>\n",
       "    <tr>\n",
       "      <th>2</th>\n",
       "      <td>Date</td>\n",
       "      <td>data</td>\n",
       "    </tr>\n",
       "    <tr>\n",
       "      <th>3</th>\n",
       "      <td>Sales</td>\n",
       "      <td>faturamento</td>\n",
       "    </tr>\n",
       "    <tr>\n",
       "      <th>4</th>\n",
       "      <td>Customers</td>\n",
       "      <td>clientes</td>\n",
       "    </tr>\n",
       "    <tr>\n",
       "      <th>5</th>\n",
       "      <td>Open</td>\n",
       "      <td>loja_aberta</td>\n",
       "    </tr>\n",
       "    <tr>\n",
       "      <th>6</th>\n",
       "      <td>Promo</td>\n",
       "      <td>promocao_no_dia</td>\n",
       "    </tr>\n",
       "    <tr>\n",
       "      <th>7</th>\n",
       "      <td>StateHoliday</td>\n",
       "      <td>feriado_tipo</td>\n",
       "    </tr>\n",
       "    <tr>\n",
       "      <th>8</th>\n",
       "      <td>SchoolHoliday</td>\n",
       "      <td>feriado_escolar</td>\n",
       "    </tr>\n",
       "    <tr>\n",
       "      <th>9</th>\n",
       "      <td>StoreType</td>\n",
       "      <td>loja_tipo</td>\n",
       "    </tr>\n",
       "    <tr>\n",
       "      <th>10</th>\n",
       "      <td>Assortment</td>\n",
       "      <td>sortimento</td>\n",
       "    </tr>\n",
       "    <tr>\n",
       "      <th>11</th>\n",
       "      <td>CompetitionDistance</td>\n",
       "      <td>comp_distancia</td>\n",
       "    </tr>\n",
       "    <tr>\n",
       "      <th>12</th>\n",
       "      <td>CompetitionOpenSinceMonth</td>\n",
       "      <td>comp_aberto_mes</td>\n",
       "    </tr>\n",
       "    <tr>\n",
       "      <th>13</th>\n",
       "      <td>CompetitionOpenSinceYear</td>\n",
       "      <td>comp_aberto_ano</td>\n",
       "    </tr>\n",
       "    <tr>\n",
       "      <th>14</th>\n",
       "      <td>Promo2</td>\n",
       "      <td>promo_continua</td>\n",
       "    </tr>\n",
       "    <tr>\n",
       "      <th>15</th>\n",
       "      <td>Promo2SinceWeek</td>\n",
       "      <td>promo_continua_semana</td>\n",
       "    </tr>\n",
       "    <tr>\n",
       "      <th>16</th>\n",
       "      <td>Promo2SinceYear</td>\n",
       "      <td>promo_continua_ano</td>\n",
       "    </tr>\n",
       "    <tr>\n",
       "      <th>17</th>\n",
       "      <td>PromoInterval</td>\n",
       "      <td>promo_continua_intervalo</td>\n",
       "    </tr>\n",
       "  </tbody>\n",
       "</table>\n",
       "</div>"
      ],
      "text/plain": [
       "                  nome_antigo                 nome_novo\n",
       "0                       Store                   ID_loja\n",
       "1                   DayOfWeek             dia_da_semana\n",
       "2                        Date                      data\n",
       "3                       Sales               faturamento\n",
       "4                   Customers                  clientes\n",
       "5                        Open               loja_aberta\n",
       "6                       Promo           promocao_no_dia\n",
       "7                StateHoliday              feriado_tipo\n",
       "8               SchoolHoliday           feriado_escolar\n",
       "9                   StoreType                 loja_tipo\n",
       "10                 Assortment                sortimento\n",
       "11        CompetitionDistance            comp_distancia\n",
       "12  CompetitionOpenSinceMonth           comp_aberto_mes\n",
       "13   CompetitionOpenSinceYear           comp_aberto_ano\n",
       "14                     Promo2            promo_continua\n",
       "15            Promo2SinceWeek     promo_continua_semana\n",
       "16            Promo2SinceYear        promo_continua_ano\n",
       "17              PromoInterval  promo_continua_intervalo"
      ]
     },
     "execution_count": 28,
     "metadata": {},
     "output_type": "execute_result"
    }
   ],
   "source": [
    "antigos_nomes = list(df_raw.columns)\n",
    "novos_nomes = ['ID_loja', 'dia_da_semana', 'data', 'faturamento', 'clientes', 'loja_aberta','promocao_no_dia', 'feriado_tipo', 'feriado_escolar', 'loja_tipo', 'sortimento', 'comp_distancia', 'comp_aberto_mes','comp_aberto_ano', 'promo_continua', 'promo_continua_semana', 'promo_continua_ano', 'promo_continua_intervalo']\n",
    "df_nomes = pd.DataFrame(data =  {'nome_antigo' : antigos_nomes, 'nome_novo' : novos_nomes})\n",
    "df_nomes"
   ]
  },
  {
   "cell_type": "code",
   "execution_count": 29,
   "metadata": {
    "colab": {
     "base_uri": "https://localhost:8080/",
     "height": 644
    },
    "colab_type": "code",
    "id": "iTlnrXS8b3a_",
    "outputId": "92d3cf12-e43a-4dff-edb5-5d68cd182d32"
   },
   "outputs": [
    {
     "data": {
      "text/html": [
       "<div>\n",
       "<style scoped>\n",
       "    .dataframe tbody tr th:only-of-type {\n",
       "        vertical-align: middle;\n",
       "    }\n",
       "\n",
       "    .dataframe tbody tr th {\n",
       "        vertical-align: top;\n",
       "    }\n",
       "\n",
       "    .dataframe thead th {\n",
       "        text-align: right;\n",
       "    }\n",
       "</style>\n",
       "<table border=\"1\" class=\"dataframe\">\n",
       "  <thead>\n",
       "    <tr style=\"text-align: right;\">\n",
       "      <th></th>\n",
       "      <th>3092</th>\n",
       "      <th>783898</th>\n",
       "      <th>284296</th>\n",
       "      <th>930462</th>\n",
       "      <th>951104</th>\n",
       "      <th>734062</th>\n",
       "      <th>95524</th>\n",
       "      <th>907290</th>\n",
       "      <th>49529</th>\n",
       "      <th>788779</th>\n",
       "    </tr>\n",
       "  </thead>\n",
       "  <tbody>\n",
       "    <tr>\n",
       "      <th>ID_loja</th>\n",
       "      <td>863</td>\n",
       "      <td>839</td>\n",
       "      <td>282</td>\n",
       "      <td>223</td>\n",
       "      <td>795</td>\n",
       "      <td>63</td>\n",
       "      <td>750</td>\n",
       "      <td>466</td>\n",
       "      <td>470</td>\n",
       "      <td>145</td>\n",
       "    </tr>\n",
       "    <tr>\n",
       "      <th>dia_da_semana</th>\n",
       "      <td>3</td>\n",
       "      <td>1</td>\n",
       "      <td>1</td>\n",
       "      <td>2</td>\n",
       "      <td>5</td>\n",
       "      <td>3</td>\n",
       "      <td>4</td>\n",
       "      <td>2</td>\n",
       "      <td>3</td>\n",
       "      <td>3</td>\n",
       "    </tr>\n",
       "    <tr>\n",
       "      <th>data</th>\n",
       "      <td>2015-07-29</td>\n",
       "      <td>2013-07-29</td>\n",
       "      <td>2014-11-10</td>\n",
       "      <td>2013-03-19</td>\n",
       "      <td>2013-03-01</td>\n",
       "      <td>2013-09-11</td>\n",
       "      <td>2015-05-07</td>\n",
       "      <td>2013-04-09</td>\n",
       "      <td>2015-06-17</td>\n",
       "      <td>2013-07-24</td>\n",
       "    </tr>\n",
       "    <tr>\n",
       "      <th>faturamento</th>\n",
       "      <td>9782</td>\n",
       "      <td>8391</td>\n",
       "      <td>5438</td>\n",
       "      <td>8660</td>\n",
       "      <td>3446</td>\n",
       "      <td>7312</td>\n",
       "      <td>5097</td>\n",
       "      <td>8972</td>\n",
       "      <td>13908</td>\n",
       "      <td>7037</td>\n",
       "    </tr>\n",
       "    <tr>\n",
       "      <th>clientes</th>\n",
       "      <td>1075</td>\n",
       "      <td>877</td>\n",
       "      <td>766</td>\n",
       "      <td>807</td>\n",
       "      <td>434</td>\n",
       "      <td>622</td>\n",
       "      <td>398</td>\n",
       "      <td>839</td>\n",
       "      <td>1703</td>\n",
       "      <td>1334</td>\n",
       "    </tr>\n",
       "    <tr>\n",
       "      <th>loja_aberta</th>\n",
       "      <td>1</td>\n",
       "      <td>1</td>\n",
       "      <td>1</td>\n",
       "      <td>1</td>\n",
       "      <td>1</td>\n",
       "      <td>1</td>\n",
       "      <td>1</td>\n",
       "      <td>1</td>\n",
       "      <td>1</td>\n",
       "      <td>1</td>\n",
       "    </tr>\n",
       "    <tr>\n",
       "      <th>promocao_no_dia</th>\n",
       "      <td>1</td>\n",
       "      <td>1</td>\n",
       "      <td>1</td>\n",
       "      <td>1</td>\n",
       "      <td>0</td>\n",
       "      <td>1</td>\n",
       "      <td>1</td>\n",
       "      <td>1</td>\n",
       "      <td>1</td>\n",
       "      <td>0</td>\n",
       "    </tr>\n",
       "    <tr>\n",
       "      <th>feriado_tipo</th>\n",
       "      <td>0</td>\n",
       "      <td>0</td>\n",
       "      <td>0</td>\n",
       "      <td>0</td>\n",
       "      <td>0</td>\n",
       "      <td>0</td>\n",
       "      <td>0</td>\n",
       "      <td>0</td>\n",
       "      <td>0</td>\n",
       "      <td>0</td>\n",
       "    </tr>\n",
       "    <tr>\n",
       "      <th>feriado_escolar</th>\n",
       "      <td>1</td>\n",
       "      <td>1</td>\n",
       "      <td>0</td>\n",
       "      <td>0</td>\n",
       "      <td>0</td>\n",
       "      <td>0</td>\n",
       "      <td>0</td>\n",
       "      <td>0</td>\n",
       "      <td>0</td>\n",
       "      <td>0</td>\n",
       "    </tr>\n",
       "    <tr>\n",
       "      <th>loja_tipo</th>\n",
       "      <td>a</td>\n",
       "      <td>c</td>\n",
       "      <td>a</td>\n",
       "      <td>d</td>\n",
       "      <td>d</td>\n",
       "      <td>c</td>\n",
       "      <td>d</td>\n",
       "      <td>a</td>\n",
       "      <td>a</td>\n",
       "      <td>a</td>\n",
       "    </tr>\n",
       "    <tr>\n",
       "      <th>sortimento</th>\n",
       "      <td>c</td>\n",
       "      <td>a</td>\n",
       "      <td>a</td>\n",
       "      <td>c</td>\n",
       "      <td>a</td>\n",
       "      <td>c</td>\n",
       "      <td>a</td>\n",
       "      <td>c</td>\n",
       "      <td>c</td>\n",
       "      <td>a</td>\n",
       "    </tr>\n",
       "    <tr>\n",
       "      <th>comp_distancia</th>\n",
       "      <td>21370</td>\n",
       "      <td>240</td>\n",
       "      <td>1220</td>\n",
       "      <td>2920</td>\n",
       "      <td>510</td>\n",
       "      <td>3700</td>\n",
       "      <td>8670</td>\n",
       "      <td>3110</td>\n",
       "      <td>50</td>\n",
       "      <td>280</td>\n",
       "    </tr>\n",
       "    <tr>\n",
       "      <th>comp_aberto_mes</th>\n",
       "      <td>11</td>\n",
       "      <td>1</td>\n",
       "      <td>12</td>\n",
       "      <td>10</td>\n",
       "      <td>NaN</td>\n",
       "      <td>6</td>\n",
       "      <td>2</td>\n",
       "      <td>3</td>\n",
       "      <td>NaN</td>\n",
       "      <td>NaN</td>\n",
       "    </tr>\n",
       "    <tr>\n",
       "      <th>comp_aberto_ano</th>\n",
       "      <td>2010</td>\n",
       "      <td>2015</td>\n",
       "      <td>2010</td>\n",
       "      <td>1995</td>\n",
       "      <td>NaN</td>\n",
       "      <td>2010</td>\n",
       "      <td>2002</td>\n",
       "      <td>2003</td>\n",
       "      <td>NaN</td>\n",
       "      <td>NaN</td>\n",
       "    </tr>\n",
       "    <tr>\n",
       "      <th>promo_continua</th>\n",
       "      <td>0</td>\n",
       "      <td>0</td>\n",
       "      <td>0</td>\n",
       "      <td>1</td>\n",
       "      <td>1</td>\n",
       "      <td>1</td>\n",
       "      <td>1</td>\n",
       "      <td>0</td>\n",
       "      <td>0</td>\n",
       "      <td>1</td>\n",
       "    </tr>\n",
       "    <tr>\n",
       "      <th>promo_continua_semana</th>\n",
       "      <td>NaN</td>\n",
       "      <td>NaN</td>\n",
       "      <td>NaN</td>\n",
       "      <td>27</td>\n",
       "      <td>35</td>\n",
       "      <td>18</td>\n",
       "      <td>14</td>\n",
       "      <td>NaN</td>\n",
       "      <td>NaN</td>\n",
       "      <td>45</td>\n",
       "    </tr>\n",
       "    <tr>\n",
       "      <th>promo_continua_ano</th>\n",
       "      <td>NaN</td>\n",
       "      <td>NaN</td>\n",
       "      <td>NaN</td>\n",
       "      <td>2011</td>\n",
       "      <td>2010</td>\n",
       "      <td>2010</td>\n",
       "      <td>2011</td>\n",
       "      <td>NaN</td>\n",
       "      <td>NaN</td>\n",
       "      <td>2009</td>\n",
       "    </tr>\n",
       "    <tr>\n",
       "      <th>promo_continua_intervalo</th>\n",
       "      <td>NaN</td>\n",
       "      <td>NaN</td>\n",
       "      <td>NaN</td>\n",
       "      <td>Jan,Apr,Jul,Oct</td>\n",
       "      <td>Mar,Jun,Sept,Dec</td>\n",
       "      <td>Feb,May,Aug,Nov</td>\n",
       "      <td>Jan,Apr,Jul,Oct</td>\n",
       "      <td>NaN</td>\n",
       "      <td>NaN</td>\n",
       "      <td>Feb,May,Aug,Nov</td>\n",
       "    </tr>\n",
       "  </tbody>\n",
       "</table>\n",
       "</div>"
      ],
      "text/plain": [
       "                              3092        783898      284296           930462  \\\n",
       "ID_loja                          863         839         282              223   \n",
       "dia_da_semana                      3           1           1                2   \n",
       "data                      2015-07-29  2013-07-29  2014-11-10       2013-03-19   \n",
       "faturamento                     9782        8391        5438             8660   \n",
       "clientes                        1075         877         766              807   \n",
       "loja_aberta                        1           1           1                1   \n",
       "promocao_no_dia                    1           1           1                1   \n",
       "feriado_tipo                       0           0           0                0   \n",
       "feriado_escolar                    1           1           0                0   \n",
       "loja_tipo                          a           c           a                d   \n",
       "sortimento                         c           a           a                c   \n",
       "comp_distancia                 21370         240        1220             2920   \n",
       "comp_aberto_mes                   11           1          12               10   \n",
       "comp_aberto_ano                 2010        2015        2010             1995   \n",
       "promo_continua                     0           0           0                1   \n",
       "promo_continua_semana            NaN         NaN         NaN               27   \n",
       "promo_continua_ano               NaN         NaN         NaN             2011   \n",
       "promo_continua_intervalo         NaN         NaN         NaN  Jan,Apr,Jul,Oct   \n",
       "\n",
       "                                    951104           734062           95524   \\\n",
       "ID_loja                                795               63              750   \n",
       "dia_da_semana                            5                3                4   \n",
       "data                            2013-03-01       2013-09-11       2015-05-07   \n",
       "faturamento                           3446             7312             5097   \n",
       "clientes                               434              622              398   \n",
       "loja_aberta                              1                1                1   \n",
       "promocao_no_dia                          0                1                1   \n",
       "feriado_tipo                             0                0                0   \n",
       "feriado_escolar                          0                0                0   \n",
       "loja_tipo                                d                c                d   \n",
       "sortimento                               a                c                a   \n",
       "comp_distancia                         510             3700             8670   \n",
       "comp_aberto_mes                        NaN                6                2   \n",
       "comp_aberto_ano                        NaN             2010             2002   \n",
       "promo_continua                           1                1                1   \n",
       "promo_continua_semana                   35               18               14   \n",
       "promo_continua_ano                    2010             2010             2011   \n",
       "promo_continua_intervalo  Mar,Jun,Sept,Dec  Feb,May,Aug,Nov  Jan,Apr,Jul,Oct   \n",
       "\n",
       "                              907290      49529            788779  \n",
       "ID_loja                          466         470              145  \n",
       "dia_da_semana                      2           3                3  \n",
       "data                      2013-04-09  2015-06-17       2013-07-24  \n",
       "faturamento                     8972       13908             7037  \n",
       "clientes                         839        1703             1334  \n",
       "loja_aberta                        1           1                1  \n",
       "promocao_no_dia                    1           1                0  \n",
       "feriado_tipo                       0           0                0  \n",
       "feriado_escolar                    0           0                0  \n",
       "loja_tipo                          a           a                a  \n",
       "sortimento                         c           c                a  \n",
       "comp_distancia                  3110          50              280  \n",
       "comp_aberto_mes                    3         NaN              NaN  \n",
       "comp_aberto_ano                 2003         NaN              NaN  \n",
       "promo_continua                     0           0                1  \n",
       "promo_continua_semana            NaN         NaN               45  \n",
       "promo_continua_ano               NaN         NaN             2009  \n",
       "promo_continua_intervalo         NaN         NaN  Feb,May,Aug,Nov  "
      ]
     },
     "execution_count": 29,
     "metadata": {},
     "output_type": "execute_result"
    }
   ],
   "source": [
    "df1.columns = novos_nomes\n",
    "df1.sample(10).T"
   ]
  },
  {
   "cell_type": "markdown",
   "metadata": {
    "colab_type": "text",
    "id": "0uhKIJl7l28R"
   },
   "source": [
    "## 1.3 Manipulação de Nulos (NaNs handling)"
   ]
  },
  {
   "cell_type": "markdown",
   "metadata": {
    "colab_type": "text",
    "id": "D_wUrHXMAKUt"
   },
   "source": [
    "Algumas variáveis do conjunto de dados apresentam nulos conforme descrito na tabela abaixo."
   ]
  },
  {
   "cell_type": "code",
   "execution_count": 30,
   "metadata": {
    "colab": {
     "base_uri": "https://localhost:8080/",
     "height": 119
    },
    "colab_type": "code",
    "id": "MTflht9uYGdt",
    "outputId": "7e088ff1-245d-4290-cf31-becfcbe71c75"
   },
   "outputs": [
    {
     "name": "stdout",
     "output_type": "stream",
     "text": [
      "comp_distancia                2642\n",
      "comp_aberto_mes             323348\n",
      "comp_aberto_ano             323348\n",
      "promo_continua_semana       508031\n",
      "promo_continua_ano          508031\n",
      "promo_continua_intervalo    508031\n"
     ]
    }
   ],
   "source": [
    "null_count = df1.isnull().sum()\n",
    "print(null_count[null_count > 0].to_string())"
   ]
  },
  {
   "cell_type": "markdown",
   "metadata": {
    "colab_type": "text",
    "id": "23UXkugUa4WF"
   },
   "source": [
    "Assim sendo, será feito **preenchimento de nulos** de acordo com as seguintes premissas.\n",
    "\n",
    ">  **Distancia de competidor - comp_distancia**\n",
    "\n",
    "A variável distância do competidor descreve a distância que determinada loja tem de um competidor. Assim, tem-se como **(premissa 1.0)** que a ausência de valor para esta variável descreve a ausência de um competidor em uma distância razoável. Portanto, o valor nulo deve ser preenchido com um valor alto e defini-se, então, um valor arbitrário de **230.000** que é 3 vezes superior ao maior valor que a variável assume em seu domínio **(premissa 1.1)**\n",
    "\n",
    "> **Mes e Ano que o competidor abriu - comp_aberto_mes e comp_aberto_ano**\n",
    "\n",
    "Parte-se do princípio que a ausência desses valores descreve, ou ausência de um competidor, ou a falta do registro da informação da abertura do competidor **(premissa 1.2)**. Assim assume-se para os registros nulos o valor do mês/ano da coluna data **(premissa 1.3)**\n",
    "\n",
    "> **Semana e Ano que promoção continua começou - promo_continua_semana e promo_continua_ano**\n",
    "\n",
    "Mesmas premissas de ausência e tratamento exposto no item anterior **(i.e premissas 1.2 e 1.3)**\n",
    "\n",
    "> **Intervalo de meses que a promoção durou - promo_continua_intervalo e em_promocao**\n",
    "\n",
    "Parte-se do princípio que a ausência desses valores descreve a não adesão a uma promoção contínua. Assim emprega-se o valor de zero. **(premissa 1.4 e 1.5)**\n",
    "\n",
    "Além disso, esta coluna tem valores de intervalo de quando ela aderiu a promoção. Assim sendo, cria-se uma coluna (em_promocao) com valores booleanos onde se determinada loja em determinada data estava na promoção continua.\n"
   ]
  },
  {
   "cell_type": "code",
   "execution_count": 31,
   "metadata": {
    "colab": {},
    "colab_type": "code",
    "id": "nU3w2QZBcCmx"
   },
   "outputs": [
    {
     "ename": "KeyboardInterrupt",
     "evalue": "",
     "output_type": "error",
     "traceback": [
      "\u001b[1;31m---------------------------------------------------------------------------\u001b[0m",
      "\u001b[1;31mKeyboardInterrupt\u001b[0m                         Traceback (most recent call last)",
      "\u001b[1;32m<ipython-input-31-3cdb9b84d59a>\u001b[0m in \u001b[0;36m<module>\u001b[1;34m\u001b[0m\n\u001b[0;32m      9\u001b[0m \u001b[0mdf1\u001b[0m\u001b[1;33m[\u001b[0m\u001b[1;34m'comp_aberto_ano'\u001b[0m\u001b[1;33m]\u001b[0m \u001b[1;33m=\u001b[0m \u001b[0mdf1\u001b[0m\u001b[1;33m.\u001b[0m\u001b[0mapply\u001b[0m\u001b[1;33m(\u001b[0m\u001b[1;32mlambda\u001b[0m \u001b[0mx\u001b[0m \u001b[1;33m:\u001b[0m \u001b[0mx\u001b[0m\u001b[1;33m[\u001b[0m\u001b[1;34m'data'\u001b[0m\u001b[1;33m]\u001b[0m\u001b[1;33m.\u001b[0m\u001b[0myear\u001b[0m \u001b[1;32mif\u001b[0m \u001b[0mmath\u001b[0m\u001b[1;33m.\u001b[0m\u001b[0misnan\u001b[0m\u001b[1;33m(\u001b[0m\u001b[0mx\u001b[0m\u001b[1;33m[\u001b[0m\u001b[1;34m'comp_aberto_ano'\u001b[0m\u001b[1;33m]\u001b[0m\u001b[1;33m)\u001b[0m \u001b[1;32melse\u001b[0m \u001b[0mx\u001b[0m\u001b[1;33m[\u001b[0m\u001b[1;34m'comp_aberto_ano'\u001b[0m\u001b[1;33m]\u001b[0m\u001b[1;33m,\u001b[0m \u001b[0maxis\u001b[0m \u001b[1;33m=\u001b[0m \u001b[1;36m1\u001b[0m\u001b[1;33m)\u001b[0m\u001b[1;33m\u001b[0m\u001b[1;33m\u001b[0m\u001b[0m\n\u001b[0;32m     10\u001b[0m \u001b[0mdf1\u001b[0m\u001b[1;33m[\u001b[0m\u001b[1;34m'promo_continua_semana'\u001b[0m\u001b[1;33m]\u001b[0m \u001b[1;33m=\u001b[0m \u001b[0mdf1\u001b[0m\u001b[1;33m.\u001b[0m\u001b[0mapply\u001b[0m\u001b[1;33m(\u001b[0m\u001b[1;32mlambda\u001b[0m \u001b[0mx\u001b[0m \u001b[1;33m:\u001b[0m \u001b[0mx\u001b[0m\u001b[1;33m[\u001b[0m\u001b[1;34m'data'\u001b[0m\u001b[1;33m]\u001b[0m\u001b[1;33m.\u001b[0m\u001b[0mweek\u001b[0m \u001b[1;32mif\u001b[0m \u001b[0mmath\u001b[0m\u001b[1;33m.\u001b[0m\u001b[0misnan\u001b[0m\u001b[1;33m(\u001b[0m\u001b[0mx\u001b[0m\u001b[1;33m[\u001b[0m\u001b[1;34m'promo_continua_semana'\u001b[0m\u001b[1;33m]\u001b[0m\u001b[1;33m)\u001b[0m \u001b[1;32melse\u001b[0m \u001b[0mx\u001b[0m\u001b[1;33m[\u001b[0m\u001b[1;34m'promo_continua_semana'\u001b[0m\u001b[1;33m]\u001b[0m\u001b[1;33m,\u001b[0m \u001b[0maxis\u001b[0m \u001b[1;33m=\u001b[0m \u001b[1;36m1\u001b[0m\u001b[1;33m)\u001b[0m\u001b[1;33m\u001b[0m\u001b[1;33m\u001b[0m\u001b[0m\n\u001b[1;32m---> 11\u001b[1;33m \u001b[0mdf1\u001b[0m\u001b[1;33m[\u001b[0m\u001b[1;34m'promo_continua_ano'\u001b[0m\u001b[1;33m]\u001b[0m \u001b[1;33m=\u001b[0m \u001b[0mdf1\u001b[0m\u001b[1;33m.\u001b[0m\u001b[0mapply\u001b[0m\u001b[1;33m(\u001b[0m\u001b[1;32mlambda\u001b[0m \u001b[0mx\u001b[0m \u001b[1;33m:\u001b[0m \u001b[0mx\u001b[0m\u001b[1;33m[\u001b[0m\u001b[1;34m'data'\u001b[0m\u001b[1;33m]\u001b[0m\u001b[1;33m.\u001b[0m\u001b[0myear\u001b[0m \u001b[1;32mif\u001b[0m \u001b[0mmath\u001b[0m\u001b[1;33m.\u001b[0m\u001b[0misnan\u001b[0m\u001b[1;33m(\u001b[0m\u001b[0mx\u001b[0m\u001b[1;33m[\u001b[0m\u001b[1;34m'promo_continua_ano'\u001b[0m\u001b[1;33m]\u001b[0m\u001b[1;33m)\u001b[0m \u001b[1;32melse\u001b[0m \u001b[0mx\u001b[0m\u001b[1;33m[\u001b[0m\u001b[1;34m'promo_continua_ano'\u001b[0m\u001b[1;33m]\u001b[0m\u001b[1;33m,\u001b[0m \u001b[0maxis\u001b[0m \u001b[1;33m=\u001b[0m \u001b[1;36m1\u001b[0m\u001b[1;33m)\u001b[0m\u001b[1;33m\u001b[0m\u001b[1;33m\u001b[0m\u001b[0m\n\u001b[0m\u001b[0;32m     12\u001b[0m \u001b[1;33m\u001b[0m\u001b[0m\n\u001b[0;32m     13\u001b[0m \u001b[1;31m# promo_continua_intervalo\u001b[0m\u001b[1;33m\u001b[0m\u001b[1;33m\u001b[0m\u001b[1;33m\u001b[0m\u001b[0m\n",
      "\u001b[1;32mD:\\ANACONDA\\envs\\Rossmann_sales\\lib\\site-packages\\pandas\\core\\frame.py\u001b[0m in \u001b[0;36mapply\u001b[1;34m(self, func, axis, raw, result_type, args, **kwds)\u001b[0m\n\u001b[0;32m   7543\u001b[0m             \u001b[0mkwds\u001b[0m\u001b[1;33m=\u001b[0m\u001b[0mkwds\u001b[0m\u001b[1;33m,\u001b[0m\u001b[1;33m\u001b[0m\u001b[1;33m\u001b[0m\u001b[0m\n\u001b[0;32m   7544\u001b[0m         )\n\u001b[1;32m-> 7545\u001b[1;33m         \u001b[1;32mreturn\u001b[0m \u001b[0mop\u001b[0m\u001b[1;33m.\u001b[0m\u001b[0mget_result\u001b[0m\u001b[1;33m(\u001b[0m\u001b[1;33m)\u001b[0m\u001b[1;33m\u001b[0m\u001b[1;33m\u001b[0m\u001b[0m\n\u001b[0m\u001b[0;32m   7546\u001b[0m \u001b[1;33m\u001b[0m\u001b[0m\n\u001b[0;32m   7547\u001b[0m     \u001b[1;32mdef\u001b[0m \u001b[0mapplymap\u001b[0m\u001b[1;33m(\u001b[0m\u001b[0mself\u001b[0m\u001b[1;33m,\u001b[0m \u001b[0mfunc\u001b[0m\u001b[1;33m)\u001b[0m \u001b[1;33m->\u001b[0m \u001b[1;34m\"DataFrame\"\u001b[0m\u001b[1;33m:\u001b[0m\u001b[1;33m\u001b[0m\u001b[1;33m\u001b[0m\u001b[0m\n",
      "\u001b[1;32mD:\\ANACONDA\\envs\\Rossmann_sales\\lib\\site-packages\\pandas\\core\\apply.py\u001b[0m in \u001b[0;36mget_result\u001b[1;34m(self)\u001b[0m\n\u001b[0;32m    178\u001b[0m             \u001b[1;32mreturn\u001b[0m \u001b[0mself\u001b[0m\u001b[1;33m.\u001b[0m\u001b[0mapply_raw\u001b[0m\u001b[1;33m(\u001b[0m\u001b[1;33m)\u001b[0m\u001b[1;33m\u001b[0m\u001b[1;33m\u001b[0m\u001b[0m\n\u001b[0;32m    179\u001b[0m \u001b[1;33m\u001b[0m\u001b[0m\n\u001b[1;32m--> 180\u001b[1;33m         \u001b[1;32mreturn\u001b[0m \u001b[0mself\u001b[0m\u001b[1;33m.\u001b[0m\u001b[0mapply_standard\u001b[0m\u001b[1;33m(\u001b[0m\u001b[1;33m)\u001b[0m\u001b[1;33m\u001b[0m\u001b[1;33m\u001b[0m\u001b[0m\n\u001b[0m\u001b[0;32m    181\u001b[0m \u001b[1;33m\u001b[0m\u001b[0m\n\u001b[0;32m    182\u001b[0m     \u001b[1;32mdef\u001b[0m \u001b[0mapply_empty_result\u001b[0m\u001b[1;33m(\u001b[0m\u001b[0mself\u001b[0m\u001b[1;33m)\u001b[0m\u001b[1;33m:\u001b[0m\u001b[1;33m\u001b[0m\u001b[1;33m\u001b[0m\u001b[0m\n",
      "\u001b[1;32mD:\\ANACONDA\\envs\\Rossmann_sales\\lib\\site-packages\\pandas\\core\\apply.py\u001b[0m in \u001b[0;36mapply_standard\u001b[1;34m(self)\u001b[0m\n\u001b[0;32m    253\u001b[0m \u001b[1;33m\u001b[0m\u001b[0m\n\u001b[0;32m    254\u001b[0m     \u001b[1;32mdef\u001b[0m \u001b[0mapply_standard\u001b[0m\u001b[1;33m(\u001b[0m\u001b[0mself\u001b[0m\u001b[1;33m)\u001b[0m\u001b[1;33m:\u001b[0m\u001b[1;33m\u001b[0m\u001b[1;33m\u001b[0m\u001b[0m\n\u001b[1;32m--> 255\u001b[1;33m         \u001b[0mresults\u001b[0m\u001b[1;33m,\u001b[0m \u001b[0mres_index\u001b[0m \u001b[1;33m=\u001b[0m \u001b[0mself\u001b[0m\u001b[1;33m.\u001b[0m\u001b[0mapply_series_generator\u001b[0m\u001b[1;33m(\u001b[0m\u001b[1;33m)\u001b[0m\u001b[1;33m\u001b[0m\u001b[1;33m\u001b[0m\u001b[0m\n\u001b[0m\u001b[0;32m    256\u001b[0m \u001b[1;33m\u001b[0m\u001b[0m\n\u001b[0;32m    257\u001b[0m         \u001b[1;31m# wrap results\u001b[0m\u001b[1;33m\u001b[0m\u001b[1;33m\u001b[0m\u001b[1;33m\u001b[0m\u001b[0m\n",
      "\u001b[1;32mD:\\ANACONDA\\envs\\Rossmann_sales\\lib\\site-packages\\pandas\\core\\apply.py\u001b[0m in \u001b[0;36mapply_series_generator\u001b[1;34m(self)\u001b[0m\n\u001b[0;32m    280\u001b[0m         \u001b[1;32melse\u001b[0m\u001b[1;33m:\u001b[0m\u001b[1;33m\u001b[0m\u001b[1;33m\u001b[0m\u001b[0m\n\u001b[0;32m    281\u001b[0m             \u001b[1;32mwith\u001b[0m \u001b[0moption_context\u001b[0m\u001b[1;33m(\u001b[0m\u001b[1;34m\"mode.chained_assignment\"\u001b[0m\u001b[1;33m,\u001b[0m \u001b[1;32mNone\u001b[0m\u001b[1;33m)\u001b[0m\u001b[1;33m:\u001b[0m\u001b[1;33m\u001b[0m\u001b[1;33m\u001b[0m\u001b[0m\n\u001b[1;32m--> 282\u001b[1;33m                 \u001b[1;32mfor\u001b[0m \u001b[0mi\u001b[0m\u001b[1;33m,\u001b[0m \u001b[0mv\u001b[0m \u001b[1;32min\u001b[0m \u001b[0menumerate\u001b[0m\u001b[1;33m(\u001b[0m\u001b[0mseries_gen\u001b[0m\u001b[1;33m)\u001b[0m\u001b[1;33m:\u001b[0m\u001b[1;33m\u001b[0m\u001b[1;33m\u001b[0m\u001b[0m\n\u001b[0m\u001b[0;32m    283\u001b[0m                     \u001b[1;31m# ignore SettingWithCopy here in case the user mutates\u001b[0m\u001b[1;33m\u001b[0m\u001b[1;33m\u001b[0m\u001b[1;33m\u001b[0m\u001b[0m\n\u001b[0;32m    284\u001b[0m                     \u001b[0mresults\u001b[0m\u001b[1;33m[\u001b[0m\u001b[0mi\u001b[0m\u001b[1;33m]\u001b[0m \u001b[1;33m=\u001b[0m \u001b[0mself\u001b[0m\u001b[1;33m.\u001b[0m\u001b[0mf\u001b[0m\u001b[1;33m(\u001b[0m\u001b[0mv\u001b[0m\u001b[1;33m)\u001b[0m\u001b[1;33m\u001b[0m\u001b[1;33m\u001b[0m\u001b[0m\n",
      "\u001b[1;32mD:\\ANACONDA\\envs\\Rossmann_sales\\lib\\site-packages\\pandas\\core\\apply.py\u001b[0m in \u001b[0;36mseries_generator\u001b[1;34m(self)\u001b[0m\n\u001b[0;32m    393\u001b[0m             \u001b[0mser\u001b[0m\u001b[1;33m.\u001b[0m\u001b[0m_mgr\u001b[0m \u001b[1;33m=\u001b[0m \u001b[0mmgr\u001b[0m\u001b[1;33m\u001b[0m\u001b[1;33m\u001b[0m\u001b[0m\n\u001b[0;32m    394\u001b[0m             \u001b[0mblk\u001b[0m\u001b[1;33m.\u001b[0m\u001b[0mvalues\u001b[0m \u001b[1;33m=\u001b[0m \u001b[0marr\u001b[0m\u001b[1;33m\u001b[0m\u001b[1;33m\u001b[0m\u001b[0m\n\u001b[1;32m--> 395\u001b[1;33m             \u001b[0mser\u001b[0m\u001b[1;33m.\u001b[0m\u001b[0mname\u001b[0m \u001b[1;33m=\u001b[0m \u001b[0mname\u001b[0m\u001b[1;33m\u001b[0m\u001b[1;33m\u001b[0m\u001b[0m\n\u001b[0m\u001b[0;32m    396\u001b[0m             \u001b[1;32myield\u001b[0m \u001b[0mser\u001b[0m\u001b[1;33m\u001b[0m\u001b[1;33m\u001b[0m\u001b[0m\n\u001b[0;32m    397\u001b[0m \u001b[1;33m\u001b[0m\u001b[0m\n",
      "\u001b[1;32mD:\\ANACONDA\\envs\\Rossmann_sales\\lib\\site-packages\\pandas\\core\\generic.py\u001b[0m in \u001b[0;36m__setattr__\u001b[1;34m(self, name, value)\u001b[0m\n\u001b[0;32m   5141\u001b[0m         \u001b[1;32mtry\u001b[0m\u001b[1;33m:\u001b[0m\u001b[1;33m\u001b[0m\u001b[1;33m\u001b[0m\u001b[0m\n\u001b[0;32m   5142\u001b[0m             \u001b[0mobject\u001b[0m\u001b[1;33m.\u001b[0m\u001b[0m__getattribute__\u001b[0m\u001b[1;33m(\u001b[0m\u001b[0mself\u001b[0m\u001b[1;33m,\u001b[0m \u001b[0mname\u001b[0m\u001b[1;33m)\u001b[0m\u001b[1;33m\u001b[0m\u001b[1;33m\u001b[0m\u001b[0m\n\u001b[1;32m-> 5143\u001b[1;33m             \u001b[1;32mreturn\u001b[0m \u001b[0mobject\u001b[0m\u001b[1;33m.\u001b[0m\u001b[0m__setattr__\u001b[0m\u001b[1;33m(\u001b[0m\u001b[0mself\u001b[0m\u001b[1;33m,\u001b[0m \u001b[0mname\u001b[0m\u001b[1;33m,\u001b[0m \u001b[0mvalue\u001b[0m\u001b[1;33m)\u001b[0m\u001b[1;33m\u001b[0m\u001b[1;33m\u001b[0m\u001b[0m\n\u001b[0m\u001b[0;32m   5144\u001b[0m         \u001b[1;32mexcept\u001b[0m \u001b[0mAttributeError\u001b[0m\u001b[1;33m:\u001b[0m\u001b[1;33m\u001b[0m\u001b[1;33m\u001b[0m\u001b[0m\n\u001b[0;32m   5145\u001b[0m             \u001b[1;32mpass\u001b[0m\u001b[1;33m\u001b[0m\u001b[1;33m\u001b[0m\u001b[0m\n",
      "\u001b[1;32mD:\\ANACONDA\\envs\\Rossmann_sales\\lib\\site-packages\\pandas\\core\\series.py\u001b[0m in \u001b[0;36mname\u001b[1;34m(self, value)\u001b[0m\n\u001b[0;32m    494\u001b[0m         \u001b[1;32mif\u001b[0m \u001b[1;32mnot\u001b[0m \u001b[0mis_hashable\u001b[0m\u001b[1;33m(\u001b[0m\u001b[0mvalue\u001b[0m\u001b[1;33m)\u001b[0m\u001b[1;33m:\u001b[0m\u001b[1;33m\u001b[0m\u001b[1;33m\u001b[0m\u001b[0m\n\u001b[0;32m    495\u001b[0m             \u001b[1;32mraise\u001b[0m \u001b[0mTypeError\u001b[0m\u001b[1;33m(\u001b[0m\u001b[1;34m\"Series.name must be a hashable type\"\u001b[0m\u001b[1;33m)\u001b[0m\u001b[1;33m\u001b[0m\u001b[1;33m\u001b[0m\u001b[0m\n\u001b[1;32m--> 496\u001b[1;33m         \u001b[0mobject\u001b[0m\u001b[1;33m.\u001b[0m\u001b[0m__setattr__\u001b[0m\u001b[1;33m(\u001b[0m\u001b[0mself\u001b[0m\u001b[1;33m,\u001b[0m \u001b[1;34m\"_name\"\u001b[0m\u001b[1;33m,\u001b[0m \u001b[0mvalue\u001b[0m\u001b[1;33m)\u001b[0m\u001b[1;33m\u001b[0m\u001b[1;33m\u001b[0m\u001b[0m\n\u001b[0m\u001b[0;32m    497\u001b[0m \u001b[1;33m\u001b[0m\u001b[0m\n\u001b[0;32m    498\u001b[0m     \u001b[1;33m@\u001b[0m\u001b[0mproperty\u001b[0m\u001b[1;33m\u001b[0m\u001b[1;33m\u001b[0m\u001b[0m\n",
      "\u001b[1;31mKeyboardInterrupt\u001b[0m: "
     ]
    }
   ],
   "source": [
    "# conversao de data para tipo datetime necessárias \n",
    "df1['data'] = pd.to_datetime(df1['data'] )\n",
    "\n",
    "# comp_distancia\n",
    "df1['comp_distancia'] = df1['comp_distancia'].apply(lambda x : 200000 if math.isnan(x) else x)\n",
    "\n",
    "# comp_aberto_mes, comp_aberto_ano, promo_continua_semana, promo_continua_ano\n",
    "df1['comp_aberto_mes'] = df1.apply(lambda x : x['data'].month if math.isnan(x['comp_aberto_mes']) else x['comp_aberto_mes'], axis = 1)\n",
    "df1['comp_aberto_ano'] = df1.apply(lambda x : x['data'].year if math.isnan(x['comp_aberto_ano']) else x['comp_aberto_ano'], axis = 1)\n",
    "df1['promo_continua_semana'] = df1.apply(lambda x : x['data'].week if math.isnan(x['promo_continua_semana']) else x['promo_continua_semana'], axis = 1)\n",
    "df1['promo_continua_ano'] = df1.apply(lambda x : x['data'].year if math.isnan(x['promo_continua_ano']) else x['promo_continua_ano'], axis = 1)\n",
    "\n",
    "# promo_continua_intervalo\n",
    "dict_meses = dict (zip (range(1,13), ['Jan','Feb','Mar','Apr','May','Jun','Jul','Aug','Sept','Oct','Nov','Dec']))\n",
    "df1['dict_meses'] = df1['data'].dt.month.map(dict_meses)\n",
    "df1['promo_continua_intervalo'].fillna(0, inplace= True)\n",
    "df1['em_promocao'] = df1[['promo_continua_intervalo', 'dict_meses']].apply(lambda x : 0 if x['promo_continua_intervalo'] == 0 else 1 if x['dict_meses'] in x['promo_continua_intervalo'].split(',') else 0, axis = 1)"
   ]
  },
  {
   "cell_type": "code",
   "execution_count": null,
   "metadata": {
    "colab": {
     "base_uri": "https://localhost:8080/",
     "height": 374
    },
    "colab_type": "code",
    "id": "p7mM4XaX9Acx",
    "outputId": "4df46b21-7226-4187-fdef-0c02cce43bde"
   },
   "outputs": [],
   "source": [
    "# checagem de nulos após tratamento\n",
    "df1.isnull().sum()"
   ]
  },
  {
   "cell_type": "code",
   "execution_count": null,
   "metadata": {
    "colab": {
     "base_uri": "https://localhost:8080/",
     "height": 723
    },
    "colab_type": "code",
    "id": "S7JQs7PwxfSm",
    "outputId": "dfb9d390-fd98-4959-856e-260549ee7940"
   },
   "outputs": [],
   "source": [
    "df1.sample(10).T"
   ]
  },
  {
   "cell_type": "markdown",
   "metadata": {
    "colab_type": "text",
    "id": "UM_3afH-YnnR"
   },
   "source": [
    "## 1.4 Conversão de tipos de dados (Data types)"
   ]
  },
  {
   "cell_type": "markdown",
   "metadata": {
    "colab_type": "text",
    "id": "BHVLdHd4pX1v"
   },
   "source": [
    "Algumas variáveis ainda estão armazenadas em tipos errados. Assim sendo, elas serão convertidas conforme a tabela abaixo."
   ]
  },
  {
   "cell_type": "code",
   "execution_count": null,
   "metadata": {
    "colab": {
     "base_uri": "https://localhost:8080/",
     "height": 204
    },
    "colab_type": "code",
    "id": "msGSSkY6YSlL",
    "outputId": "1821e123-744b-498e-a7fe-94e080db5def"
   },
   "outputs": [
    {
     "data": {
      "text/html": [
       "<div>\n",
       "<style scoped>\n",
       "    .dataframe tbody tr th:only-of-type {\n",
       "        vertical-align: middle;\n",
       "    }\n",
       "\n",
       "    .dataframe tbody tr th {\n",
       "        vertical-align: top;\n",
       "    }\n",
       "\n",
       "    .dataframe thead th {\n",
       "        text-align: right;\n",
       "    }\n",
       "</style>\n",
       "<table border=\"1\" class=\"dataframe\">\n",
       "  <thead>\n",
       "    <tr style=\"text-align: right;\">\n",
       "      <th></th>\n",
       "      <th>Variável</th>\n",
       "      <th>Tipo_anterior</th>\n",
       "      <th>Tipo_correto</th>\n",
       "    </tr>\n",
       "  </thead>\n",
       "  <tbody>\n",
       "    <tr>\n",
       "      <th>0</th>\n",
       "      <td>comp_distancia</td>\n",
       "      <td>float64</td>\n",
       "      <td>int64</td>\n",
       "    </tr>\n",
       "    <tr>\n",
       "      <th>1</th>\n",
       "      <td>comp_aberto_mes</td>\n",
       "      <td>float64</td>\n",
       "      <td>int64</td>\n",
       "    </tr>\n",
       "    <tr>\n",
       "      <th>2</th>\n",
       "      <td>comp_aberto_ano</td>\n",
       "      <td>float64</td>\n",
       "      <td>int64</td>\n",
       "    </tr>\n",
       "    <tr>\n",
       "      <th>3</th>\n",
       "      <td>promo_continua_semana</td>\n",
       "      <td>float64</td>\n",
       "      <td>int64</td>\n",
       "    </tr>\n",
       "    <tr>\n",
       "      <th>4</th>\n",
       "      <td>promo_continua_ano</td>\n",
       "      <td>float64</td>\n",
       "      <td>int64</td>\n",
       "    </tr>\n",
       "  </tbody>\n",
       "</table>\n",
       "</div>"
      ],
      "text/plain": [
       "                Variável Tipo_anterior Tipo_correto\n",
       "0         comp_distancia       float64        int64\n",
       "1        comp_aberto_mes       float64        int64\n",
       "2        comp_aberto_ano       float64        int64\n",
       "3  promo_continua_semana       float64        int64\n",
       "4     promo_continua_ano       float64        int64"
      ]
     },
     "execution_count": 39,
     "metadata": {
      "tags": []
     },
     "output_type": "execute_result"
    }
   ],
   "source": [
    "df_tipos = pd.DataFrame (\n",
    "    data = (\n",
    "        {'Variável': ['comp_distancia', 'comp_aberto_mes', 'comp_aberto_ano', 'promo_continua_semana', 'promo_continua_ano'],\n",
    "         'Tipo_anterior' : ['float64', 'float64', 'float64', 'float64', 'float64'],\n",
    "         'Tipo_correto' : ['int64', 'int64', 'int64', 'int64', 'int64']}\n",
    "         )\n",
    "    )\n",
    "\n",
    "df_tipos"
   ]
  },
  {
   "cell_type": "code",
   "execution_count": null,
   "metadata": {
    "colab": {
     "base_uri": "https://localhost:8080/",
     "height": 374
    },
    "colab_type": "code",
    "id": "Wmmxn9hayqYX",
    "outputId": "d865f029-c9f8-41be-ebfc-dd6e929ab684"
   },
   "outputs": [
    {
     "data": {
      "text/plain": [
       "ID_loja                              int64\n",
       "dia_da_semana                        int64\n",
       "data                        datetime64[ns]\n",
       "faturamento                          int64\n",
       "clientes                             int64\n",
       "loja_aberta                          int64\n",
       "promocao_no_dia                      int64\n",
       "feriado_tipo                        object\n",
       "feriado_escolar                      int64\n",
       "loja_tipo                           object\n",
       "sortimento                          object\n",
       "comp_distancia                       int64\n",
       "comp_aberto_mes                      int64\n",
       "comp_aberto_ano                      int64\n",
       "promo_continua                       int64\n",
       "promo_continua_semana                int64\n",
       "promo_continua_ano                   int64\n",
       "promo_continua_intervalo            object\n",
       "dict_meses                          object\n",
       "em_promocao                          int64\n",
       "dtype: object"
      ]
     },
     "execution_count": 40,
     "metadata": {
      "tags": []
     },
     "output_type": "execute_result"
    }
   ],
   "source": [
    "df1['comp_distancia'] = df1['comp_distancia'].astype('int64')\n",
    "df1['comp_aberto_mes'] = df1['comp_aberto_mes'].astype('int64')\n",
    "df1['comp_aberto_ano'] = df1['comp_aberto_ano'].astype('int64')\n",
    "df1['promo_continua_semana'] = df1['promo_continua_semana'].astype('int64')\n",
    "df1['promo_continua_ano'] = df1['promo_continua_ano'].astype('int64')\n",
    "\n",
    "df1.dtypes"
   ]
  },
  {
   "cell_type": "markdown",
   "metadata": {
    "colab_type": "text",
    "id": "w-QvDi5XJfD_"
   },
   "source": [
    "## 1.5 Descrição Estatística das variáveis"
   ]
  },
  {
   "cell_type": "markdown",
   "metadata": {
    "colab_type": "text",
    "id": "RbA7kDpxJl3y"
   },
   "source": []
  },
  {
   "cell_type": "code",
   "execution_count": null,
   "metadata": {
    "colab": {},
    "colab_type": "code",
    "id": "YC7RMUp6Jmht"
   },
   "outputs": [],
   "source": [
    "variaveis_num = df1.select_dtypes('int64', 'datetime64')\n",
    "variaveis_cat = df1.select_dtypes('object')"
   ]
  },
  {
   "cell_type": "markdown",
   "metadata": {
    "colab_type": "text",
    "id": "Vl-d8LXrHl5e"
   },
   "source": [
    "### Variáveis Numéricas"
   ]
  },
  {
   "cell_type": "code",
   "execution_count": null,
   "metadata": {
    "colab": {},
    "colab_type": "code",
    "id": "XYqZLhrHB5Ys"
   },
   "outputs": [],
   "source": [
    "# Medidas de Tendência Central\n",
    "ct1 = pd.DataFrame( variaveis_num.apply(np.mean)).T\n",
    "ct2 = pd.DataFrame( variaveis_num.apply(np.median)).T\n",
    "\n",
    "# Medidas de Dispersão\n",
    "d1 = pd.DataFrame( variaveis_num.apply( np.std )).T\n",
    "d2 = pd.DataFrame( variaveis_num.apply( min )).T\n",
    "d3 = pd.DataFrame( variaveis_num.apply( max )).T\n",
    "d4 = pd.DataFrame( variaveis_num.apply( lambda x : x.max() - x.min() )).T\n",
    "d5 = pd.DataFrame( variaveis_num.apply( lambda x : x.skew() )).T\n",
    "d6 = pd.DataFrame( variaveis_num.apply( lambda x : x.kurtosis() )).T\n",
    "\n",
    "# Concatenação em únido Dataframe\n",
    "my_describe = pd.concat ( (d2,d3,d4,ct1,ct2, d1, d5,d6)).T.reset_index()\n",
    "my_describe.columns =  ['Variável', 'min', 'max' ,'amplitude', 'média', 'mediana', 'desv_pad', 'assimetria', 'curtose']"
   ]
  },
  {
   "cell_type": "code",
   "execution_count": null,
   "metadata": {
    "colab": {
     "base_uri": "https://localhost:8080/",
     "height": 503
    },
    "colab_type": "code",
    "id": "uE151UEjEKUr",
    "outputId": "730c5538-a481-4ba9-a4a6-8700f4cd218b"
   },
   "outputs": [
    {
     "data": {
      "text/html": [
       "<div>\n",
       "<style scoped>\n",
       "    .dataframe tbody tr th:only-of-type {\n",
       "        vertical-align: middle;\n",
       "    }\n",
       "\n",
       "    .dataframe tbody tr th {\n",
       "        vertical-align: top;\n",
       "    }\n",
       "\n",
       "    .dataframe thead th {\n",
       "        text-align: right;\n",
       "    }\n",
       "</style>\n",
       "<table border=\"1\" class=\"dataframe\">\n",
       "  <thead>\n",
       "    <tr style=\"text-align: right;\">\n",
       "      <th></th>\n",
       "      <th>Variável</th>\n",
       "      <th>min</th>\n",
       "      <th>max</th>\n",
       "      <th>amplitude</th>\n",
       "      <th>média</th>\n",
       "      <th>mediana</th>\n",
       "      <th>desv_pad</th>\n",
       "      <th>assimetria</th>\n",
       "      <th>curtose</th>\n",
       "    </tr>\n",
       "  </thead>\n",
       "  <tbody>\n",
       "    <tr>\n",
       "      <th>0</th>\n",
       "      <td>ID_loja</td>\n",
       "      <td>1.0</td>\n",
       "      <td>1115.0</td>\n",
       "      <td>1114.0</td>\n",
       "      <td>558.429727</td>\n",
       "      <td>558.0</td>\n",
       "      <td>321.908493</td>\n",
       "      <td>-0.000955</td>\n",
       "      <td>-1.200524</td>\n",
       "    </tr>\n",
       "    <tr>\n",
       "      <th>1</th>\n",
       "      <td>dia_da_semana</td>\n",
       "      <td>1.0</td>\n",
       "      <td>7.0</td>\n",
       "      <td>6.0</td>\n",
       "      <td>3.998341</td>\n",
       "      <td>4.0</td>\n",
       "      <td>1.997390</td>\n",
       "      <td>0.001593</td>\n",
       "      <td>-1.246873</td>\n",
       "    </tr>\n",
       "    <tr>\n",
       "      <th>2</th>\n",
       "      <td>faturamento</td>\n",
       "      <td>0.0</td>\n",
       "      <td>41551.0</td>\n",
       "      <td>41551.0</td>\n",
       "      <td>5773.818972</td>\n",
       "      <td>5744.0</td>\n",
       "      <td>3849.924283</td>\n",
       "      <td>0.641460</td>\n",
       "      <td>1.778375</td>\n",
       "    </tr>\n",
       "    <tr>\n",
       "      <th>3</th>\n",
       "      <td>clientes</td>\n",
       "      <td>0.0</td>\n",
       "      <td>7388.0</td>\n",
       "      <td>7388.0</td>\n",
       "      <td>633.145946</td>\n",
       "      <td>609.0</td>\n",
       "      <td>464.411506</td>\n",
       "      <td>1.598650</td>\n",
       "      <td>7.091773</td>\n",
       "    </tr>\n",
       "    <tr>\n",
       "      <th>4</th>\n",
       "      <td>loja_aberta</td>\n",
       "      <td>0.0</td>\n",
       "      <td>1.0</td>\n",
       "      <td>1.0</td>\n",
       "      <td>0.830107</td>\n",
       "      <td>1.0</td>\n",
       "      <td>0.375539</td>\n",
       "      <td>-1.758045</td>\n",
       "      <td>1.090723</td>\n",
       "    </tr>\n",
       "    <tr>\n",
       "      <th>5</th>\n",
       "      <td>promocao_no_dia</td>\n",
       "      <td>0.0</td>\n",
       "      <td>1.0</td>\n",
       "      <td>1.0</td>\n",
       "      <td>0.381515</td>\n",
       "      <td>0.0</td>\n",
       "      <td>0.485758</td>\n",
       "      <td>0.487838</td>\n",
       "      <td>-1.762018</td>\n",
       "    </tr>\n",
       "    <tr>\n",
       "      <th>6</th>\n",
       "      <td>feriado_escolar</td>\n",
       "      <td>0.0</td>\n",
       "      <td>1.0</td>\n",
       "      <td>1.0</td>\n",
       "      <td>0.178647</td>\n",
       "      <td>0.0</td>\n",
       "      <td>0.383056</td>\n",
       "      <td>1.677842</td>\n",
       "      <td>0.815154</td>\n",
       "    </tr>\n",
       "    <tr>\n",
       "      <th>7</th>\n",
       "      <td>comp_distancia</td>\n",
       "      <td>20.0</td>\n",
       "      <td>200000.0</td>\n",
       "      <td>199980.0</td>\n",
       "      <td>5935.442677</td>\n",
       "      <td>2330.0</td>\n",
       "      <td>12547.646829</td>\n",
       "      <td>10.242344</td>\n",
       "      <td>147.789712</td>\n",
       "    </tr>\n",
       "    <tr>\n",
       "      <th>8</th>\n",
       "      <td>comp_aberto_mes</td>\n",
       "      <td>1.0</td>\n",
       "      <td>12.0</td>\n",
       "      <td>11.0</td>\n",
       "      <td>6.786849</td>\n",
       "      <td>7.0</td>\n",
       "      <td>3.311085</td>\n",
       "      <td>-0.042076</td>\n",
       "      <td>-1.232607</td>\n",
       "    </tr>\n",
       "    <tr>\n",
       "      <th>9</th>\n",
       "      <td>comp_aberto_ano</td>\n",
       "      <td>1900.0</td>\n",
       "      <td>2015.0</td>\n",
       "      <td>115.0</td>\n",
       "      <td>2010.324840</td>\n",
       "      <td>2012.0</td>\n",
       "      <td>5.515591</td>\n",
       "      <td>-7.235657</td>\n",
       "      <td>124.071304</td>\n",
       "    </tr>\n",
       "    <tr>\n",
       "      <th>10</th>\n",
       "      <td>promo_continua</td>\n",
       "      <td>0.0</td>\n",
       "      <td>1.0</td>\n",
       "      <td>1.0</td>\n",
       "      <td>0.500564</td>\n",
       "      <td>1.0</td>\n",
       "      <td>0.500000</td>\n",
       "      <td>-0.002255</td>\n",
       "      <td>-1.999999</td>\n",
       "    </tr>\n",
       "    <tr>\n",
       "      <th>11</th>\n",
       "      <td>promo_continua_semana</td>\n",
       "      <td>1.0</td>\n",
       "      <td>52.0</td>\n",
       "      <td>51.0</td>\n",
       "      <td>23.619033</td>\n",
       "      <td>22.0</td>\n",
       "      <td>14.310057</td>\n",
       "      <td>0.178723</td>\n",
       "      <td>-1.184046</td>\n",
       "    </tr>\n",
       "    <tr>\n",
       "      <th>12</th>\n",
       "      <td>promo_continua_ano</td>\n",
       "      <td>2009.0</td>\n",
       "      <td>2015.0</td>\n",
       "      <td>6.0</td>\n",
       "      <td>2012.793297</td>\n",
       "      <td>2013.0</td>\n",
       "      <td>1.662657</td>\n",
       "      <td>-0.784436</td>\n",
       "      <td>-0.210075</td>\n",
       "    </tr>\n",
       "    <tr>\n",
       "      <th>13</th>\n",
       "      <td>em_promocao</td>\n",
       "      <td>0.0</td>\n",
       "      <td>1.0</td>\n",
       "      <td>1.0</td>\n",
       "      <td>0.171835</td>\n",
       "      <td>0.0</td>\n",
       "      <td>0.377237</td>\n",
       "      <td>1.739838</td>\n",
       "      <td>1.027039</td>\n",
       "    </tr>\n",
       "  </tbody>\n",
       "</table>\n",
       "</div>"
      ],
      "text/plain": [
       "                 Variável     min  ...  assimetria     curtose\n",
       "0                 ID_loja     1.0  ...   -0.000955   -1.200524\n",
       "1           dia_da_semana     1.0  ...    0.001593   -1.246873\n",
       "2             faturamento     0.0  ...    0.641460    1.778375\n",
       "3                clientes     0.0  ...    1.598650    7.091773\n",
       "4             loja_aberta     0.0  ...   -1.758045    1.090723\n",
       "5         promocao_no_dia     0.0  ...    0.487838   -1.762018\n",
       "6         feriado_escolar     0.0  ...    1.677842    0.815154\n",
       "7          comp_distancia    20.0  ...   10.242344  147.789712\n",
       "8         comp_aberto_mes     1.0  ...   -0.042076   -1.232607\n",
       "9         comp_aberto_ano  1900.0  ...   -7.235657  124.071304\n",
       "10         promo_continua     0.0  ...   -0.002255   -1.999999\n",
       "11  promo_continua_semana     1.0  ...    0.178723   -1.184046\n",
       "12     promo_continua_ano  2009.0  ...   -0.784436   -0.210075\n",
       "13            em_promocao     0.0  ...    1.739838    1.027039\n",
       "\n",
       "[14 rows x 9 columns]"
      ]
     },
     "execution_count": 43,
     "metadata": {
      "tags": []
     },
     "output_type": "execute_result"
    }
   ],
   "source": [
    "# Show\n",
    "my_describe"
   ]
  },
  {
   "cell_type": "code",
   "execution_count": null,
   "metadata": {
    "colab": {
     "base_uri": "https://localhost:8080/",
     "height": 417
    },
    "colab_type": "code",
    "id": "gRq9jB3zDti7",
    "outputId": "0205c8cd-df8e-448a-d68c-9593cbaf97a1"
   },
   "outputs": [
    {
     "data": {
      "image/png": "[encoded data removed]",
      "text/plain": [
       "<Figure size 1440x720 with 2 Axes>"
      ]
     },
     "metadata": {
      "needs_background": "light",
      "tags": []
     },
     "output_type": "display_data"
    }
   ],
   "source": [
    "plt.figure(figsize=(20, 10))\n",
    "\n",
    "plt.subplot (1, 2, 1)\n",
    "sns.distplot(df1['faturamento']);\n",
    "\n",
    "\n",
    "plt.subplot (1, 2, 2)\n",
    "sns.distplot(df1['comp_distancia']);\n"
   ]
  },
  {
   "cell_type": "markdown",
   "metadata": {
    "colab_type": "text",
    "id": "cCmEVzRFFUEY"
   },
   "source": [
    "### Variáveis Categóricas"
   ]
  },
  {
   "cell_type": "code",
   "execution_count": null,
   "metadata": {
    "colab": {
     "base_uri": "https://localhost:8080/",
     "height": 119
    },
    "colab_type": "code",
    "id": "HANgUceBFS1v",
    "outputId": "dfae8384-0dcc-4318-d0ff-ea9bfba4caee"
   },
   "outputs": [
    {
     "data": {
      "text/plain": [
       "feriado_tipo                 4\n",
       "loja_tipo                    4\n",
       "sortimento                   3\n",
       "promo_continua_intervalo     4\n",
       "dict_meses                  12\n",
       "dtype: int64"
      ]
     },
     "execution_count": 45,
     "metadata": {
      "tags": []
     },
     "output_type": "execute_result"
    }
   ],
   "source": [
    "variaveis_cat.apply (lambda x: x.unique().shape[0])"
   ]
  },
  {
   "cell_type": "code",
   "execution_count": null,
   "metadata": {
    "colab": {
     "base_uri": "https://localhost:8080/",
     "height": 342
    },
    "colab_type": "code",
    "id": "yJdedtSCFm0n",
    "outputId": "a2787b46-110a-49df-8a7d-694da9a435f6"
   },
   "outputs": [
    {
     "data": {
      "image/png": "[encoded data removed]",
      "text/plain": [
       "<Figure size 1800x720 with 3 Axes>"
      ]
     },
     "metadata": {
      "needs_background": "light",
      "tags": []
     },
     "output_type": "display_data"
    }
   ],
   "source": [
    "aux1 = df1[(df1['feriado_tipo'] != '0' ) & (df1['faturamento'] > 0)]\n",
    "\n",
    "plt.figure(figsize=(25, 10))\n",
    "\n",
    "plt.subplot (1, 3, 1)\n",
    "sns.boxplot(x = 'feriado_tipo', y='faturamento', data = aux1);\n",
    "\n",
    "plt.subplot (1, 3, 2)\n",
    "sns.boxplot(x = 'loja_tipo', y='faturamento', data = aux1);\n",
    "\n",
    "plt.subplot (1, 3, 3)\n",
    "sns.boxplot(x = 'sortimento', y='faturamento', data = aux1);"
   ]
  },
  {
   "cell_type": "markdown",
   "metadata": {
    "colab_type": "text",
    "id": "1Ro6e8j-nHro"
   },
   "source": [
    "# 2.0 FEATURE ENGINEERING (COMMENTS TODO)\n",
    "\n"
   ]
  },
  {
   "cell_type": "markdown",
   "metadata": {
    "colab_type": "text",
    "id": "6tZ-WQO4z2w0"
   },
   "source": [
    "*Criação de variáveis para exploração de dados e modelagem*"
   ]
  },
  {
   "cell_type": "code",
   "execution_count": null,
   "metadata": {
    "colab": {},
    "colab_type": "code",
    "id": "XmVsL8CHIEIc"
   },
   "outputs": [],
   "source": [
    "df2 = df1.copy()"
   ]
  },
  {
   "cell_type": "markdown",
   "metadata": {
    "colab_type": "text",
    "id": "46uhiFaI1S5S"
   },
   "source": [
    "## 2.1 Mapa Mental de Hipóteses"
   ]
  },
  {
   "cell_type": "code",
   "execution_count": null,
   "metadata": {
    "colab": {
     "base_uri": "https://localhost:8080/",
     "height": 34
    },
    "colab_type": "code",
    "id": "jdsrtTP7z8B_",
    "outputId": "be69b5d1-076b-48ae-a3e0-2d9a5fa85287"
   },
   "outputs": [
    {
     "data": {
      "image/png": "/content/drive/My Drive/Data Analysis/Colab Notebooks/ROSSMANN/mindmap_rossmann.png",
      "text/plain": [
       "<IPython.core.display.Image object>"
      ]
     },
     "execution_count": 48,
     "metadata": {
      "tags": []
     },
     "output_type": "execute_result"
    }
   ],
   "source": [
    "Image('/content/drive/My Drive/Data Analysis/Colab Notebooks/ROSSMANN/mindmap_rossmann.png')"
   ]
  },
  {
   "cell_type": "markdown",
   "metadata": {
    "colab_type": "text",
    "id": "BSPoAwVs1WzF"
   },
   "source": [
    "## 2.2 Lista Final de Hipóteses"
   ]
  },
  {
   "cell_type": "markdown",
   "metadata": {
    "colab_type": "text",
    "id": "RBXOYa0W1wyN"
   },
   "source": [
    " 1. maior Sortimento > maior Vendas\n",
    "\n",
    " 2. competidor próximo > menor Vendas\n",
    "\n",
    " 3. competidor mais tempo aberto> maior Vendas\n",
    "\n",
    " 4. promoção continua mais tempo > maior vendas\n",
    "\n",
    " 5. promoções mais longas > maior vendas\n",
    " \n",
    " 6. promoções consecutivas > maior vendas\n",
    "\n",
    " 7. loja aberta no natal > maior vendas\n",
    "\n",
    " 8. loja com passar dos anos > maior vendas\n",
    "\n",
    " 9. loja no segundo semestre > maior vendas\n",
    "\n",
    " 10. loja depois do dia 10 no mês > maior vendas\n",
    "\n",
    " 11. lojas abertas no final de semana > menor vendas\n",
    "\n",
    " 12. lojas abertas nos feriados escolares > menor vendas"
   ]
  },
  {
   "cell_type": "markdown",
   "metadata": {
    "colab_type": "text",
    "id": "gg1-hBbA1adA"
   },
   "source": [
    "## 2.3 Criação de variáveis"
   ]
  },
  {
   "cell_type": "code",
   "execution_count": null,
   "metadata": {
    "colab": {},
    "colab_type": "code",
    "id": "CDJ7UhftecR2"
   },
   "outputs": [],
   "source": [
    "# split data em colunas\n",
    "df2['data_ano']           = df2['data'].dt.year\n",
    "df2['data_mes']           = df2['data'].dt.month\n",
    "df2['data_dia']           = df2['data'].dt.day\n",
    "df2['data_semana_do_ano'] = df2['data'].dt.weekofyear\n",
    "\n",
    "# ano semana\n",
    "df2['ano_semana'] = df2['data'].dt.strftime( '%Y-%W')\n",
    "\n",
    "# Explicitando as variaveis sortimento e tipo do feriado\n",
    "df2['sortimento'] = df2['sortimento'].apply(lambda x: 'basic' if x =='a' else 'extra' if x =='b' else 'extended')\n",
    "df2['feriado_tipo'] = df2['feriado_tipo'].apply(lambda x: 'publico' if x == 'a' else 'easter' if x =='b' else 'christimas' if x =='c' else 'regular_day')\n"
   ]
  },
  {
   "cell_type": "code",
   "execution_count": null,
   "metadata": {
    "colab": {},
    "colab_type": "code",
    "id": "AyTPTCGEPjsH"
   },
   "outputs": [],
   "source": [
    "# competition since\n",
    "df2['comp_aberto_desde'] = df2.apply(lambda x: datetime.datetime( year= x['comp_aberto_ano'], month= x['comp_aberto_mes'], day= 1), axis =1)\n",
    "df2['comp_tempo_mes'] = ((df2['data'] - df2['comp_aberto_desde']) / 30).apply(lambda x: x.days).astype(int)\n",
    "\n",
    "# promo since\n",
    "df2['promocao_desde'] = df2['promo_continua_ano'].astype(str) + '-' + df2['promo_continua_semana'].astype( str)\n",
    "df2['promocao_desde'] = df2['promocao_desde'].apply( lambda x: datetime.datetime.strptime( x + '-1', '%Y-%W-%w') - datetime.timedelta( days = 7))\n",
    "df2['promocao_tempo_semana'] = (( df2 ['data'] - df2['promocao_desde'] ) /7 ).apply( lambda x: x.days).astype( int)"
   ]
  },
  {
   "cell_type": "code",
   "execution_count": null,
   "metadata": {
    "colab": {
     "base_uri": "https://localhost:8080/",
     "height": 1000
    },
    "colab_type": "code",
    "id": "m-CKnaC8Qi2Y",
    "outputId": "8ea1fe43-2c79-47bb-c42b-56ca69faf2b6"
   },
   "outputs": [
    {
     "data": {
      "text/html": [
       "<div>\n",
       "<style scoped>\n",
       "    .dataframe tbody tr th:only-of-type {\n",
       "        vertical-align: middle;\n",
       "    }\n",
       "\n",
       "    .dataframe tbody tr th {\n",
       "        vertical-align: top;\n",
       "    }\n",
       "\n",
       "    .dataframe thead th {\n",
       "        text-align: right;\n",
       "    }\n",
       "</style>\n",
       "<table border=\"1\" class=\"dataframe\">\n",
       "  <thead>\n",
       "    <tr style=\"text-align: right;\">\n",
       "      <th></th>\n",
       "      <th>872781</th>\n",
       "      <th>332555</th>\n",
       "      <th>732107</th>\n",
       "      <th>477264</th>\n",
       "      <th>186592</th>\n",
       "      <th>650345</th>\n",
       "      <th>549602</th>\n",
       "      <th>839579</th>\n",
       "      <th>463332</th>\n",
       "      <th>516560</th>\n",
       "    </tr>\n",
       "  </thead>\n",
       "  <tbody>\n",
       "    <tr>\n",
       "      <th>ID_loja</th>\n",
       "      <td>522</td>\n",
       "      <td>964</td>\n",
       "      <td>338</td>\n",
       "      <td>830</td>\n",
       "      <td>388</td>\n",
       "      <td>1086</td>\n",
       "      <td>693</td>\n",
       "      <td>770</td>\n",
       "      <td>278</td>\n",
       "      <td>1101</td>\n",
       "    </tr>\n",
       "    <tr>\n",
       "      <th>dia_da_semana</th>\n",
       "      <td>5</td>\n",
       "      <td>6</td>\n",
       "      <td>5</td>\n",
       "      <td>3</td>\n",
       "      <td>6</td>\n",
       "      <td>2</td>\n",
       "      <td>1</td>\n",
       "      <td>7</td>\n",
       "      <td>1</td>\n",
       "      <td>3</td>\n",
       "    </tr>\n",
       "    <tr>\n",
       "      <th>data</th>\n",
       "      <td>2013-05-10 00:00:00</td>\n",
       "      <td>2014-09-20 00:00:00</td>\n",
       "      <td>2013-09-13 00:00:00</td>\n",
       "      <td>2014-04-30 00:00:00</td>\n",
       "      <td>2015-02-14 00:00:00</td>\n",
       "      <td>2013-11-26 00:00:00</td>\n",
       "      <td>2014-02-24 00:00:00</td>\n",
       "      <td>2013-06-09 00:00:00</td>\n",
       "      <td>2014-05-12 00:00:00</td>\n",
       "      <td>2014-03-26 00:00:00</td>\n",
       "    </tr>\n",
       "    <tr>\n",
       "      <th>faturamento</th>\n",
       "      <td>9588</td>\n",
       "      <td>8622</td>\n",
       "      <td>8307</td>\n",
       "      <td>7965</td>\n",
       "      <td>9218</td>\n",
       "      <td>6753</td>\n",
       "      <td>3508</td>\n",
       "      <td>0</td>\n",
       "      <td>6496</td>\n",
       "      <td>7595</td>\n",
       "    </tr>\n",
       "    <tr>\n",
       "      <th>clientes</th>\n",
       "      <td>787</td>\n",
       "      <td>1457</td>\n",
       "      <td>696</td>\n",
       "      <td>734</td>\n",
       "      <td>955</td>\n",
       "      <td>862</td>\n",
       "      <td>330</td>\n",
       "      <td>0</td>\n",
       "      <td>832</td>\n",
       "      <td>814</td>\n",
       "    </tr>\n",
       "    <tr>\n",
       "      <th>loja_aberta</th>\n",
       "      <td>1</td>\n",
       "      <td>1</td>\n",
       "      <td>1</td>\n",
       "      <td>1</td>\n",
       "      <td>1</td>\n",
       "      <td>1</td>\n",
       "      <td>1</td>\n",
       "      <td>0</td>\n",
       "      <td>1</td>\n",
       "      <td>1</td>\n",
       "    </tr>\n",
       "    <tr>\n",
       "      <th>promocao_no_dia</th>\n",
       "      <td>0</td>\n",
       "      <td>0</td>\n",
       "      <td>1</td>\n",
       "      <td>1</td>\n",
       "      <td>0</td>\n",
       "      <td>0</td>\n",
       "      <td>0</td>\n",
       "      <td>0</td>\n",
       "      <td>0</td>\n",
       "      <td>0</td>\n",
       "    </tr>\n",
       "    <tr>\n",
       "      <th>feriado_tipo</th>\n",
       "      <td>regular_day</td>\n",
       "      <td>regular_day</td>\n",
       "      <td>regular_day</td>\n",
       "      <td>regular_day</td>\n",
       "      <td>regular_day</td>\n",
       "      <td>regular_day</td>\n",
       "      <td>regular_day</td>\n",
       "      <td>regular_day</td>\n",
       "      <td>regular_day</td>\n",
       "      <td>regular_day</td>\n",
       "    </tr>\n",
       "    <tr>\n",
       "      <th>feriado_escolar</th>\n",
       "      <td>0</td>\n",
       "      <td>0</td>\n",
       "      <td>0</td>\n",
       "      <td>0</td>\n",
       "      <td>0</td>\n",
       "      <td>0</td>\n",
       "      <td>0</td>\n",
       "      <td>0</td>\n",
       "      <td>0</td>\n",
       "      <td>0</td>\n",
       "    </tr>\n",
       "    <tr>\n",
       "      <th>loja_tipo</th>\n",
       "      <td>d</td>\n",
       "      <td>a</td>\n",
       "      <td>a</td>\n",
       "      <td>a</td>\n",
       "      <td>a</td>\n",
       "      <td>a</td>\n",
       "      <td>d</td>\n",
       "      <td>a</td>\n",
       "      <td>a</td>\n",
       "      <td>d</td>\n",
       "    </tr>\n",
       "    <tr>\n",
       "      <th>sortimento</th>\n",
       "      <td>extended</td>\n",
       "      <td>basic</td>\n",
       "      <td>extended</td>\n",
       "      <td>extended</td>\n",
       "      <td>basic</td>\n",
       "      <td>basic</td>\n",
       "      <td>basic</td>\n",
       "      <td>extended</td>\n",
       "      <td>extended</td>\n",
       "      <td>extended</td>\n",
       "    </tr>\n",
       "    <tr>\n",
       "      <th>comp_distancia</th>\n",
       "      <td>7160</td>\n",
       "      <td>270</td>\n",
       "      <td>1590</td>\n",
       "      <td>6320</td>\n",
       "      <td>2260</td>\n",
       "      <td>180</td>\n",
       "      <td>450</td>\n",
       "      <td>100</td>\n",
       "      <td>9260</td>\n",
       "      <td>4060</td>\n",
       "    </tr>\n",
       "    <tr>\n",
       "      <th>comp_aberto_mes</th>\n",
       "      <td>11</td>\n",
       "      <td>9</td>\n",
       "      <td>9</td>\n",
       "      <td>4</td>\n",
       "      <td>2</td>\n",
       "      <td>11</td>\n",
       "      <td>2</td>\n",
       "      <td>4</td>\n",
       "      <td>2</td>\n",
       "      <td>9</td>\n",
       "    </tr>\n",
       "    <tr>\n",
       "      <th>comp_aberto_ano</th>\n",
       "      <td>2012</td>\n",
       "      <td>2014</td>\n",
       "      <td>2013</td>\n",
       "      <td>2014</td>\n",
       "      <td>2015</td>\n",
       "      <td>2013</td>\n",
       "      <td>2014</td>\n",
       "      <td>2015</td>\n",
       "      <td>2010</td>\n",
       "      <td>2012</td>\n",
       "    </tr>\n",
       "    <tr>\n",
       "      <th>promo_continua</th>\n",
       "      <td>1</td>\n",
       "      <td>1</td>\n",
       "      <td>1</td>\n",
       "      <td>1</td>\n",
       "      <td>0</td>\n",
       "      <td>1</td>\n",
       "      <td>1</td>\n",
       "      <td>0</td>\n",
       "      <td>0</td>\n",
       "      <td>0</td>\n",
       "    </tr>\n",
       "    <tr>\n",
       "      <th>promo_continua_semana</th>\n",
       "      <td>9</td>\n",
       "      <td>5</td>\n",
       "      <td>37</td>\n",
       "      <td>5</td>\n",
       "      <td>7</td>\n",
       "      <td>18</td>\n",
       "      <td>40</td>\n",
       "      <td>23</td>\n",
       "      <td>20</td>\n",
       "      <td>13</td>\n",
       "    </tr>\n",
       "    <tr>\n",
       "      <th>promo_continua_ano</th>\n",
       "      <td>2011</td>\n",
       "      <td>2013</td>\n",
       "      <td>2009</td>\n",
       "      <td>2011</td>\n",
       "      <td>2015</td>\n",
       "      <td>2011</td>\n",
       "      <td>2011</td>\n",
       "      <td>2013</td>\n",
       "      <td>2014</td>\n",
       "      <td>2014</td>\n",
       "    </tr>\n",
       "    <tr>\n",
       "      <th>promo_continua_intervalo</th>\n",
       "      <td>Jan,Apr,Jul,Oct</td>\n",
       "      <td>Feb,May,Aug,Nov</td>\n",
       "      <td>Jan,Apr,Jul,Oct</td>\n",
       "      <td>Jan,Apr,Jul,Oct</td>\n",
       "      <td>0</td>\n",
       "      <td>Feb,May,Aug,Nov</td>\n",
       "      <td>Jan,Apr,Jul,Oct</td>\n",
       "      <td>0</td>\n",
       "      <td>0</td>\n",
       "      <td>0</td>\n",
       "    </tr>\n",
       "    <tr>\n",
       "      <th>dict_meses</th>\n",
       "      <td>May</td>\n",
       "      <td>Sept</td>\n",
       "      <td>Sept</td>\n",
       "      <td>Apr</td>\n",
       "      <td>Feb</td>\n",
       "      <td>Nov</td>\n",
       "      <td>Feb</td>\n",
       "      <td>Jun</td>\n",
       "      <td>May</td>\n",
       "      <td>Mar</td>\n",
       "    </tr>\n",
       "    <tr>\n",
       "      <th>em_promocao</th>\n",
       "      <td>0</td>\n",
       "      <td>0</td>\n",
       "      <td>0</td>\n",
       "      <td>1</td>\n",
       "      <td>0</td>\n",
       "      <td>1</td>\n",
       "      <td>0</td>\n",
       "      <td>0</td>\n",
       "      <td>0</td>\n",
       "      <td>0</td>\n",
       "    </tr>\n",
       "    <tr>\n",
       "      <th>data_ano</th>\n",
       "      <td>2013</td>\n",
       "      <td>2014</td>\n",
       "      <td>2013</td>\n",
       "      <td>2014</td>\n",
       "      <td>2015</td>\n",
       "      <td>2013</td>\n",
       "      <td>2014</td>\n",
       "      <td>2013</td>\n",
       "      <td>2014</td>\n",
       "      <td>2014</td>\n",
       "    </tr>\n",
       "    <tr>\n",
       "      <th>data_mes</th>\n",
       "      <td>5</td>\n",
       "      <td>9</td>\n",
       "      <td>9</td>\n",
       "      <td>4</td>\n",
       "      <td>2</td>\n",
       "      <td>11</td>\n",
       "      <td>2</td>\n",
       "      <td>6</td>\n",
       "      <td>5</td>\n",
       "      <td>3</td>\n",
       "    </tr>\n",
       "    <tr>\n",
       "      <th>data_dia</th>\n",
       "      <td>10</td>\n",
       "      <td>20</td>\n",
       "      <td>13</td>\n",
       "      <td>30</td>\n",
       "      <td>14</td>\n",
       "      <td>26</td>\n",
       "      <td>24</td>\n",
       "      <td>9</td>\n",
       "      <td>12</td>\n",
       "      <td>26</td>\n",
       "    </tr>\n",
       "    <tr>\n",
       "      <th>data_semana_do_ano</th>\n",
       "      <td>19</td>\n",
       "      <td>38</td>\n",
       "      <td>37</td>\n",
       "      <td>18</td>\n",
       "      <td>7</td>\n",
       "      <td>48</td>\n",
       "      <td>9</td>\n",
       "      <td>23</td>\n",
       "      <td>20</td>\n",
       "      <td>13</td>\n",
       "    </tr>\n",
       "    <tr>\n",
       "      <th>ano_semana</th>\n",
       "      <td>2013-18</td>\n",
       "      <td>2014-37</td>\n",
       "      <td>2013-36</td>\n",
       "      <td>2014-17</td>\n",
       "      <td>2015-06</td>\n",
       "      <td>2013-47</td>\n",
       "      <td>2014-08</td>\n",
       "      <td>2013-22</td>\n",
       "      <td>2014-19</td>\n",
       "      <td>2014-12</td>\n",
       "    </tr>\n",
       "    <tr>\n",
       "      <th>comp_aberto_desde</th>\n",
       "      <td>2012-11-01 00:00:00</td>\n",
       "      <td>2014-09-01 00:00:00</td>\n",
       "      <td>2013-09-01 00:00:00</td>\n",
       "      <td>2014-04-01 00:00:00</td>\n",
       "      <td>2015-02-01 00:00:00</td>\n",
       "      <td>2013-11-01 00:00:00</td>\n",
       "      <td>2014-02-01 00:00:00</td>\n",
       "      <td>2015-04-01 00:00:00</td>\n",
       "      <td>2010-02-01 00:00:00</td>\n",
       "      <td>2012-09-01 00:00:00</td>\n",
       "    </tr>\n",
       "    <tr>\n",
       "      <th>comp_tempo_mes</th>\n",
       "      <td>6</td>\n",
       "      <td>0</td>\n",
       "      <td>0</td>\n",
       "      <td>0</td>\n",
       "      <td>0</td>\n",
       "      <td>0</td>\n",
       "      <td>0</td>\n",
       "      <td>-23</td>\n",
       "      <td>52</td>\n",
       "      <td>19</td>\n",
       "    </tr>\n",
       "    <tr>\n",
       "      <th>promocao_desde</th>\n",
       "      <td>2011-02-21 00:00:00</td>\n",
       "      <td>2013-01-28 00:00:00</td>\n",
       "      <td>2009-09-07 00:00:00</td>\n",
       "      <td>2011-01-24 00:00:00</td>\n",
       "      <td>2015-02-09 00:00:00</td>\n",
       "      <td>2011-04-25 00:00:00</td>\n",
       "      <td>2011-09-26 00:00:00</td>\n",
       "      <td>2013-06-03 00:00:00</td>\n",
       "      <td>2014-05-12 00:00:00</td>\n",
       "      <td>2014-03-24 00:00:00</td>\n",
       "    </tr>\n",
       "    <tr>\n",
       "      <th>promocao_tempo_semana</th>\n",
       "      <td>115</td>\n",
       "      <td>85</td>\n",
       "      <td>209</td>\n",
       "      <td>170</td>\n",
       "      <td>0</td>\n",
       "      <td>135</td>\n",
       "      <td>126</td>\n",
       "      <td>0</td>\n",
       "      <td>0</td>\n",
       "      <td>0</td>\n",
       "    </tr>\n",
       "  </tbody>\n",
       "</table>\n",
       "</div>"
      ],
      "text/plain": [
       "                                       872781  ...               516560\n",
       "ID_loja                                   522  ...                 1101\n",
       "dia_da_semana                               5  ...                    3\n",
       "data                      2013-05-10 00:00:00  ...  2014-03-26 00:00:00\n",
       "faturamento                              9588  ...                 7595\n",
       "clientes                                  787  ...                  814\n",
       "loja_aberta                                 1  ...                    1\n",
       "promocao_no_dia                             0  ...                    0\n",
       "feriado_tipo                      regular_day  ...          regular_day\n",
       "feriado_escolar                             0  ...                    0\n",
       "loja_tipo                                   d  ...                    d\n",
       "sortimento                           extended  ...             extended\n",
       "comp_distancia                           7160  ...                 4060\n",
       "comp_aberto_mes                            11  ...                    9\n",
       "comp_aberto_ano                          2012  ...                 2012\n",
       "promo_continua                              1  ...                    0\n",
       "promo_continua_semana                       9  ...                   13\n",
       "promo_continua_ano                       2011  ...                 2014\n",
       "promo_continua_intervalo      Jan,Apr,Jul,Oct  ...                    0\n",
       "dict_meses                                May  ...                  Mar\n",
       "em_promocao                                 0  ...                    0\n",
       "data_ano                                 2013  ...                 2014\n",
       "data_mes                                    5  ...                    3\n",
       "data_dia                                   10  ...                   26\n",
       "data_semana_do_ano                         19  ...                   13\n",
       "ano_semana                            2013-18  ...              2014-12\n",
       "comp_aberto_desde         2012-11-01 00:00:00  ...  2012-09-01 00:00:00\n",
       "comp_tempo_mes                              6  ...                   19\n",
       "promocao_desde            2011-02-21 00:00:00  ...  2014-03-24 00:00:00\n",
       "promocao_tempo_semana                     115  ...                    0\n",
       "\n",
       "[29 rows x 10 columns]"
      ]
     },
     "execution_count": 51,
     "metadata": {
      "tags": []
     },
     "output_type": "execute_result"
    }
   ],
   "source": [
    "df2.sample(10).T"
   ]
  },
  {
   "cell_type": "markdown",
   "metadata": {
    "colab_type": "text",
    "id": "sXqtIVDrVWEL"
   },
   "source": [
    "# 3.0 FILTRAGEM"
   ]
  },
  {
   "cell_type": "code",
   "execution_count": null,
   "metadata": {
    "colab": {},
    "colab_type": "code",
    "id": "qP-ZDMlJVnLX"
   },
   "outputs": [],
   "source": [
    "df3 = df2.copy()"
   ]
  },
  {
   "cell_type": "markdown",
   "metadata": {
    "colab_type": "text",
    "id": "iPdzdMS3VaeQ"
   },
   "source": [
    "## 3.1 Filtragem de Linhas (Restrições do négocio)"
   ]
  },
  {
   "cell_type": "markdown",
   "metadata": {
    "colab_type": "text",
    "id": "qyLRdCADWThs"
   },
   "source": [
    "Descarta-se registros em que determinada loja não estava aberta e em que o faturamento foi nulo"
   ]
  },
  {
   "cell_type": "code",
   "execution_count": null,
   "metadata": {
    "colab": {},
    "colab_type": "code",
    "id": "8ianbrRiVlyY"
   },
   "outputs": [],
   "source": [
    "df3 = df3[(df3['loja_aberta'] != 0) & (df3['faturamento'] > 0)]"
   ]
  },
  {
   "cell_type": "markdown",
   "metadata": {
    "colab_type": "text",
    "id": "CeqljL_PVd_N"
   },
   "source": [
    "## 3.2 Seleção das colunas (Restrições da modelagem)"
   ]
  },
  {
   "cell_type": "markdown",
   "metadata": {
    "colab_type": "text",
    "id": "Gs-zvTK-WeQp"
   },
   "source": [
    "Descarta-se as seguintes colunas:\n",
    "\n",
    "> **clientes**\n",
    "\n",
    "Não se tem esse valor no momento da predição (data leakage)\n",
    "\n",
    "> **promo_continua_intervalo**\n",
    "\n",
    "Essa coluna foi alvo de engenharia de variaveis para colunas que melhor explicam seus dados\n",
    "\n",
    "> **dict_meses**\n",
    "\n",
    "Essa coluna foi auxiliar para a coluna em_promocao\n",
    "\n",
    "> **loja_aberta**\n",
    "A variavel é booleana e como um de seus valores foi retirado na seção anterior ela apresentára o mesmo valor para todo o dataset. Assim, como é uma constante, necessita-se retirá-la\n"
   ]
  },
  {
   "cell_type": "code",
   "execution_count": null,
   "metadata": {
    "colab": {
     "base_uri": "https://localhost:8080/",
     "height": 153
    },
    "colab_type": "code",
    "id": "PsEc-SijWdsY",
    "outputId": "132ba4c8-9e97-4e12-c34e-7165b418d986"
   },
   "outputs": [
    {
     "data": {
      "text/plain": [
       "Index(['ID_loja', 'dia_da_semana', 'data', 'faturamento', 'promocao_no_dia',\n",
       "       'feriado_tipo', 'feriado_escolar', 'loja_tipo', 'sortimento',\n",
       "       'comp_distancia', 'comp_aberto_mes', 'comp_aberto_ano',\n",
       "       'promo_continua', 'promo_continua_semana', 'promo_continua_ano',\n",
       "       'em_promocao', 'data_ano', 'data_mes', 'data_dia', 'data_semana_do_ano',\n",
       "       'ano_semana', 'comp_aberto_desde', 'comp_tempo_mes', 'promocao_desde',\n",
       "       'promocao_tempo_semana'],\n",
       "      dtype='object')"
      ]
     },
     "execution_count": 54,
     "metadata": {
      "tags": []
     },
     "output_type": "execute_result"
    }
   ],
   "source": [
    "cols_to_drop = ['clientes', 'loja_aberta', 'dict_meses', 'promo_continua_intervalo']\n",
    "df3 = df3.drop (cols_to_drop, axis =1)\n",
    "df3.columns"
   ]
  },
  {
   "cell_type": "markdown",
   "metadata": {
    "colab_type": "text",
    "id": "Z2mjE93weeYi"
   },
   "source": [
    "# 4.0 ANÁLISE EXPLORATÓRIA DE DADOS (EDA) TODO"
   ]
  },
  {
   "cell_type": "markdown",
   "metadata": {
    "colab_type": "text",
    "id": "eSk1jpsuEmOH"
   },
   "source": [
    "*Como as variáveis impactam impactam o fenômeno e qual a extensão desse impacto.*"
   ]
  },
  {
   "cell_type": "code",
   "execution_count": null,
   "metadata": {
    "colab": {},
    "colab_type": "code",
    "id": "UxLDJakJYJCr"
   },
   "outputs": [],
   "source": [
    "# Cópia de segurança\n",
    "df4 = df3.copy()"
   ]
  },
  {
   "cell_type": "markdown",
   "metadata": {
    "colab_type": "text",
    "id": "3HL9EVl5FAPs"
   },
   "source": [
    "## 4.1 Análise Univariada"
   ]
  },
  {
   "cell_type": "code",
   "execution_count": null,
   "metadata": {
    "colab": {
     "base_uri": "https://localhost:8080/",
     "height": 420
    },
    "colab_type": "code",
    "id": "rP-vW-eZE-yX",
    "outputId": "4fda36de-372f-4399-ee25-3c03078b39b8"
   },
   "outputs": [
    {
     "data": {
      "image/png": "[encoded data removed]",
      "text/plain": [
       "<Figure size 1440x720 with 1 Axes>"
      ]
     },
     "metadata": {
      "needs_background": "light",
      "tags": []
     },
     "output_type": "display_data"
    }
   ],
   "source": [
    "#Variável alvo\n",
    "plt.figure(figsize=(20, 10))\n",
    "sns.distplot(df4['faturamento']);"
   ]
  },
  {
   "cell_type": "markdown",
   "metadata": {
    "colab_type": "text",
    "id": "f33487SxFQMo"
   },
   "source": [
    "Percebe-se uma variável com distribuição próxima a normalidade assimétrica com calda a esquerda.\n",
    "\n"
   ]
  },
  {
   "cell_type": "code",
   "execution_count": null,
   "metadata": {
    "colab": {
     "base_uri": "https://localhost:8080/",
     "height": 544
    },
    "colab_type": "code",
    "id": "BPO3EfbrZFy7",
    "outputId": "9bea4bf4-b979-42a3-d491-8744cff5721f"
   },
   "outputs": [
    {
     "data": {
      "image/png": "[encoded data removed]",
      "text/plain": [
       "<Figure size 2160x1440 with 16 Axes>"
      ]
     },
     "metadata": {
      "needs_background": "light",
      "tags": []
     },
     "output_type": "display_data"
    }
   ],
   "source": [
    "# Variáveis explicativas\n",
    "variaveis_num.hist( bins= 25, figsize=(30, 20));\n",
    "#variaveis_cat = df1.select_dtypes('object')"
   ]
  },
  {
   "cell_type": "markdown",
   "metadata": {
    "colab_type": "text",
    "id": "NguEcFhYG5-p"
   },
   "source": [
    "COMENTAR"
   ]
  },
  {
   "cell_type": "code",
   "execution_count": null,
   "metadata": {
    "colab": {
     "base_uri": "https://localhost:8080/",
     "height": 204
    },
    "colab_type": "code",
    "id": "r4uMEtjDeg79",
    "outputId": "6873c6d3-3e1f-4a7d-c2b3-f809850a6d16"
   },
   "outputs": [
    {
     "data": {
      "text/html": [
       "<div>\n",
       "<style scoped>\n",
       "    .dataframe tbody tr th:only-of-type {\n",
       "        vertical-align: middle;\n",
       "    }\n",
       "\n",
       "    .dataframe tbody tr th {\n",
       "        vertical-align: top;\n",
       "    }\n",
       "\n",
       "    .dataframe thead th {\n",
       "        text-align: right;\n",
       "    }\n",
       "</style>\n",
       "<table border=\"1\" class=\"dataframe\">\n",
       "  <thead>\n",
       "    <tr style=\"text-align: right;\">\n",
       "      <th></th>\n",
       "      <th>feriado_tipo</th>\n",
       "      <th>loja_tipo</th>\n",
       "      <th>sortimento</th>\n",
       "      <th>promo_continua_intervalo</th>\n",
       "      <th>dict_meses</th>\n",
       "    </tr>\n",
       "  </thead>\n",
       "  <tbody>\n",
       "    <tr>\n",
       "      <th>0</th>\n",
       "      <td>0</td>\n",
       "      <td>c</td>\n",
       "      <td>a</td>\n",
       "      <td>0</td>\n",
       "      <td>Jul</td>\n",
       "    </tr>\n",
       "    <tr>\n",
       "      <th>1</th>\n",
       "      <td>0</td>\n",
       "      <td>a</td>\n",
       "      <td>a</td>\n",
       "      <td>Jan,Apr,Jul,Oct</td>\n",
       "      <td>Jul</td>\n",
       "    </tr>\n",
       "    <tr>\n",
       "      <th>2</th>\n",
       "      <td>0</td>\n",
       "      <td>a</td>\n",
       "      <td>a</td>\n",
       "      <td>Jan,Apr,Jul,Oct</td>\n",
       "      <td>Jul</td>\n",
       "    </tr>\n",
       "    <tr>\n",
       "      <th>3</th>\n",
       "      <td>0</td>\n",
       "      <td>c</td>\n",
       "      <td>c</td>\n",
       "      <td>0</td>\n",
       "      <td>Jul</td>\n",
       "    </tr>\n",
       "    <tr>\n",
       "      <th>4</th>\n",
       "      <td>0</td>\n",
       "      <td>a</td>\n",
       "      <td>a</td>\n",
       "      <td>0</td>\n",
       "      <td>Jul</td>\n",
       "    </tr>\n",
       "  </tbody>\n",
       "</table>\n",
       "</div>"
      ],
      "text/plain": [
       "  feriado_tipo loja_tipo sortimento promo_continua_intervalo dict_meses\n",
       "0            0         c          a                        0        Jul\n",
       "1            0         a          a          Jan,Apr,Jul,Oct        Jul\n",
       "2            0         a          a          Jan,Apr,Jul,Oct        Jul\n",
       "3            0         c          c                        0        Jul\n",
       "4            0         a          a                        0        Jul"
      ]
     },
     "execution_count": 58,
     "metadata": {
      "tags": []
     },
     "output_type": "execute_result"
    }
   ],
   "source": [
    "variaveis_cat.head()"
   ]
  },
  {
   "cell_type": "code",
   "execution_count": null,
   "metadata": {
    "colab": {
     "base_uri": "https://localhost:8080/",
     "height": 416
    },
    "colab_type": "code",
    "id": "LqJt-N5aHseK",
    "outputId": "7b46b43b-0678-47d9-dff8-5ca84d339155"
   },
   "outputs": [
    {
     "data": {
      "image/png": "[encoded data removed]",
      "text/plain": [
       "<Figure size 1440x720 with 4 Axes>"
      ]
     },
     "metadata": {
      "needs_background": "light",
      "tags": []
     },
     "output_type": "display_data"
    }
   ],
   "source": [
    "plt.figure(figsize=(20, 10))\n",
    "plt.subplot (2, 2, 1)\n",
    "sns.countplot(df4['feriado_tipo']);\n",
    "\n",
    "plt.subplot (2, 2, 2)\n",
    "sns.kdeplot(df4[df4['feriado_tipo'] == 'regular_day']['faturamento'], label='regular_day', shade = True);\n",
    "\n",
    "plt.subplot (2, 2, 3)\n",
    "sns.countplot(df4[df4['feriado_tipo'] != 'regular_day']['feriado_tipo']);\n",
    "\n",
    "plt.subplot (2, 2, 4)\n",
    "sns.kdeplot(df4[df4['feriado_tipo'] == 'publico']['faturamento'], label='publico', shade = True);\n",
    "sns.kdeplot(df4[df4['feriado_tipo'] == 'easter']['faturamento'], label='easter', shade = True);\n",
    "sns.kdeplot(df4[df4['feriado_tipo'] == 'christimas']['faturamento'], label='christmas', shade = True);\n"
   ]
  },
  {
   "cell_type": "markdown",
   "metadata": {
    "colab_type": "text",
    "id": "0UZ3awvAOL9Q"
   },
   "source": [
    "COMENTAR"
   ]
  },
  {
   "cell_type": "code",
   "execution_count": null,
   "metadata": {
    "colab": {
     "base_uri": "https://localhost:8080/",
     "height": 416
    },
    "colab_type": "code",
    "id": "CW6VYt8iSySf",
    "outputId": "a1dc9739-b211-44f0-e19b-f276b11305fb"
   },
   "outputs": [
    {
     "data": {
      "image/png": "[encoded data removed]",
      "text/plain": [
       "<Figure size 1440x720 with 2 Axes>"
      ]
     },
     "metadata": {
      "needs_background": "light",
      "tags": []
     },
     "output_type": "display_data"
    }
   ],
   "source": [
    "plt.figure(figsize=(20, 10))\n",
    "plt.subplot (1,2, 1)\n",
    "sns.countplot(df4['loja_tipo']);\n",
    "\n",
    "plt.subplot (1, 2, 2)\n",
    "sns.kdeplot(df4[df4['loja_tipo'] == 'a']['faturamento'], label='a', shade = True);\n",
    "sns.kdeplot(df4[df4['loja_tipo'] == 'b']['faturamento'], label='b', shade = True);\n",
    "sns.kdeplot(df4[df4['loja_tipo'] == 'c']['faturamento'], label='c', shade = True);\n",
    "sns.kdeplot(df4[df4['loja_tipo'] == 'd']['faturamento'], label='d', shade = True);"
   ]
  },
  {
   "cell_type": "markdown",
   "metadata": {
    "colab_type": "text",
    "id": "0mJzrQYtTKqz"
   },
   "source": [
    "COMENTAR"
   ]
  },
  {
   "cell_type": "code",
   "execution_count": null,
   "metadata": {
    "colab": {
     "base_uri": "https://localhost:8080/",
     "height": 416
    },
    "colab_type": "code",
    "id": "ZBXvk-rdTLq2",
    "outputId": "c7302d63-311c-48a6-c42f-a81768d5cda6"
   },
   "outputs": [
    {
     "data": {
      "image/png": "[encoded data removed]",
      "text/plain": [
       "<Figure size 1440x720 with 2 Axes>"
      ]
     },
     "metadata": {
      "needs_background": "light",
      "tags": []
     },
     "output_type": "display_data"
    }
   ],
   "source": [
    "plt.figure(figsize=(20, 10))\n",
    "plt.subplot (1,2, 1)\n",
    "sns.countplot(df4['sortimento']);\n",
    "\n",
    "plt.subplot (1, 2, 2)\n",
    "sns.kdeplot(df4[df4['sortimento'] == 'basic']['faturamento'], label='basic', shade = True);\n",
    "sns.kdeplot(df4[df4['sortimento'] == 'extended']['faturamento'], label='extended', shade = True);\n",
    "sns.kdeplot(df4[df4['sortimento'] == 'extra']['faturamento'], label='extra', shade = True);"
   ]
  },
  {
   "cell_type": "markdown",
   "metadata": {
    "colab_type": "text",
    "id": "cs-ubsyuOQWN"
   },
   "source": [
    "## 4.2 Análise Bivariada"
   ]
  },
  {
   "cell_type": "markdown",
   "metadata": {
    "colab_type": "text",
    "id": "l70fs_dsUKsg"
   },
   "source": [
    "### **H1**. Lojas com maior sortimentos deveriam vender mais\n",
    "\n",
    "**FALSO**. Lojas com maior sortimento vendem menos"
   ]
  },
  {
   "cell_type": "code",
   "execution_count": null,
   "metadata": {
    "colab": {
     "base_uri": "https://localhost:8080/",
     "height": 976
    },
    "colab_type": "code",
    "id": "tUI9Sv3OUUlU",
    "outputId": "c817604b-291d-494b-b843-20e8e2f9d1fe"
   },
   "outputs": [
    {
     "data": {
      "image/png": "[encoded data removed]",
      "text/plain": [
       "<Figure size 720x360 with 1 Axes>"
      ]
     },
     "metadata": {
      "needs_background": "light",
      "tags": []
     },
     "output_type": "display_data"
    },
    {
     "data": {
      "image/png": "[encoded data removed]",
      "text/plain": [
       "<Figure size 720x360 with 1 Axes>"
      ]
     },
     "metadata": {
      "needs_background": "light",
      "tags": []
     },
     "output_type": "display_data"
    },
    {
     "data": {
      "image/png": "[encoded data removed]",
      "text/plain": [
       "<Figure size 720x360 with 1 Axes>"
      ]
     },
     "metadata": {
      "needs_background": "light",
      "tags": []
     },
     "output_type": "display_data"
    }
   ],
   "source": [
    "aux1 = df4[['sortimento', 'faturamento']].groupby('sortimento').sum().reset_index()\n",
    "plt.figure(figsize=(10, 5))\n",
    "sns.barplot(x = 'sortimento', y ='faturamento', data=aux1);\n",
    "\n",
    "aux2 = df4[['ano_semana', 'sortimento', 'faturamento']].groupby(['ano_semana', 'sortimento']).sum().reset_index()\n",
    "aux3 = aux2.pivot(index = 'ano_semana', columns= 'sortimento', values='faturamento')\n",
    "aux3.plot(figsize=(10, 5));\n",
    "\n",
    "aux4 = aux2[aux2['sortimento'] == 'extra']\n",
    "aux3 = aux2.pivot(index = 'ano_semana', columns= 'sortimento', values='faturamento')\n",
    "aux4.plot(figsize=(10, 5));\n"
   ]
  },
  {
   "cell_type": "markdown",
   "metadata": {
    "colab_type": "text",
    "id": "naZJuc-bUOEr"
   },
   "source": [
    "### **H2**. Lojas com competidores mais próximos deveriam vender menos\n",
    "**FALSO**. Lojas com competidores **mais próximos** vendem **mais**"
   ]
  },
  {
   "cell_type": "code",
   "execution_count": null,
   "metadata": {
    "colab": {
     "base_uri": "https://localhost:8080/",
     "height": 1000
    },
    "colab_type": "code",
    "id": "snwrTzSqU8zl",
    "outputId": "d82791ce-ca54-44e2-d4d6-187aa21a7ed8"
   },
   "outputs": [
    {
     "data": {
      "image/png": "[encoded data removed]",
      "text/plain": [
       "<Figure size 1440x720 with 1 Axes>"
      ]
     },
     "metadata": {
      "needs_background": "light",
      "tags": []
     },
     "output_type": "display_data"
    },
    {
     "data": {
      "image/png": "[encoded data removed]",
      "text/plain": [
       "<Figure size 1159.2x504 with 1 Axes>"
      ]
     },
     "metadata": {
      "needs_background": "light",
      "tags": []
     },
     "output_type": "display_data"
    },
    {
     "data": {
      "image/png": "[encoded data removed]",
      "text/plain": [
       "<Figure size 1440x720 with 1 Axes>"
      ]
     },
     "metadata": {
      "needs_background": "light",
      "tags": []
     },
     "output_type": "display_data"
    }
   ],
   "source": [
    "#scatter plot\n",
    "plt.figure(figsize=(20, 10))\n",
    "aux1 = df4[['comp_distancia' , 'faturamento']].groupby('comp_distancia').sum().reset_index()\n",
    "sns.scatterplot(x='comp_distancia', y = 'faturamento', data = aux1);\n",
    "plt.xlim(0, 20000);\n",
    "plt.ylim(0, 8e7);\n",
    "\n",
    "#linear model plot\n",
    "aux2 = df4.query('comp_distancia < 30000', engine='python')[['comp_distancia', 'faturamento']].groupby('comp_distancia').sum().reset_index()\n",
    "sns.lmplot(x='comp_distancia', y = 'faturamento', data = aux2, height= 7, aspect= 2.3, x_bins = 20,  line_kws={'color': 'red'});\n",
    "plt.ylim(0, 3.5e7);\n",
    "plt.xlim(0, 20000);\n",
    "\n",
    "#bar plot binned\n",
    "aux1 = df4[['comp_distancia', 'faturamento']].groupby('comp_distancia').sum().reset_index()\n",
    "\n",
    "bins = list( np.arange(0,20000,1000))\n",
    "\n",
    "aux1['comp_dist_binned'] = pd.cut(aux1['comp_distancia'], bins = bins)\n",
    "aux2 = aux1[['comp_dist_binned', 'faturamento']].groupby('comp_dist_binned').sum().reset_index()\n",
    "\n",
    "plt.figure(figsize=(20, 10))\n",
    "sns.barplot( x = 'comp_dist_binned', y = 'faturamento', data=aux2);\n",
    "plt.xticks(rotation=45);"
   ]
  },
  {
   "cell_type": "markdown",
   "metadata": {
    "colab_type": "text",
    "id": "BdTFP4U0UQ4F"
   },
   "source": [
    "### **H3**. Lojas com competidores à mais tempo deveriam vender mais.\n",
    "**FALSO.** Lojas com competidores à **mais tempo** **vendem menos**."
   ]
  },
  {
   "cell_type": "code",
   "execution_count": null,
   "metadata": {
    "colab": {
     "base_uri": "https://localhost:8080/",
     "height": 590
    },
    "colab_type": "code",
    "id": "BcMs26ArOZA3",
    "outputId": "64a54fe1-ebb7-42f4-d610-5ae72baa076b"
   },
   "outputs": [
    {
     "data": {
      "image/png": "[encoded data removed]",
      "text/plain": [
       "<Figure size 2160x720 with 1 Axes>"
      ]
     },
     "metadata": {
      "needs_background": "light",
      "tags": []
     },
     "output_type": "display_data"
    },
    {
     "data": {
      "image/png": "[encoded data removed]",
      "text/plain": [
       "<Figure size 2160x720 with 1 Axes>"
      ]
     },
     "metadata": {
      "needs_background": "light",
      "tags": []
     },
     "output_type": "display_data"
    }
   ],
   "source": [
    "aux1 = df4[['comp_tempo_mes', 'faturamento']].groupby('comp_tempo_mes').sum().reset_index()\n",
    "aux2 = aux1[(aux1['comp_tempo_mes'] < 120) & (aux1['comp_tempo_mes'] !=0)]\n",
    "plt.figure(figsize=(30, 10))\n",
    "sns.barplot(x='comp_tempo_mes', y = 'faturamento', data = aux2);\n",
    "plt.xticks(rotation = 90);\n",
    "plt.figure(figsize=(30, 10))\n",
    "sns.scatterplot(x='comp_tempo_mes', y = 'faturamento', data = aux2);\n",
    "plt.xticks(rotation = 90);"
   ]
  },
  {
   "cell_type": "markdown",
   "metadata": {
    "colab_type": "text",
    "id": "29WmR8f1OSSx"
   },
   "source": [
    "## 4.3 Análise Multivariada"
   ]
  },
  {
   "cell_type": "code",
   "execution_count": null,
   "metadata": {
    "colab": {},
    "colab_type": "code",
    "id": "3M0sFuSkOYNJ"
   },
   "outputs": [],
   "source": []
  },
  {
   "cell_type": "markdown",
   "metadata": {
    "colab_type": "text",
    "id": "arV1B7XhZG8X"
   },
   "source": [
    "# 5.0 PREPARAÇÃO DE DADOS (COMMENTS TODO)"
   ]
  },
  {
   "cell_type": "code",
   "execution_count": null,
   "metadata": {
    "colab": {},
    "colab_type": "code",
    "id": "VTTwTL1NIHVn"
   },
   "outputs": [],
   "source": [
    "df5 = df4.copy()"
   ]
  },
  {
   "cell_type": "markdown",
   "metadata": {
    "colab_type": "text",
    "id": "NYujp8ONZNY4"
   },
   "source": [
    "## 5.1 Normalização"
   ]
  },
  {
   "cell_type": "code",
   "execution_count": null,
   "metadata": {
    "colab": {},
    "colab_type": "code",
    "id": "lcnAJOJNHOV9"
   },
   "outputs": [],
   "source": []
  },
  {
   "cell_type": "markdown",
   "metadata": {
    "colab_type": "text",
    "id": "MFbzGVHYZOAJ"
   },
   "source": [
    "## 5.2 Rescala"
   ]
  },
  {
   "cell_type": "code",
   "execution_count": null,
   "metadata": {
    "colab": {
     "base_uri": "https://localhost:8080/",
     "height": 607
    },
    "colab_type": "code",
    "id": "7C1SRsBbHNvl",
    "outputId": "67721b34-56e2-44fb-d823-73497ca3b073"
   },
   "outputs": [
    {
     "data": {
      "text/html": [
       "<div>\n",
       "<style scoped>\n",
       "    .dataframe tbody tr th:only-of-type {\n",
       "        vertical-align: middle;\n",
       "    }\n",
       "\n",
       "    .dataframe tbody tr th {\n",
       "        vertical-align: top;\n",
       "    }\n",
       "\n",
       "    .dataframe thead th {\n",
       "        text-align: right;\n",
       "    }\n",
       "</style>\n",
       "<table border=\"1\" class=\"dataframe\">\n",
       "  <thead>\n",
       "    <tr style=\"text-align: right;\">\n",
       "      <th></th>\n",
       "      <th>0</th>\n",
       "      <th>1</th>\n",
       "      <th>2</th>\n",
       "      <th>3</th>\n",
       "      <th>4</th>\n",
       "    </tr>\n",
       "  </thead>\n",
       "  <tbody>\n",
       "    <tr>\n",
       "      <th>ID_loja</th>\n",
       "      <td>1</td>\n",
       "      <td>2</td>\n",
       "      <td>3</td>\n",
       "      <td>4</td>\n",
       "      <td>5</td>\n",
       "    </tr>\n",
       "    <tr>\n",
       "      <th>dia_da_semana</th>\n",
       "      <td>5</td>\n",
       "      <td>5</td>\n",
       "      <td>5</td>\n",
       "      <td>5</td>\n",
       "      <td>5</td>\n",
       "    </tr>\n",
       "    <tr>\n",
       "      <th>faturamento</th>\n",
       "      <td>5263</td>\n",
       "      <td>6064</td>\n",
       "      <td>8314</td>\n",
       "      <td>13995</td>\n",
       "      <td>4822</td>\n",
       "    </tr>\n",
       "    <tr>\n",
       "      <th>promocao_no_dia</th>\n",
       "      <td>1</td>\n",
       "      <td>1</td>\n",
       "      <td>1</td>\n",
       "      <td>1</td>\n",
       "      <td>1</td>\n",
       "    </tr>\n",
       "    <tr>\n",
       "      <th>feriado_escolar</th>\n",
       "      <td>1</td>\n",
       "      <td>1</td>\n",
       "      <td>1</td>\n",
       "      <td>1</td>\n",
       "      <td>1</td>\n",
       "    </tr>\n",
       "    <tr>\n",
       "      <th>comp_distancia</th>\n",
       "      <td>1270</td>\n",
       "      <td>570</td>\n",
       "      <td>14130</td>\n",
       "      <td>620</td>\n",
       "      <td>29910</td>\n",
       "    </tr>\n",
       "    <tr>\n",
       "      <th>comp_aberto_mes</th>\n",
       "      <td>9</td>\n",
       "      <td>11</td>\n",
       "      <td>12</td>\n",
       "      <td>9</td>\n",
       "      <td>4</td>\n",
       "    </tr>\n",
       "    <tr>\n",
       "      <th>comp_aberto_ano</th>\n",
       "      <td>2008</td>\n",
       "      <td>2007</td>\n",
       "      <td>2006</td>\n",
       "      <td>2009</td>\n",
       "      <td>2015</td>\n",
       "    </tr>\n",
       "    <tr>\n",
       "      <th>promo_continua</th>\n",
       "      <td>0</td>\n",
       "      <td>1</td>\n",
       "      <td>1</td>\n",
       "      <td>0</td>\n",
       "      <td>0</td>\n",
       "    </tr>\n",
       "    <tr>\n",
       "      <th>promo_continua_semana</th>\n",
       "      <td>31</td>\n",
       "      <td>13</td>\n",
       "      <td>14</td>\n",
       "      <td>31</td>\n",
       "      <td>31</td>\n",
       "    </tr>\n",
       "    <tr>\n",
       "      <th>promo_continua_ano</th>\n",
       "      <td>2015</td>\n",
       "      <td>2010</td>\n",
       "      <td>2011</td>\n",
       "      <td>2015</td>\n",
       "      <td>2015</td>\n",
       "    </tr>\n",
       "    <tr>\n",
       "      <th>em_promocao</th>\n",
       "      <td>0</td>\n",
       "      <td>1</td>\n",
       "      <td>1</td>\n",
       "      <td>0</td>\n",
       "      <td>0</td>\n",
       "    </tr>\n",
       "    <tr>\n",
       "      <th>data_ano</th>\n",
       "      <td>2015</td>\n",
       "      <td>2015</td>\n",
       "      <td>2015</td>\n",
       "      <td>2015</td>\n",
       "      <td>2015</td>\n",
       "    </tr>\n",
       "    <tr>\n",
       "      <th>data_mes</th>\n",
       "      <td>7</td>\n",
       "      <td>7</td>\n",
       "      <td>7</td>\n",
       "      <td>7</td>\n",
       "      <td>7</td>\n",
       "    </tr>\n",
       "    <tr>\n",
       "      <th>data_dia</th>\n",
       "      <td>31</td>\n",
       "      <td>31</td>\n",
       "      <td>31</td>\n",
       "      <td>31</td>\n",
       "      <td>31</td>\n",
       "    </tr>\n",
       "    <tr>\n",
       "      <th>data_semana_do_ano</th>\n",
       "      <td>31</td>\n",
       "      <td>31</td>\n",
       "      <td>31</td>\n",
       "      <td>31</td>\n",
       "      <td>31</td>\n",
       "    </tr>\n",
       "    <tr>\n",
       "      <th>comp_tempo_mes</th>\n",
       "      <td>84</td>\n",
       "      <td>94</td>\n",
       "      <td>105</td>\n",
       "      <td>71</td>\n",
       "      <td>4</td>\n",
       "    </tr>\n",
       "    <tr>\n",
       "      <th>promocao_tempo_semana</th>\n",
       "      <td>0</td>\n",
       "      <td>279</td>\n",
       "      <td>226</td>\n",
       "      <td>0</td>\n",
       "      <td>0</td>\n",
       "    </tr>\n",
       "  </tbody>\n",
       "</table>\n",
       "</div>"
      ],
      "text/plain": [
       "                          0     1      2      3      4\n",
       "ID_loja                   1     2      3      4      5\n",
       "dia_da_semana             5     5      5      5      5\n",
       "faturamento            5263  6064   8314  13995   4822\n",
       "promocao_no_dia           1     1      1      1      1\n",
       "feriado_escolar           1     1      1      1      1\n",
       "comp_distancia         1270   570  14130    620  29910\n",
       "comp_aberto_mes           9    11     12      9      4\n",
       "comp_aberto_ano        2008  2007   2006   2009   2015\n",
       "promo_continua            0     1      1      0      0\n",
       "promo_continua_semana    31    13     14     31     31\n",
       "promo_continua_ano     2015  2010   2011   2015   2015\n",
       "em_promocao               0     1      1      0      0\n",
       "data_ano               2015  2015   2015   2015   2015\n",
       "data_mes                  7     7      7      7      7\n",
       "data_dia                 31    31     31     31     31\n",
       "data_semana_do_ano       31    31     31     31     31\n",
       "comp_tempo_mes           84    94    105     71      4\n",
       "promocao_tempo_semana     0   279    226      0      0"
      ]
     },
     "execution_count": 66,
     "metadata": {
      "tags": []
     },
     "output_type": "execute_result"
    }
   ],
   "source": [
    "df5.select_dtypes( include=['int64', 'float64']).head().T"
   ]
  },
  {
   "cell_type": "code",
   "execution_count": null,
   "metadata": {
    "colab": {},
    "colab_type": "code",
    "id": "K64hL-NdIRmU"
   },
   "outputs": [],
   "source": [
    "rs = RobustScaler()\n",
    "mms = MinMaxScaler()\n",
    "\n",
    "# competition distance\n",
    "df5['comp_distancia'] = rs.fit_transform( df5[['comp_distancia']].values )\n",
    "\n",
    "# competition time month\n",
    "df5['comp_aberto_mes'] = rs.fit_transform( df5[['comp_aberto_mes']].values )\n",
    "\n",
    "# promo time week\n",
    "df5['promocao_tempo_semana'] = mms.fit_transform( df5[['promocao_tempo_semana']].values )\n",
    "\n",
    "#year\n",
    "df5['data_ano'] = mms.fit_transform( df5[['data_ano']].values )"
   ]
  },
  {
   "cell_type": "code",
   "execution_count": null,
   "metadata": {
    "colab": {
     "base_uri": "https://localhost:8080/",
     "height": 607
    },
    "colab_type": "code",
    "id": "k90JhDbN42HC",
    "outputId": "8246d39e-b63d-4d64-c414-3c85e4df103c"
   },
   "outputs": [
    {
     "data": {
      "text/html": [
       "<div>\n",
       "<style scoped>\n",
       "    .dataframe tbody tr th:only-of-type {\n",
       "        vertical-align: middle;\n",
       "    }\n",
       "\n",
       "    .dataframe tbody tr th {\n",
       "        vertical-align: top;\n",
       "    }\n",
       "\n",
       "    .dataframe thead th {\n",
       "        text-align: right;\n",
       "    }\n",
       "</style>\n",
       "<table border=\"1\" class=\"dataframe\">\n",
       "  <thead>\n",
       "    <tr style=\"text-align: right;\">\n",
       "      <th></th>\n",
       "      <th>0</th>\n",
       "      <th>1</th>\n",
       "      <th>2</th>\n",
       "      <th>3</th>\n",
       "      <th>4</th>\n",
       "    </tr>\n",
       "  </thead>\n",
       "  <tbody>\n",
       "    <tr>\n",
       "      <th>ID_loja</th>\n",
       "      <td>1.000000</td>\n",
       "      <td>2.000000</td>\n",
       "      <td>3.000000</td>\n",
       "      <td>4.000000</td>\n",
       "      <td>5.000000</td>\n",
       "    </tr>\n",
       "    <tr>\n",
       "      <th>dia_da_semana</th>\n",
       "      <td>5.000000</td>\n",
       "      <td>5.000000</td>\n",
       "      <td>5.000000</td>\n",
       "      <td>5.000000</td>\n",
       "      <td>5.000000</td>\n",
       "    </tr>\n",
       "    <tr>\n",
       "      <th>faturamento</th>\n",
       "      <td>5263.000000</td>\n",
       "      <td>6064.000000</td>\n",
       "      <td>8314.000000</td>\n",
       "      <td>13995.000000</td>\n",
       "      <td>4822.000000</td>\n",
       "    </tr>\n",
       "    <tr>\n",
       "      <th>promocao_no_dia</th>\n",
       "      <td>1.000000</td>\n",
       "      <td>1.000000</td>\n",
       "      <td>1.000000</td>\n",
       "      <td>1.000000</td>\n",
       "      <td>1.000000</td>\n",
       "    </tr>\n",
       "    <tr>\n",
       "      <th>feriado_escolar</th>\n",
       "      <td>1.000000</td>\n",
       "      <td>1.000000</td>\n",
       "      <td>1.000000</td>\n",
       "      <td>1.000000</td>\n",
       "      <td>1.000000</td>\n",
       "    </tr>\n",
       "    <tr>\n",
       "      <th>comp_distancia</th>\n",
       "      <td>-0.170968</td>\n",
       "      <td>-0.283871</td>\n",
       "      <td>1.903226</td>\n",
       "      <td>-0.275806</td>\n",
       "      <td>4.448387</td>\n",
       "    </tr>\n",
       "    <tr>\n",
       "      <th>comp_aberto_mes</th>\n",
       "      <td>0.333333</td>\n",
       "      <td>0.666667</td>\n",
       "      <td>0.833333</td>\n",
       "      <td>0.333333</td>\n",
       "      <td>-0.500000</td>\n",
       "    </tr>\n",
       "    <tr>\n",
       "      <th>comp_aberto_ano</th>\n",
       "      <td>2008.000000</td>\n",
       "      <td>2007.000000</td>\n",
       "      <td>2006.000000</td>\n",
       "      <td>2009.000000</td>\n",
       "      <td>2015.000000</td>\n",
       "    </tr>\n",
       "    <tr>\n",
       "      <th>promo_continua</th>\n",
       "      <td>0.000000</td>\n",
       "      <td>1.000000</td>\n",
       "      <td>1.000000</td>\n",
       "      <td>0.000000</td>\n",
       "      <td>0.000000</td>\n",
       "    </tr>\n",
       "    <tr>\n",
       "      <th>promo_continua_semana</th>\n",
       "      <td>31.000000</td>\n",
       "      <td>13.000000</td>\n",
       "      <td>14.000000</td>\n",
       "      <td>31.000000</td>\n",
       "      <td>31.000000</td>\n",
       "    </tr>\n",
       "    <tr>\n",
       "      <th>promo_continua_ano</th>\n",
       "      <td>2015.000000</td>\n",
       "      <td>2010.000000</td>\n",
       "      <td>2011.000000</td>\n",
       "      <td>2015.000000</td>\n",
       "      <td>2015.000000</td>\n",
       "    </tr>\n",
       "    <tr>\n",
       "      <th>em_promocao</th>\n",
       "      <td>0.000000</td>\n",
       "      <td>1.000000</td>\n",
       "      <td>1.000000</td>\n",
       "      <td>0.000000</td>\n",
       "      <td>0.000000</td>\n",
       "    </tr>\n",
       "    <tr>\n",
       "      <th>data_ano</th>\n",
       "      <td>1.000000</td>\n",
       "      <td>1.000000</td>\n",
       "      <td>1.000000</td>\n",
       "      <td>1.000000</td>\n",
       "      <td>1.000000</td>\n",
       "    </tr>\n",
       "    <tr>\n",
       "      <th>data_mes</th>\n",
       "      <td>7.000000</td>\n",
       "      <td>7.000000</td>\n",
       "      <td>7.000000</td>\n",
       "      <td>7.000000</td>\n",
       "      <td>7.000000</td>\n",
       "    </tr>\n",
       "    <tr>\n",
       "      <th>data_dia</th>\n",
       "      <td>31.000000</td>\n",
       "      <td>31.000000</td>\n",
       "      <td>31.000000</td>\n",
       "      <td>31.000000</td>\n",
       "      <td>31.000000</td>\n",
       "    </tr>\n",
       "    <tr>\n",
       "      <th>data_semana_do_ano</th>\n",
       "      <td>31.000000</td>\n",
       "      <td>31.000000</td>\n",
       "      <td>31.000000</td>\n",
       "      <td>31.000000</td>\n",
       "      <td>31.000000</td>\n",
       "    </tr>\n",
       "    <tr>\n",
       "      <th>comp_tempo_mes</th>\n",
       "      <td>84.000000</td>\n",
       "      <td>94.000000</td>\n",
       "      <td>105.000000</td>\n",
       "      <td>71.000000</td>\n",
       "      <td>4.000000</td>\n",
       "    </tr>\n",
       "    <tr>\n",
       "      <th>promocao_tempo_semana</th>\n",
       "      <td>0.287016</td>\n",
       "      <td>0.922551</td>\n",
       "      <td>0.801822</td>\n",
       "      <td>0.287016</td>\n",
       "      <td>0.287016</td>\n",
       "    </tr>\n",
       "  </tbody>\n",
       "</table>\n",
       "</div>"
      ],
      "text/plain": [
       "                                 0            1  ...             3            4\n",
       "ID_loja                   1.000000     2.000000  ...      4.000000     5.000000\n",
       "dia_da_semana             5.000000     5.000000  ...      5.000000     5.000000\n",
       "faturamento            5263.000000  6064.000000  ...  13995.000000  4822.000000\n",
       "promocao_no_dia           1.000000     1.000000  ...      1.000000     1.000000\n",
       "feriado_escolar           1.000000     1.000000  ...      1.000000     1.000000\n",
       "comp_distancia           -0.170968    -0.283871  ...     -0.275806     4.448387\n",
       "comp_aberto_mes           0.333333     0.666667  ...      0.333333    -0.500000\n",
       "comp_aberto_ano        2008.000000  2007.000000  ...   2009.000000  2015.000000\n",
       "promo_continua            0.000000     1.000000  ...      0.000000     0.000000\n",
       "promo_continua_semana    31.000000    13.000000  ...     31.000000    31.000000\n",
       "promo_continua_ano     2015.000000  2010.000000  ...   2015.000000  2015.000000\n",
       "em_promocao               0.000000     1.000000  ...      0.000000     0.000000\n",
       "data_ano                  1.000000     1.000000  ...      1.000000     1.000000\n",
       "data_mes                  7.000000     7.000000  ...      7.000000     7.000000\n",
       "data_dia                 31.000000    31.000000  ...     31.000000    31.000000\n",
       "data_semana_do_ano       31.000000    31.000000  ...     31.000000    31.000000\n",
       "comp_tempo_mes           84.000000    94.000000  ...     71.000000     4.000000\n",
       "promocao_tempo_semana     0.287016     0.922551  ...      0.287016     0.287016\n",
       "\n",
       "[18 rows x 5 columns]"
      ]
     },
     "execution_count": 68,
     "metadata": {
      "tags": []
     },
     "output_type": "execute_result"
    }
   ],
   "source": [
    "df5.select_dtypes( include=['int64', 'float64']).head().T"
   ]
  },
  {
   "cell_type": "markdown",
   "metadata": {
    "colab_type": "text",
    "id": "ph4UO-hyZQ0H"
   },
   "source": [
    "## 5.3 Transformações"
   ]
  },
  {
   "cell_type": "markdown",
   "metadata": {
    "colab_type": "text",
    "id": "89e4iwAERNaf"
   },
   "source": [
    "### 5.3.1 Encoding (TODO ler artigo de encoding nos comentarios)"
   ]
  },
  {
   "cell_type": "code",
   "execution_count": null,
   "metadata": {
    "colab": {
     "base_uri": "https://localhost:8080/",
     "height": 173
    },
    "colab_type": "code",
    "id": "pukXEX_q4cba",
    "outputId": "840bb847-6527-4989-bdac-cb2786b9c0c1"
   },
   "outputs": [
    {
     "data": {
      "text/html": [
       "<div>\n",
       "<style scoped>\n",
       "    .dataframe tbody tr th:only-of-type {\n",
       "        vertical-align: middle;\n",
       "    }\n",
       "\n",
       "    .dataframe tbody tr th {\n",
       "        vertical-align: top;\n",
       "    }\n",
       "\n",
       "    .dataframe thead th {\n",
       "        text-align: right;\n",
       "    }\n",
       "</style>\n",
       "<table border=\"1\" class=\"dataframe\">\n",
       "  <thead>\n",
       "    <tr style=\"text-align: right;\">\n",
       "      <th></th>\n",
       "      <th>0</th>\n",
       "      <th>1</th>\n",
       "      <th>2</th>\n",
       "      <th>3</th>\n",
       "      <th>4</th>\n",
       "    </tr>\n",
       "  </thead>\n",
       "  <tbody>\n",
       "    <tr>\n",
       "      <th>feriado_tipo</th>\n",
       "      <td>regular_day</td>\n",
       "      <td>regular_day</td>\n",
       "      <td>regular_day</td>\n",
       "      <td>regular_day</td>\n",
       "      <td>regular_day</td>\n",
       "    </tr>\n",
       "    <tr>\n",
       "      <th>loja_tipo</th>\n",
       "      <td>c</td>\n",
       "      <td>a</td>\n",
       "      <td>a</td>\n",
       "      <td>c</td>\n",
       "      <td>a</td>\n",
       "    </tr>\n",
       "    <tr>\n",
       "      <th>sortimento</th>\n",
       "      <td>basic</td>\n",
       "      <td>basic</td>\n",
       "      <td>basic</td>\n",
       "      <td>extended</td>\n",
       "      <td>basic</td>\n",
       "    </tr>\n",
       "    <tr>\n",
       "      <th>ano_semana</th>\n",
       "      <td>2015-30</td>\n",
       "      <td>2015-30</td>\n",
       "      <td>2015-30</td>\n",
       "      <td>2015-30</td>\n",
       "      <td>2015-30</td>\n",
       "    </tr>\n",
       "  </tbody>\n",
       "</table>\n",
       "</div>"
      ],
      "text/plain": [
       "                        0            1            2            3            4\n",
       "feriado_tipo  regular_day  regular_day  regular_day  regular_day  regular_day\n",
       "loja_tipo               c            a            a            c            a\n",
       "sortimento          basic        basic        basic     extended        basic\n",
       "ano_semana        2015-30      2015-30      2015-30      2015-30      2015-30"
      ]
     },
     "execution_count": 69,
     "metadata": {
      "tags": []
     },
     "output_type": "execute_result"
    }
   ],
   "source": [
    "df5.select_dtypes( include=['object']).head().T"
   ]
  },
  {
   "cell_type": "code",
   "execution_count": null,
   "metadata": {
    "colab": {},
    "colab_type": "code",
    "id": "3CbaN-sqZKBp"
   },
   "outputs": [],
   "source": [
    "#tipos de encodding: one-hot, label, ordinal, target, frequency, embedding\n",
    "#mais em https://towardsdatascience.com/all-about-categorical-variable-encoding-305f3361fd02\n",
    "\n",
    "#state holiday - one hot encoder\n",
    "df5 = pd.get_dummies (df5, prefix=['feriado_tipo'], columns=['feriado_tipo'])\n",
    "\n",
    "#store type - label encoder\n",
    "le = LabelEncoder()\n",
    "df5['loja_tipo'] = le.fit_transform( df5['loja_tipo'])\n",
    "\n",
    "#assortment - ordinal Encoder\n",
    "df5['sortimento'] = df5['sortimento'].map({'basic' : 1, 'extra': 2, 'extended': 3})\n"
   ]
  },
  {
   "cell_type": "code",
   "execution_count": null,
   "metadata": {
    "colab": {
     "base_uri": "https://localhost:8080/",
     "height": 968
    },
    "colab_type": "code",
    "id": "puVHVz1-4saP",
    "outputId": "6cb88bf4-88dc-4e4e-bd78-ccc697f30110"
   },
   "outputs": [
    {
     "data": {
      "text/html": [
       "<div>\n",
       "<style scoped>\n",
       "    .dataframe tbody tr th:only-of-type {\n",
       "        vertical-align: middle;\n",
       "    }\n",
       "\n",
       "    .dataframe tbody tr th {\n",
       "        vertical-align: top;\n",
       "    }\n",
       "\n",
       "    .dataframe thead th {\n",
       "        text-align: right;\n",
       "    }\n",
       "</style>\n",
       "<table border=\"1\" class=\"dataframe\">\n",
       "  <thead>\n",
       "    <tr style=\"text-align: right;\">\n",
       "      <th></th>\n",
       "      <th>0</th>\n",
       "      <th>1</th>\n",
       "      <th>2</th>\n",
       "      <th>3</th>\n",
       "      <th>4</th>\n",
       "    </tr>\n",
       "  </thead>\n",
       "  <tbody>\n",
       "    <tr>\n",
       "      <th>ID_loja</th>\n",
       "      <td>1</td>\n",
       "      <td>2</td>\n",
       "      <td>3</td>\n",
       "      <td>4</td>\n",
       "      <td>5</td>\n",
       "    </tr>\n",
       "    <tr>\n",
       "      <th>dia_da_semana</th>\n",
       "      <td>5</td>\n",
       "      <td>5</td>\n",
       "      <td>5</td>\n",
       "      <td>5</td>\n",
       "      <td>5</td>\n",
       "    </tr>\n",
       "    <tr>\n",
       "      <th>data</th>\n",
       "      <td>2015-07-31 00:00:00</td>\n",
       "      <td>2015-07-31 00:00:00</td>\n",
       "      <td>2015-07-31 00:00:00</td>\n",
       "      <td>2015-07-31 00:00:00</td>\n",
       "      <td>2015-07-31 00:00:00</td>\n",
       "    </tr>\n",
       "    <tr>\n",
       "      <th>faturamento</th>\n",
       "      <td>5263</td>\n",
       "      <td>6064</td>\n",
       "      <td>8314</td>\n",
       "      <td>13995</td>\n",
       "      <td>4822</td>\n",
       "    </tr>\n",
       "    <tr>\n",
       "      <th>promocao_no_dia</th>\n",
       "      <td>1</td>\n",
       "      <td>1</td>\n",
       "      <td>1</td>\n",
       "      <td>1</td>\n",
       "      <td>1</td>\n",
       "    </tr>\n",
       "    <tr>\n",
       "      <th>feriado_escolar</th>\n",
       "      <td>1</td>\n",
       "      <td>1</td>\n",
       "      <td>1</td>\n",
       "      <td>1</td>\n",
       "      <td>1</td>\n",
       "    </tr>\n",
       "    <tr>\n",
       "      <th>loja_tipo</th>\n",
       "      <td>2</td>\n",
       "      <td>0</td>\n",
       "      <td>0</td>\n",
       "      <td>2</td>\n",
       "      <td>0</td>\n",
       "    </tr>\n",
       "    <tr>\n",
       "      <th>sortimento</th>\n",
       "      <td>1</td>\n",
       "      <td>1</td>\n",
       "      <td>1</td>\n",
       "      <td>3</td>\n",
       "      <td>1</td>\n",
       "    </tr>\n",
       "    <tr>\n",
       "      <th>comp_distancia</th>\n",
       "      <td>-0.170968</td>\n",
       "      <td>-0.283871</td>\n",
       "      <td>1.90323</td>\n",
       "      <td>-0.275806</td>\n",
       "      <td>4.44839</td>\n",
       "    </tr>\n",
       "    <tr>\n",
       "      <th>comp_aberto_mes</th>\n",
       "      <td>0.333333</td>\n",
       "      <td>0.666667</td>\n",
       "      <td>0.833333</td>\n",
       "      <td>0.333333</td>\n",
       "      <td>-0.5</td>\n",
       "    </tr>\n",
       "    <tr>\n",
       "      <th>comp_aberto_ano</th>\n",
       "      <td>2008</td>\n",
       "      <td>2007</td>\n",
       "      <td>2006</td>\n",
       "      <td>2009</td>\n",
       "      <td>2015</td>\n",
       "    </tr>\n",
       "    <tr>\n",
       "      <th>promo_continua</th>\n",
       "      <td>0</td>\n",
       "      <td>1</td>\n",
       "      <td>1</td>\n",
       "      <td>0</td>\n",
       "      <td>0</td>\n",
       "    </tr>\n",
       "    <tr>\n",
       "      <th>promo_continua_semana</th>\n",
       "      <td>31</td>\n",
       "      <td>13</td>\n",
       "      <td>14</td>\n",
       "      <td>31</td>\n",
       "      <td>31</td>\n",
       "    </tr>\n",
       "    <tr>\n",
       "      <th>promo_continua_ano</th>\n",
       "      <td>2015</td>\n",
       "      <td>2010</td>\n",
       "      <td>2011</td>\n",
       "      <td>2015</td>\n",
       "      <td>2015</td>\n",
       "    </tr>\n",
       "    <tr>\n",
       "      <th>em_promocao</th>\n",
       "      <td>0</td>\n",
       "      <td>1</td>\n",
       "      <td>1</td>\n",
       "      <td>0</td>\n",
       "      <td>0</td>\n",
       "    </tr>\n",
       "    <tr>\n",
       "      <th>data_ano</th>\n",
       "      <td>1</td>\n",
       "      <td>1</td>\n",
       "      <td>1</td>\n",
       "      <td>1</td>\n",
       "      <td>1</td>\n",
       "    </tr>\n",
       "    <tr>\n",
       "      <th>data_mes</th>\n",
       "      <td>7</td>\n",
       "      <td>7</td>\n",
       "      <td>7</td>\n",
       "      <td>7</td>\n",
       "      <td>7</td>\n",
       "    </tr>\n",
       "    <tr>\n",
       "      <th>data_dia</th>\n",
       "      <td>31</td>\n",
       "      <td>31</td>\n",
       "      <td>31</td>\n",
       "      <td>31</td>\n",
       "      <td>31</td>\n",
       "    </tr>\n",
       "    <tr>\n",
       "      <th>data_semana_do_ano</th>\n",
       "      <td>31</td>\n",
       "      <td>31</td>\n",
       "      <td>31</td>\n",
       "      <td>31</td>\n",
       "      <td>31</td>\n",
       "    </tr>\n",
       "    <tr>\n",
       "      <th>ano_semana</th>\n",
       "      <td>2015-30</td>\n",
       "      <td>2015-30</td>\n",
       "      <td>2015-30</td>\n",
       "      <td>2015-30</td>\n",
       "      <td>2015-30</td>\n",
       "    </tr>\n",
       "    <tr>\n",
       "      <th>comp_aberto_desde</th>\n",
       "      <td>2008-09-01 00:00:00</td>\n",
       "      <td>2007-11-01 00:00:00</td>\n",
       "      <td>2006-12-01 00:00:00</td>\n",
       "      <td>2009-09-01 00:00:00</td>\n",
       "      <td>2015-04-01 00:00:00</td>\n",
       "    </tr>\n",
       "    <tr>\n",
       "      <th>comp_tempo_mes</th>\n",
       "      <td>84</td>\n",
       "      <td>94</td>\n",
       "      <td>105</td>\n",
       "      <td>71</td>\n",
       "      <td>4</td>\n",
       "    </tr>\n",
       "    <tr>\n",
       "      <th>promocao_desde</th>\n",
       "      <td>2015-07-27 00:00:00</td>\n",
       "      <td>2010-03-22 00:00:00</td>\n",
       "      <td>2011-03-28 00:00:00</td>\n",
       "      <td>2015-07-27 00:00:00</td>\n",
       "      <td>2015-07-27 00:00:00</td>\n",
       "    </tr>\n",
       "    <tr>\n",
       "      <th>promocao_tempo_semana</th>\n",
       "      <td>0.287016</td>\n",
       "      <td>0.922551</td>\n",
       "      <td>0.801822</td>\n",
       "      <td>0.287016</td>\n",
       "      <td>0.287016</td>\n",
       "    </tr>\n",
       "    <tr>\n",
       "      <th>feriado_tipo_christimas</th>\n",
       "      <td>0</td>\n",
       "      <td>0</td>\n",
       "      <td>0</td>\n",
       "      <td>0</td>\n",
       "      <td>0</td>\n",
       "    </tr>\n",
       "    <tr>\n",
       "      <th>feriado_tipo_easter</th>\n",
       "      <td>0</td>\n",
       "      <td>0</td>\n",
       "      <td>0</td>\n",
       "      <td>0</td>\n",
       "      <td>0</td>\n",
       "    </tr>\n",
       "    <tr>\n",
       "      <th>feriado_tipo_publico</th>\n",
       "      <td>0</td>\n",
       "      <td>0</td>\n",
       "      <td>0</td>\n",
       "      <td>0</td>\n",
       "      <td>0</td>\n",
       "    </tr>\n",
       "    <tr>\n",
       "      <th>feriado_tipo_regular_day</th>\n",
       "      <td>1</td>\n",
       "      <td>1</td>\n",
       "      <td>1</td>\n",
       "      <td>1</td>\n",
       "      <td>1</td>\n",
       "    </tr>\n",
       "  </tbody>\n",
       "</table>\n",
       "</div>"
      ],
      "text/plain": [
       "                                            0  ...                    4\n",
       "ID_loja                                     1  ...                    5\n",
       "dia_da_semana                               5  ...                    5\n",
       "data                      2015-07-31 00:00:00  ...  2015-07-31 00:00:00\n",
       "faturamento                              5263  ...                 4822\n",
       "promocao_no_dia                             1  ...                    1\n",
       "feriado_escolar                             1  ...                    1\n",
       "loja_tipo                                   2  ...                    0\n",
       "sortimento                                  1  ...                    1\n",
       "comp_distancia                      -0.170968  ...              4.44839\n",
       "comp_aberto_mes                      0.333333  ...                 -0.5\n",
       "comp_aberto_ano                          2008  ...                 2015\n",
       "promo_continua                              0  ...                    0\n",
       "promo_continua_semana                      31  ...                   31\n",
       "promo_continua_ano                       2015  ...                 2015\n",
       "em_promocao                                 0  ...                    0\n",
       "data_ano                                    1  ...                    1\n",
       "data_mes                                    7  ...                    7\n",
       "data_dia                                   31  ...                   31\n",
       "data_semana_do_ano                         31  ...                   31\n",
       "ano_semana                            2015-30  ...              2015-30\n",
       "comp_aberto_desde         2008-09-01 00:00:00  ...  2015-04-01 00:00:00\n",
       "comp_tempo_mes                             84  ...                    4\n",
       "promocao_desde            2015-07-27 00:00:00  ...  2015-07-27 00:00:00\n",
       "promocao_tempo_semana                0.287016  ...             0.287016\n",
       "feriado_tipo_christimas                     0  ...                    0\n",
       "feriado_tipo_easter                         0  ...                    0\n",
       "feriado_tipo_publico                        0  ...                    0\n",
       "feriado_tipo_regular_day                    1  ...                    1\n",
       "\n",
       "[28 rows x 5 columns]"
      ]
     },
     "execution_count": 71,
     "metadata": {
      "tags": []
     },
     "output_type": "execute_result"
    }
   ],
   "source": [
    "df5.head().T"
   ]
  },
  {
   "cell_type": "markdown",
   "metadata": {
    "colab_type": "text",
    "id": "SvJ3xs-HSK0V"
   },
   "source": [
    "### 5.3.2 Transformations"
   ]
  },
  {
   "cell_type": "code",
   "execution_count": null,
   "metadata": {
    "colab": {},
    "colab_type": "code",
    "id": "xqVzzEqn_6He"
   },
   "outputs": [],
   "source": [
    "# transformação da variável resposta em log\n",
    "df5['faturamento'] = np.log( df5['faturamento'] )"
   ]
  },
  {
   "cell_type": "code",
   "execution_count": null,
   "metadata": {
    "colab": {},
    "colab_type": "code",
    "id": "VkV1CuYaREqS"
   },
   "outputs": [],
   "source": [
    "#tipos de transformações: log, box-cox, cube-root, sqrt, sin, cosin\n",
    "# mais em: ????????????????\n",
    "\n",
    "# mês\n",
    "df5['mes_sin'] = df5['data_mes'].apply( lambda x: np.sin( x * ( 2. *np.pi/12 )))\n",
    "df5['mes_cos'] = df5['data_mes'].apply( lambda x: np.cos( x * ( 2. *np.pi/12 )))\n",
    "\n",
    "# dia\n",
    "df5['dia_sin'] = df5['data_dia'].apply( lambda x: np.sin( x * ( 2. *np.pi/30 )))\n",
    "df5['dia_cos'] = df5['data_dia'].apply( lambda x: np.cos( x * ( 2. *np.pi/30 )))\n",
    "\n",
    "# semana do ano (sda)\n",
    "df5['sda_sin'] = df5['data_semana_do_ano'].apply( lambda x: np.sin( x * ( 2. *np.pi/52 )))\n",
    "df5['sda_cos'] = df5['data_semana_do_ano'].apply( lambda x: np.cos( x * ( 2. *np.pi/52 )))\n",
    "\n",
    "# dia da semana (dds)\n",
    "df5['dds_sin'] = df5['dia_da_semana'].apply( lambda x: np.sin( x * ( 2. *np.pi/7 )))\n",
    "df5['dds_cos'] = df5['dia_da_semana'].apply( lambda x: np.cos( x * ( 2. *np.pi/7 )))\n"
   ]
  },
  {
   "cell_type": "code",
   "execution_count": null,
   "metadata": {
    "colab": {
     "base_uri": "https://localhost:8080/",
     "height": 452
    },
    "colab_type": "code",
    "id": "bWO4Mc3t7-6f",
    "outputId": "d4bbcfa0-d5e8-4d97-cc8b-f77219b9c26f"
   },
   "outputs": [
    {
     "data": {
      "text/html": [
       "<div>\n",
       "<style scoped>\n",
       "    .dataframe tbody tr th:only-of-type {\n",
       "        vertical-align: middle;\n",
       "    }\n",
       "\n",
       "    .dataframe tbody tr th {\n",
       "        vertical-align: top;\n",
       "    }\n",
       "\n",
       "    .dataframe thead th {\n",
       "        text-align: right;\n",
       "    }\n",
       "</style>\n",
       "<table border=\"1\" class=\"dataframe\">\n",
       "  <thead>\n",
       "    <tr style=\"text-align: right;\">\n",
       "      <th></th>\n",
       "      <th>0</th>\n",
       "      <th>1</th>\n",
       "      <th>2</th>\n",
       "      <th>3</th>\n",
       "      <th>4</th>\n",
       "    </tr>\n",
       "  </thead>\n",
       "  <tbody>\n",
       "    <tr>\n",
       "      <th>data_ano</th>\n",
       "      <td>1.000000</td>\n",
       "      <td>1.000000</td>\n",
       "      <td>1.000000</td>\n",
       "      <td>1.000000</td>\n",
       "      <td>1.000000</td>\n",
       "    </tr>\n",
       "    <tr>\n",
       "      <th>data_mes</th>\n",
       "      <td>7.000000</td>\n",
       "      <td>7.000000</td>\n",
       "      <td>7.000000</td>\n",
       "      <td>7.000000</td>\n",
       "      <td>7.000000</td>\n",
       "    </tr>\n",
       "    <tr>\n",
       "      <th>data_dia</th>\n",
       "      <td>31.000000</td>\n",
       "      <td>31.000000</td>\n",
       "      <td>31.000000</td>\n",
       "      <td>31.000000</td>\n",
       "      <td>31.000000</td>\n",
       "    </tr>\n",
       "    <tr>\n",
       "      <th>data_semana_do_ano</th>\n",
       "      <td>31.000000</td>\n",
       "      <td>31.000000</td>\n",
       "      <td>31.000000</td>\n",
       "      <td>31.000000</td>\n",
       "      <td>31.000000</td>\n",
       "    </tr>\n",
       "    <tr>\n",
       "      <th>dia_da_semana</th>\n",
       "      <td>5.000000</td>\n",
       "      <td>5.000000</td>\n",
       "      <td>5.000000</td>\n",
       "      <td>5.000000</td>\n",
       "      <td>5.000000</td>\n",
       "    </tr>\n",
       "    <tr>\n",
       "      <th>mes_sin</th>\n",
       "      <td>-0.500000</td>\n",
       "      <td>-0.500000</td>\n",
       "      <td>-0.500000</td>\n",
       "      <td>-0.500000</td>\n",
       "      <td>-0.500000</td>\n",
       "    </tr>\n",
       "    <tr>\n",
       "      <th>mes_cos</th>\n",
       "      <td>-0.866025</td>\n",
       "      <td>-0.866025</td>\n",
       "      <td>-0.866025</td>\n",
       "      <td>-0.866025</td>\n",
       "      <td>-0.866025</td>\n",
       "    </tr>\n",
       "    <tr>\n",
       "      <th>dia_sin</th>\n",
       "      <td>0.207912</td>\n",
       "      <td>0.207912</td>\n",
       "      <td>0.207912</td>\n",
       "      <td>0.207912</td>\n",
       "      <td>0.207912</td>\n",
       "    </tr>\n",
       "    <tr>\n",
       "      <th>dia_cos</th>\n",
       "      <td>0.978148</td>\n",
       "      <td>0.978148</td>\n",
       "      <td>0.978148</td>\n",
       "      <td>0.978148</td>\n",
       "      <td>0.978148</td>\n",
       "    </tr>\n",
       "    <tr>\n",
       "      <th>sda_sin</th>\n",
       "      <td>-0.568065</td>\n",
       "      <td>-0.568065</td>\n",
       "      <td>-0.568065</td>\n",
       "      <td>-0.568065</td>\n",
       "      <td>-0.568065</td>\n",
       "    </tr>\n",
       "    <tr>\n",
       "      <th>sda_cos</th>\n",
       "      <td>-0.822984</td>\n",
       "      <td>-0.822984</td>\n",
       "      <td>-0.822984</td>\n",
       "      <td>-0.822984</td>\n",
       "      <td>-0.822984</td>\n",
       "    </tr>\n",
       "    <tr>\n",
       "      <th>dds_sin</th>\n",
       "      <td>-0.974928</td>\n",
       "      <td>-0.974928</td>\n",
       "      <td>-0.974928</td>\n",
       "      <td>-0.974928</td>\n",
       "      <td>-0.974928</td>\n",
       "    </tr>\n",
       "    <tr>\n",
       "      <th>dds_cos</th>\n",
       "      <td>-0.222521</td>\n",
       "      <td>-0.222521</td>\n",
       "      <td>-0.222521</td>\n",
       "      <td>-0.222521</td>\n",
       "      <td>-0.222521</td>\n",
       "    </tr>\n",
       "  </tbody>\n",
       "</table>\n",
       "</div>"
      ],
      "text/plain": [
       "                            0          1          2          3          4\n",
       "data_ano             1.000000   1.000000   1.000000   1.000000   1.000000\n",
       "data_mes             7.000000   7.000000   7.000000   7.000000   7.000000\n",
       "data_dia            31.000000  31.000000  31.000000  31.000000  31.000000\n",
       "data_semana_do_ano  31.000000  31.000000  31.000000  31.000000  31.000000\n",
       "dia_da_semana        5.000000   5.000000   5.000000   5.000000   5.000000\n",
       "mes_sin             -0.500000  -0.500000  -0.500000  -0.500000  -0.500000\n",
       "mes_cos             -0.866025  -0.866025  -0.866025  -0.866025  -0.866025\n",
       "dia_sin              0.207912   0.207912   0.207912   0.207912   0.207912\n",
       "dia_cos              0.978148   0.978148   0.978148   0.978148   0.978148\n",
       "sda_sin             -0.568065  -0.568065  -0.568065  -0.568065  -0.568065\n",
       "sda_cos             -0.822984  -0.822984  -0.822984  -0.822984  -0.822984\n",
       "dds_sin             -0.974928  -0.974928  -0.974928  -0.974928  -0.974928\n",
       "dds_cos             -0.222521  -0.222521  -0.222521  -0.222521  -0.222521"
      ]
     },
     "execution_count": 74,
     "metadata": {
      "tags": []
     },
     "output_type": "execute_result"
    }
   ],
   "source": [
    "df5[['data_ano', 'data_mes', 'data_dia', 'data_semana_do_ano', 'dia_da_semana',\n",
    "     'mes_sin', 'mes_cos',\n",
    "     'dia_sin', 'dia_cos',\n",
    "     'sda_sin', 'sda_cos',\n",
    "     'dds_sin', 'dds_cos',\n",
    "     ]].head(5).T"
   ]
  },
  {
   "cell_type": "code",
   "execution_count": null,
   "metadata": {
    "colab": {
     "base_uri": "https://localhost:8080/",
     "height": 153
    },
    "colab_type": "code",
    "id": "aQ1UMFYG9eW3",
    "outputId": "a0c70851-8313-4432-97c4-b45d2ab5e130"
   },
   "outputs": [
    {
     "data": {
      "text/plain": [
       "array([ 2.07911691e-01, -2.44929360e-16, -2.07911691e-01, -4.06736643e-01,\n",
       "       -5.87785252e-01, -7.43144825e-01, -8.66025404e-01, -9.51056516e-01,\n",
       "       -9.94521895e-01, -9.94521895e-01, -9.51056516e-01, -8.66025404e-01,\n",
       "       -7.43144825e-01, -5.87785252e-01, -4.06736643e-01, -2.07911691e-01,\n",
       "        1.22464680e-16,  2.07911691e-01,  4.06736643e-01,  5.87785252e-01,\n",
       "        7.43144825e-01,  8.66025404e-01,  9.51056516e-01,  9.94521895e-01,\n",
       "        9.94521895e-01,  9.51056516e-01,  8.66025404e-01,  7.43144825e-01,\n",
       "        5.87785252e-01,  4.06736643e-01,  2.07911691e-01])"
      ]
     },
     "execution_count": 75,
     "metadata": {
      "tags": []
     },
     "output_type": "execute_result"
    }
   ],
   "source": [
    "df5['dia_sin'].unique()"
   ]
  },
  {
   "cell_type": "code",
   "execution_count": null,
   "metadata": {
    "colab": {},
    "colab_type": "code",
    "id": "IKRabLp5DbYa"
   },
   "outputs": [],
   "source": [
    "# Deletando colunas que sofreram transformação:\n",
    "\n",
    "cols_drop = ['data_mes',\n",
    "            'data_dia',\n",
    "            'data_semana_do_ano',\n",
    "            'dia_da_semana',\n",
    "            'data_semana_do_ano',\n",
    "            'promocao_desde',\n",
    "            'comp_aberto_desde']\n",
    "            \n",
    "df5 = df5.drop(cols_drop, axis = 1)"
   ]
  },
  {
   "cell_type": "markdown",
   "metadata": {
    "colab_type": "text",
    "id": "v0FBiojWASBO"
   },
   "source": [
    "# 6.0 SEPARAÇÃO E SELEÇÃO DE VARIÁVEIS PARA MODELAGEM"
   ]
  },
  {
   "cell_type": "code",
   "execution_count": null,
   "metadata": {
    "colab": {
     "base_uri": "https://localhost:8080/",
     "height": 996
    },
    "colab_type": "code",
    "id": "06So7cAXAlU8",
    "outputId": "1cf502b1-0b4c-48c0-fb4e-574a5abd15ad"
   },
   "outputs": [
    {
     "data": {
      "text/html": [
       "<div>\n",
       "<style scoped>\n",
       "    .dataframe tbody tr th:only-of-type {\n",
       "        vertical-align: middle;\n",
       "    }\n",
       "\n",
       "    .dataframe tbody tr th {\n",
       "        vertical-align: top;\n",
       "    }\n",
       "\n",
       "    .dataframe thead th {\n",
       "        text-align: right;\n",
       "    }\n",
       "</style>\n",
       "<table border=\"1\" class=\"dataframe\">\n",
       "  <thead>\n",
       "    <tr style=\"text-align: right;\">\n",
       "      <th></th>\n",
       "      <th>0</th>\n",
       "      <th>1</th>\n",
       "      <th>2</th>\n",
       "      <th>3</th>\n",
       "      <th>4</th>\n",
       "    </tr>\n",
       "  </thead>\n",
       "  <tbody>\n",
       "    <tr>\n",
       "      <th>ID_loja</th>\n",
       "      <td>1</td>\n",
       "      <td>2</td>\n",
       "      <td>3</td>\n",
       "      <td>4</td>\n",
       "      <td>5</td>\n",
       "    </tr>\n",
       "    <tr>\n",
       "      <th>data</th>\n",
       "      <td>2015-07-31 00:00:00</td>\n",
       "      <td>2015-07-31 00:00:00</td>\n",
       "      <td>2015-07-31 00:00:00</td>\n",
       "      <td>2015-07-31 00:00:00</td>\n",
       "      <td>2015-07-31 00:00:00</td>\n",
       "    </tr>\n",
       "    <tr>\n",
       "      <th>faturamento</th>\n",
       "      <td>8.56846</td>\n",
       "      <td>8.71012</td>\n",
       "      <td>9.0257</td>\n",
       "      <td>9.54646</td>\n",
       "      <td>8.48094</td>\n",
       "    </tr>\n",
       "    <tr>\n",
       "      <th>promocao_no_dia</th>\n",
       "      <td>1</td>\n",
       "      <td>1</td>\n",
       "      <td>1</td>\n",
       "      <td>1</td>\n",
       "      <td>1</td>\n",
       "    </tr>\n",
       "    <tr>\n",
       "      <th>feriado_escolar</th>\n",
       "      <td>1</td>\n",
       "      <td>1</td>\n",
       "      <td>1</td>\n",
       "      <td>1</td>\n",
       "      <td>1</td>\n",
       "    </tr>\n",
       "    <tr>\n",
       "      <th>loja_tipo</th>\n",
       "      <td>2</td>\n",
       "      <td>0</td>\n",
       "      <td>0</td>\n",
       "      <td>2</td>\n",
       "      <td>0</td>\n",
       "    </tr>\n",
       "    <tr>\n",
       "      <th>sortimento</th>\n",
       "      <td>1</td>\n",
       "      <td>1</td>\n",
       "      <td>1</td>\n",
       "      <td>3</td>\n",
       "      <td>1</td>\n",
       "    </tr>\n",
       "    <tr>\n",
       "      <th>comp_distancia</th>\n",
       "      <td>-0.170968</td>\n",
       "      <td>-0.283871</td>\n",
       "      <td>1.90323</td>\n",
       "      <td>-0.275806</td>\n",
       "      <td>4.44839</td>\n",
       "    </tr>\n",
       "    <tr>\n",
       "      <th>comp_aberto_mes</th>\n",
       "      <td>0.333333</td>\n",
       "      <td>0.666667</td>\n",
       "      <td>0.833333</td>\n",
       "      <td>0.333333</td>\n",
       "      <td>-0.5</td>\n",
       "    </tr>\n",
       "    <tr>\n",
       "      <th>comp_aberto_ano</th>\n",
       "      <td>2008</td>\n",
       "      <td>2007</td>\n",
       "      <td>2006</td>\n",
       "      <td>2009</td>\n",
       "      <td>2015</td>\n",
       "    </tr>\n",
       "    <tr>\n",
       "      <th>promo_continua</th>\n",
       "      <td>0</td>\n",
       "      <td>1</td>\n",
       "      <td>1</td>\n",
       "      <td>0</td>\n",
       "      <td>0</td>\n",
       "    </tr>\n",
       "    <tr>\n",
       "      <th>promo_continua_semana</th>\n",
       "      <td>31</td>\n",
       "      <td>13</td>\n",
       "      <td>14</td>\n",
       "      <td>31</td>\n",
       "      <td>31</td>\n",
       "    </tr>\n",
       "    <tr>\n",
       "      <th>promo_continua_ano</th>\n",
       "      <td>2015</td>\n",
       "      <td>2010</td>\n",
       "      <td>2011</td>\n",
       "      <td>2015</td>\n",
       "      <td>2015</td>\n",
       "    </tr>\n",
       "    <tr>\n",
       "      <th>em_promocao</th>\n",
       "      <td>0</td>\n",
       "      <td>1</td>\n",
       "      <td>1</td>\n",
       "      <td>0</td>\n",
       "      <td>0</td>\n",
       "    </tr>\n",
       "    <tr>\n",
       "      <th>data_ano</th>\n",
       "      <td>1</td>\n",
       "      <td>1</td>\n",
       "      <td>1</td>\n",
       "      <td>1</td>\n",
       "      <td>1</td>\n",
       "    </tr>\n",
       "    <tr>\n",
       "      <th>ano_semana</th>\n",
       "      <td>2015-30</td>\n",
       "      <td>2015-30</td>\n",
       "      <td>2015-30</td>\n",
       "      <td>2015-30</td>\n",
       "      <td>2015-30</td>\n",
       "    </tr>\n",
       "    <tr>\n",
       "      <th>comp_tempo_mes</th>\n",
       "      <td>84</td>\n",
       "      <td>94</td>\n",
       "      <td>105</td>\n",
       "      <td>71</td>\n",
       "      <td>4</td>\n",
       "    </tr>\n",
       "    <tr>\n",
       "      <th>promocao_tempo_semana</th>\n",
       "      <td>0.287016</td>\n",
       "      <td>0.922551</td>\n",
       "      <td>0.801822</td>\n",
       "      <td>0.287016</td>\n",
       "      <td>0.287016</td>\n",
       "    </tr>\n",
       "    <tr>\n",
       "      <th>feriado_tipo_christimas</th>\n",
       "      <td>0</td>\n",
       "      <td>0</td>\n",
       "      <td>0</td>\n",
       "      <td>0</td>\n",
       "      <td>0</td>\n",
       "    </tr>\n",
       "    <tr>\n",
       "      <th>feriado_tipo_easter</th>\n",
       "      <td>0</td>\n",
       "      <td>0</td>\n",
       "      <td>0</td>\n",
       "      <td>0</td>\n",
       "      <td>0</td>\n",
       "    </tr>\n",
       "    <tr>\n",
       "      <th>feriado_tipo_publico</th>\n",
       "      <td>0</td>\n",
       "      <td>0</td>\n",
       "      <td>0</td>\n",
       "      <td>0</td>\n",
       "      <td>0</td>\n",
       "    </tr>\n",
       "    <tr>\n",
       "      <th>feriado_tipo_regular_day</th>\n",
       "      <td>1</td>\n",
       "      <td>1</td>\n",
       "      <td>1</td>\n",
       "      <td>1</td>\n",
       "      <td>1</td>\n",
       "    </tr>\n",
       "    <tr>\n",
       "      <th>mes_sin</th>\n",
       "      <td>-0.5</td>\n",
       "      <td>-0.5</td>\n",
       "      <td>-0.5</td>\n",
       "      <td>-0.5</td>\n",
       "      <td>-0.5</td>\n",
       "    </tr>\n",
       "    <tr>\n",
       "      <th>mes_cos</th>\n",
       "      <td>-0.866025</td>\n",
       "      <td>-0.866025</td>\n",
       "      <td>-0.866025</td>\n",
       "      <td>-0.866025</td>\n",
       "      <td>-0.866025</td>\n",
       "    </tr>\n",
       "    <tr>\n",
       "      <th>dia_sin</th>\n",
       "      <td>0.207912</td>\n",
       "      <td>0.207912</td>\n",
       "      <td>0.207912</td>\n",
       "      <td>0.207912</td>\n",
       "      <td>0.207912</td>\n",
       "    </tr>\n",
       "    <tr>\n",
       "      <th>dia_cos</th>\n",
       "      <td>0.978148</td>\n",
       "      <td>0.978148</td>\n",
       "      <td>0.978148</td>\n",
       "      <td>0.978148</td>\n",
       "      <td>0.978148</td>\n",
       "    </tr>\n",
       "    <tr>\n",
       "      <th>sda_sin</th>\n",
       "      <td>-0.568065</td>\n",
       "      <td>-0.568065</td>\n",
       "      <td>-0.568065</td>\n",
       "      <td>-0.568065</td>\n",
       "      <td>-0.568065</td>\n",
       "    </tr>\n",
       "    <tr>\n",
       "      <th>sda_cos</th>\n",
       "      <td>-0.822984</td>\n",
       "      <td>-0.822984</td>\n",
       "      <td>-0.822984</td>\n",
       "      <td>-0.822984</td>\n",
       "      <td>-0.822984</td>\n",
       "    </tr>\n",
       "    <tr>\n",
       "      <th>dds_sin</th>\n",
       "      <td>-0.974928</td>\n",
       "      <td>-0.974928</td>\n",
       "      <td>-0.974928</td>\n",
       "      <td>-0.974928</td>\n",
       "      <td>-0.974928</td>\n",
       "    </tr>\n",
       "    <tr>\n",
       "      <th>dds_cos</th>\n",
       "      <td>-0.222521</td>\n",
       "      <td>-0.222521</td>\n",
       "      <td>-0.222521</td>\n",
       "      <td>-0.222521</td>\n",
       "      <td>-0.222521</td>\n",
       "    </tr>\n",
       "  </tbody>\n",
       "</table>\n",
       "</div>"
      ],
      "text/plain": [
       "                                            0  ...                    4\n",
       "ID_loja                                     1  ...                    5\n",
       "data                      2015-07-31 00:00:00  ...  2015-07-31 00:00:00\n",
       "faturamento                           8.56846  ...              8.48094\n",
       "promocao_no_dia                             1  ...                    1\n",
       "feriado_escolar                             1  ...                    1\n",
       "loja_tipo                                   2  ...                    0\n",
       "sortimento                                  1  ...                    1\n",
       "comp_distancia                      -0.170968  ...              4.44839\n",
       "comp_aberto_mes                      0.333333  ...                 -0.5\n",
       "comp_aberto_ano                          2008  ...                 2015\n",
       "promo_continua                              0  ...                    0\n",
       "promo_continua_semana                      31  ...                   31\n",
       "promo_continua_ano                       2015  ...                 2015\n",
       "em_promocao                                 0  ...                    0\n",
       "data_ano                                    1  ...                    1\n",
       "ano_semana                            2015-30  ...              2015-30\n",
       "comp_tempo_mes                             84  ...                    4\n",
       "promocao_tempo_semana                0.287016  ...             0.287016\n",
       "feriado_tipo_christimas                     0  ...                    0\n",
       "feriado_tipo_easter                         0  ...                    0\n",
       "feriado_tipo_publico                        0  ...                    0\n",
       "feriado_tipo_regular_day                    1  ...                    1\n",
       "mes_sin                                  -0.5  ...                 -0.5\n",
       "mes_cos                             -0.866025  ...            -0.866025\n",
       "dia_sin                              0.207912  ...             0.207912\n",
       "dia_cos                              0.978148  ...             0.978148\n",
       "sda_sin                             -0.568065  ...            -0.568065\n",
       "sda_cos                             -0.822984  ...            -0.822984\n",
       "dds_sin                             -0.974928  ...            -0.974928\n",
       "dds_cos                             -0.222521  ...            -0.222521\n",
       "\n",
       "[30 rows x 5 columns]"
      ]
     },
     "execution_count": 77,
     "metadata": {
      "tags": []
     },
     "output_type": "execute_result"
    }
   ],
   "source": [
    "#cópia de segurança\n",
    "df6 = df5.copy()\n",
    "df6.head().T"
   ]
  },
  {
   "cell_type": "markdown",
   "metadata": {
    "colab_type": "text",
    "id": "dR3roE3JCWUs"
   },
   "source": [
    "## 6.1 Split"
   ]
  },
  {
   "cell_type": "code",
   "execution_count": null,
   "metadata": {
    "colab": {
     "base_uri": "https://localhost:8080/",
     "height": 170
    },
    "colab_type": "code",
    "id": "vItOI-PmAmo7",
    "outputId": "5e319f12-2721-4cf4-d69a-068564528cce"
   },
   "outputs": [
    {
     "name": "stdout",
     "output_type": "stream",
     "text": [
      "Dimensão de tempo para treino\n",
      "De: 2013-01-01 00:00:00 \n",
      "Até: 2015-06-18 00:00:00\n",
      "\n",
      "Dimensão de tempo para teste\n",
      "De: 2015-06-19 00:00:00 \n",
      "Até: 2015-07-31 00:00:00\n",
      "\n",
      "Dias separados para treino:  42  dias ( 6.0 semanas).\n"
     ]
    }
   ],
   "source": [
    "# Inicio de tempo no dataset\n",
    "data_inicio = df6[['loja_tipo', 'data']].groupby('loja_tipo').min().reset_index()['data'][0]\n",
    "\n",
    "# Final de tempo no dataset\n",
    "data_fim = df6[['loja_tipo', 'data']].groupby('loja_tipo').max().reset_index()['data'][0]\n",
    "\n",
    "# periodo separado para treino (6 semanas = 42 dias)\n",
    "period = 42\n",
    "\n",
    "# Final de tempo de treino\n",
    "train_last_date = df6[['loja_tipo', 'data']].groupby('loja_tipo').max().reset_index()['data'][0] - datetime.timedelta( days = period)\n",
    "\n",
    "# Dataset de treino\n",
    "X_train = df6[df6['data'] < train_last_date]\n",
    "y_train = X_train['faturamento']\n",
    "\n",
    "# Dataset de teste\n",
    "X_test = df6[df6['data'] >= train_last_date]\n",
    "y_test = X_test['faturamento']\n",
    "\n",
    "# Prints\n",
    "print (\"Dimensão de tempo para treino\\nDe:\", X_train['data'].min(),\"\\nAté:\", X_train['data'].max())\n",
    "print (\"\\nDimensão de tempo para teste\\nDe:\", X_test['data'].min(),\"\\nAté:\", X_test['data'].max())\n",
    "print (\"\\nDias separados para treino: \", period, \" dias (\", period/7, \"semanas).\" )\n"
   ]
  },
  {
   "cell_type": "code",
   "execution_count": null,
   "metadata": {
    "colab": {},
    "colab_type": "code",
    "id": "ijzzHp26I25b"
   },
   "outputs": [],
   "source": []
  },
  {
   "cell_type": "markdown",
   "metadata": {
    "colab_type": "text",
    "id": "vPul2833KxIR"
   },
   "source": [
    "## Seleção de Variáveis com Boruta"
   ]
  },
  {
   "cell_type": "code",
   "execution_count": null,
   "metadata": {
    "colab": {},
    "colab_type": "code",
    "id": "j-9uzzG1K0zT"
   },
   "outputs": [],
   "source": [
    "# Dataset de treino e teste para boruta\n",
    "X_train_b = X_train.drop(['data', 'faturamento'], axis = 1).values\n",
    "y_train_b = y_train.values.ravel()\n",
    "\n",
    "#define regressor como randomforest\n",
    "rf = RandomForestRegressor( n_jobs= -1)"
   ]
  },
  {
   "cell_type": "code",
   "execution_count": null,
   "metadata": {
    "colab": {
     "base_uri": "https://localhost:8080/",
     "height": 51
    },
    "colab_type": "code",
    "id": "5ZGDT_8dMhpk",
    "outputId": "8fbccdd2-edc4-420c-802d-a75fec376bc8"
   },
   "outputs": [
    {
     "data": {
      "text/plain": [
       "array([8.44354665, 8.54752839, 8.9275795 , ..., 8.52416881, 8.40983067,\n",
       "       8.69299353])"
      ]
     },
     "execution_count": 80,
     "metadata": {
      "tags": []
     },
     "output_type": "execute_result"
    }
   ],
   "source": [
    "y_train_b"
   ]
  },
  {
   "cell_type": "code",
   "execution_count": null,
   "metadata": {
    "colab": {},
    "colab_type": "code",
    "id": "9Wq-AAzfMJ8U"
   },
   "outputs": [],
   "source": [
    "# Running boruta\n",
    "# boruta = BorutaPy( rf, n_estimators = 'auto', verbose = 2, random_state= 42).fit( X_train_b, y_train_b)"
   ]
  },
  {
   "cell_type": "code",
   "execution_count": null,
   "metadata": {
    "colab": {
     "base_uri": "https://localhost:8080/",
     "height": 231
    },
    "colab_type": "code",
    "id": "Wu8fa9g2JlZA",
    "outputId": "1f302484-3d17-4d35-e014-3378fde6d132"
   },
   "outputs": [
    {
     "ename": "NameError",
     "evalue": "ignored",
     "output_type": "error",
     "traceback": [
      "\u001b[0;31m---------------------------------------------------------------------------\u001b[0m",
      "\u001b[0;31mNameError\u001b[0m                                 Traceback (most recent call last)",
      "\u001b[0;32m<ipython-input-82-b1e825a9202d>\u001b[0m in \u001b[0;36m<module>\u001b[0;34m()\u001b[0m\n\u001b[0;32m----> 1\u001b[0;31m \u001b[0mcols_selected\u001b[0m \u001b[0;34m=\u001b[0m \u001b[0mboruta\u001b[0m\u001b[0;34m.\u001b[0m\u001b[0msupport_\u001b[0m\u001b[0;34m.\u001b[0m\u001b[0mtolist\u001b[0m\u001b[0;34m(\u001b[0m\u001b[0;34m)\u001b[0m\u001b[0;34m\u001b[0m\u001b[0;34m\u001b[0m\u001b[0m\n\u001b[0m\u001b[1;32m      2\u001b[0m \u001b[0;34m\u001b[0m\u001b[0m\n\u001b[1;32m      3\u001b[0m \u001b[0;31m# Melhores variaveis\u001b[0m\u001b[0;34m\u001b[0m\u001b[0;34m\u001b[0m\u001b[0;34m\u001b[0m\u001b[0m\n\u001b[1;32m      4\u001b[0m \u001b[0mX_train_fs\u001b[0m \u001b[0;34m=\u001b[0m \u001b[0mX_train\u001b[0m\u001b[0;34m.\u001b[0m\u001b[0mdrop\u001b[0m\u001b[0;34m(\u001b[0m\u001b[0;34m[\u001b[0m\u001b[0;34m'data'\u001b[0m\u001b[0;34m,\u001b[0m \u001b[0;34m'faturamento'\u001b[0m\u001b[0;34m]\u001b[0m\u001b[0;34m,\u001b[0m \u001b[0maxis\u001b[0m \u001b[0;34m=\u001b[0m\u001b[0;36m1\u001b[0m\u001b[0;34m)\u001b[0m\u001b[0;34m\u001b[0m\u001b[0;34m\u001b[0m\u001b[0m\n\u001b[1;32m      5\u001b[0m \u001b[0mcols_selected_by_boruta\u001b[0m \u001b[0;34m=\u001b[0m \u001b[0mX_train_fs\u001b[0m\u001b[0;34m.\u001b[0m\u001b[0miloc\u001b[0m\u001b[0;34m[\u001b[0m\u001b[0;34m:\u001b[0m\u001b[0;34m,\u001b[0m \u001b[0mcols_selected\u001b[0m\u001b[0;34m]\u001b[0m\u001b[0;34m.\u001b[0m\u001b[0mcolumns\u001b[0m\u001b[0;34m.\u001b[0m\u001b[0mto_list\u001b[0m\u001b[0;34m(\u001b[0m\u001b[0;34m)\u001b[0m\u001b[0;34m\u001b[0m\u001b[0;34m\u001b[0m\u001b[0m\n",
      "\u001b[0;31mNameError\u001b[0m: name 'boruta' is not defined"
     ]
    }
   ],
   "source": [
    "cols_selected = boruta.support_.tolist()\n",
    "\n",
    "# Melhores variaveis\n",
    "X_train_fs = X_train.drop(['data', 'faturamento'], axis =1)\n",
    "cols_selected_by_boruta = X_train_fs.iloc[:, cols_selected].columns.to_list()\n",
    "\n",
    "# "
   ]
  },
  {
   "cell_type": "markdown",
   "metadata": {
    "colab_type": "text",
    "id": "d1qbssmB5qHs"
   },
   "source": [
    "## 6 .3 Variáveis Escolhidas para modelagem"
   ]
  },
  {
   "cell_type": "code",
   "execution_count": null,
   "metadata": {
    "colab": {
     "base_uri": "https://localhost:8080/",
     "height": 170
    },
    "colab_type": "code",
    "id": "7qRBes-H9pfL",
    "outputId": "9159443d-36dc-493c-f2af-e109ab99d30f"
   },
   "outputs": [
    {
     "data": {
      "text/plain": [
       "Index(['ID_loja', 'data', 'faturamento', 'promocao_no_dia', 'feriado_escolar',\n",
       "       'loja_tipo', 'sortimento', 'comp_distancia', 'comp_aberto_mes',\n",
       "       'comp_aberto_ano', 'promo_continua', 'promo_continua_semana',\n",
       "       'promo_continua_ano', 'em_promocao', 'data_ano', 'ano_semana',\n",
       "       'comp_tempo_mes', 'promocao_tempo_semana', 'feriado_tipo_christimas',\n",
       "       'feriado_tipo_easter', 'feriado_tipo_publico',\n",
       "       'feriado_tipo_regular_day', 'mes_sin', 'mes_cos', 'dia_sin', 'dia_cos',\n",
       "       'sda_sin', 'sda_cos', 'dds_sin', 'dds_cos'],\n",
       "      dtype='object')"
      ]
     },
     "execution_count": 85,
     "metadata": {
      "tags": []
     },
     "output_type": "execute_result"
    }
   ],
   "source": [
    "df6.columns"
   ]
  },
  {
   "cell_type": "code",
   "execution_count": null,
   "metadata": {
    "colab": {},
    "colab_type": "code",
    "id": "kwPzQY3i5vxf"
   },
   "outputs": [],
   "source": [
    "# Variaveis escolhidas pelo boruta\n",
    "cols_selected_boruta =['ID_loja',\n",
    "                       'promo_continua',\n",
    "                       'loja_tipo',\n",
    "                       'sortimento',\n",
    "                       'comp_distancia',\n",
    "                       'comp_aberto_mes',\n",
    "                       'comp_aberto_ano',\n",
    "                       'promocao_no_dia',\n",
    "                       'promo_continua_semana',\n",
    "                       'promo_continua_ano',\n",
    "                       'promocao_tempo_semana',\n",
    "                       'dds_sin',\n",
    "                       'dds_cos',\n",
    "                       'mes_sin',\n",
    "                       'mes_cos',\n",
    "                       'dia_sin',\n",
    "                       'dia_cos',\n",
    "                       'sda_sin',\n",
    "                       'sda_cos']\n",
    "\n",
    "# Retornando variaveis eliminadas antes da escolha pelo boruta\n",
    "feat_to_add =['data', 'faturamento']\n",
    "\n",
    "# Variaveis finais\n",
    "#cols_selected_boruta.extend(feat_to_add)"
   ]
  },
  {
   "cell_type": "markdown",
   "metadata": {
    "colab_type": "text",
    "id": "6WI0WCcD0Ce6"
   },
   "source": [
    "# 7.0 ESCOLHA DE MODELO"
   ]
  },
  {
   "cell_type": "code",
   "execution_count": null,
   "metadata": {
    "colab": {},
    "colab_type": "code",
    "id": "d8e0PyV_5Zfg"
   },
   "outputs": [],
   "source": [
    "df7 = df6.copy()"
   ]
  },
  {
   "cell_type": "code",
   "execution_count": null,
   "metadata": {
    "colab": {},
    "colab_type": "code",
    "id": "WUcg6rx__KRg"
   },
   "outputs": [],
   "source": [
    "x_train = X_train[ cols_selected_boruta]\n",
    "x_test = X_test[ cols_selected_boruta]"
   ]
  },
  {
   "cell_type": "markdown",
   "metadata": {
    "colab_type": "text",
    "id": "CPoPnZYd86u2"
   },
   "source": [
    "## 7.1 Average Model (dummy)\n"
   ]
  },
  {
   "cell_type": "code",
   "execution_count": null,
   "metadata": {
    "colab": {
     "base_uri": "https://localhost:8080/",
     "height": 80
    },
    "colab_type": "code",
    "id": "v1BfyxE29Jrn",
    "outputId": "0df1ae33-9b86-425f-dcab-1915fab5199e"
   },
   "outputs": [
    {
     "data": {
      "text/html": [
       "<div>\n",
       "<style scoped>\n",
       "    .dataframe tbody tr th:only-of-type {\n",
       "        vertical-align: middle;\n",
       "    }\n",
       "\n",
       "    .dataframe tbody tr th {\n",
       "        vertical-align: top;\n",
       "    }\n",
       "\n",
       "    .dataframe thead th {\n",
       "        text-align: right;\n",
       "    }\n",
       "</style>\n",
       "<table border=\"1\" class=\"dataframe\">\n",
       "  <thead>\n",
       "    <tr style=\"text-align: right;\">\n",
       "      <th></th>\n",
       "      <th>Model Name</th>\n",
       "      <th>MAE</th>\n",
       "      <th>MAPE</th>\n",
       "      <th>RMSE</th>\n",
       "    </tr>\n",
       "  </thead>\n",
       "  <tbody>\n",
       "    <tr>\n",
       "      <th>0</th>\n",
       "      <td>Average Model</td>\n",
       "      <td>1354.800167</td>\n",
       "      <td>0.45515</td>\n",
       "      <td>1835.141019</td>\n",
       "    </tr>\n",
       "  </tbody>\n",
       "</table>\n",
       "</div>"
      ],
      "text/plain": [
       "      Model Name          MAE     MAPE         RMSE\n",
       "0  Average Model  1354.800167  0.45515  1835.141019"
      ]
     },
     "execution_count": 89,
     "metadata": {
      "tags": []
     },
     "output_type": "execute_result"
    }
   ],
   "source": [
    "aux1= x_test.copy()\n",
    "aux1['faturamento'] = y_test.copy()\n",
    "\n",
    "# prediction\n",
    "aux2 = aux1[['ID_loja', 'faturamento']].groupby('ID_loja').mean().reset_index().rename(columns={'faturamento' : 'predições'})\n",
    "aux1 = pd.merge(aux1, aux2, how='left', on='ID_loja')\n",
    "y_pred_baseline = aux1['predições']\n",
    "\n",
    "#perfomance\n",
    "baseline_result = ml_error('Average Model', np.expm1(y_test), np.expm1(y_pred_baseline))\n",
    "baseline_result"
   ]
  },
  {
   "cell_type": "markdown",
   "metadata": {
    "colab_type": "text",
    "id": "wZp233B-B2tf"
   },
   "source": [
    "##7.2 Regressão Linear"
   ]
  },
  {
   "cell_type": "code",
   "execution_count": null,
   "metadata": {
    "colab": {
     "base_uri": "https://localhost:8080/",
     "height": 80
    },
    "colab_type": "code",
    "id": "Ns3hbqOWB86l",
    "outputId": "d5827be9-d595-4892-d38f-1283b07ffffd"
   },
   "outputs": [
    {
     "data": {
      "text/html": [
       "<div>\n",
       "<style scoped>\n",
       "    .dataframe tbody tr th:only-of-type {\n",
       "        vertical-align: middle;\n",
       "    }\n",
       "\n",
       "    .dataframe tbody tr th {\n",
       "        vertical-align: top;\n",
       "    }\n",
       "\n",
       "    .dataframe thead th {\n",
       "        text-align: right;\n",
       "    }\n",
       "</style>\n",
       "<table border=\"1\" class=\"dataframe\">\n",
       "  <thead>\n",
       "    <tr style=\"text-align: right;\">\n",
       "      <th></th>\n",
       "      <th>Model Name</th>\n",
       "      <th>MAE</th>\n",
       "      <th>MAPE</th>\n",
       "      <th>RMSE</th>\n",
       "    </tr>\n",
       "  </thead>\n",
       "  <tbody>\n",
       "    <tr>\n",
       "      <th>0</th>\n",
       "      <td>LinearRegression</td>\n",
       "      <td>1867.255209</td>\n",
       "      <td>0.292794</td>\n",
       "      <td>2671.364521</td>\n",
       "    </tr>\n",
       "  </tbody>\n",
       "</table>\n",
       "</div>"
      ],
      "text/plain": [
       "         Model Name          MAE      MAPE         RMSE\n",
       "0  LinearRegression  1867.255209  0.292794  2671.364521"
      ]
     },
     "execution_count": 90,
     "metadata": {
      "tags": []
     },
     "output_type": "execute_result"
    }
   ],
   "source": [
    "# Instanciando modelo\n",
    "lr = LinearRegression().fit(x_train, y_train)\n",
    "y_pred_lr = lr.predict( x_test)\n",
    "\n",
    "lr_result = ml_error('LinearRegression', np.expm1(y_test), np.expm1(y_pred_lr))\n",
    "lr_result"
   ]
  },
  {
   "cell_type": "markdown",
   "metadata": {
    "colab_type": "text",
    "id": "sZiF9oPRCqtV"
   },
   "source": [
    "## 7.3 Regressão Linear Regularizada (LASSO)"
   ]
  },
  {
   "cell_type": "code",
   "execution_count": null,
   "metadata": {
    "colab": {
     "base_uri": "https://localhost:8080/",
     "height": 80
    },
    "colab_type": "code",
    "id": "TdWsqIefCuP0",
    "outputId": "c01c7cb3-8634-4890-9cde-cb0c2704cf31"
   },
   "outputs": [
    {
     "data": {
      "text/html": [
       "<div>\n",
       "<style scoped>\n",
       "    .dataframe tbody tr th:only-of-type {\n",
       "        vertical-align: middle;\n",
       "    }\n",
       "\n",
       "    .dataframe tbody tr th {\n",
       "        vertical-align: top;\n",
       "    }\n",
       "\n",
       "    .dataframe thead th {\n",
       "        text-align: right;\n",
       "    }\n",
       "</style>\n",
       "<table border=\"1\" class=\"dataframe\">\n",
       "  <thead>\n",
       "    <tr style=\"text-align: right;\">\n",
       "      <th></th>\n",
       "      <th>Model Name</th>\n",
       "      <th>MAE</th>\n",
       "      <th>MAPE</th>\n",
       "      <th>RMSE</th>\n",
       "    </tr>\n",
       "  </thead>\n",
       "  <tbody>\n",
       "    <tr>\n",
       "      <th>0</th>\n",
       "      <td>lasso</td>\n",
       "      <td>1867.255209</td>\n",
       "      <td>0.292794</td>\n",
       "      <td>2671.364521</td>\n",
       "    </tr>\n",
       "  </tbody>\n",
       "</table>\n",
       "</div>"
      ],
      "text/plain": [
       "  Model Name          MAE      MAPE         RMSE\n",
       "0      lasso  1867.255209  0.292794  2671.364521"
      ]
     },
     "execution_count": 91,
     "metadata": {
      "tags": []
     },
     "output_type": "execute_result"
    }
   ],
   "source": [
    "# Instanciando modelo\n",
    "lasso = Lasso(alpha=0.01).fit(x_train, y_train)\n",
    "y_pred_lasso = lr.predict( x_test)\n",
    "\n",
    "lasso_result = ml_error('lasso', np.expm1(y_test), np.expm1(y_pred_lasso))\n",
    "lasso_result"
   ]
  },
  {
   "cell_type": "markdown",
   "metadata": {
    "colab_type": "text",
    "id": "mg0y8K45Ei6h"
   },
   "source": [
    "## 7.4 Random Forest Regressor"
   ]
  },
  {
   "cell_type": "code",
   "execution_count": null,
   "metadata": {
    "colab": {
     "base_uri": "https://localhost:8080/",
     "height": 80
    },
    "colab_type": "code",
    "id": "TAr7MOqcEeqk",
    "outputId": "791772eb-47d4-402c-bfde-108219600cf8"
   },
   "outputs": [
    {
     "data": {
      "text/html": [
       "<div>\n",
       "<style scoped>\n",
       "    .dataframe tbody tr th:only-of-type {\n",
       "        vertical-align: middle;\n",
       "    }\n",
       "\n",
       "    .dataframe tbody tr th {\n",
       "        vertical-align: top;\n",
       "    }\n",
       "\n",
       "    .dataframe thead th {\n",
       "        text-align: right;\n",
       "    }\n",
       "</style>\n",
       "<table border=\"1\" class=\"dataframe\">\n",
       "  <thead>\n",
       "    <tr style=\"text-align: right;\">\n",
       "      <th></th>\n",
       "      <th>Model Name</th>\n",
       "      <th>MAE</th>\n",
       "      <th>MAPE</th>\n",
       "      <th>RMSE</th>\n",
       "    </tr>\n",
       "  </thead>\n",
       "  <tbody>\n",
       "    <tr>\n",
       "      <th>0</th>\n",
       "      <td>RandomForestRegressor</td>\n",
       "      <td>665.991178</td>\n",
       "      <td>0.097421</td>\n",
       "      <td>1000.839661</td>\n",
       "    </tr>\n",
       "  </tbody>\n",
       "</table>\n",
       "</div>"
      ],
      "text/plain": [
       "              Model Name         MAE      MAPE         RMSE\n",
       "0  RandomForestRegressor  665.991178  0.097421  1000.839661"
      ]
     },
     "execution_count": 92,
     "metadata": {
      "tags": []
     },
     "output_type": "execute_result"
    }
   ],
   "source": [
    "# Instanciando modelo\n",
    "rf = RandomForestRegressor(n_estimators=100, n_jobs=-1, random_state=42).fit(x_train, y_train)\n",
    "y_pred_rf = rf.predict( x_test)\n",
    "\n",
    "rf_result = ml_error('RandomForestRegressor', np.expm1(y_test), np.expm1(y_pred_rf))\n",
    "rf_result"
   ]
  },
  {
   "cell_type": "markdown",
   "metadata": {
    "colab_type": "text",
    "id": "O1YcGkrjFKSn"
   },
   "source": [
    "## 7.5 XGBoost Regressor"
   ]
  },
  {
   "cell_type": "code",
   "execution_count": null,
   "metadata": {
    "colab": {
     "base_uri": "https://localhost:8080/",
     "height": 80
    },
    "colab_type": "code",
    "id": "tpLIaTyNFJu-",
    "outputId": "5b8ad2cd-3bc3-4dee-ec73-d0c0a5ccd134"
   },
   "outputs": [
    {
     "data": {
      "text/html": [
       "<div>\n",
       "<style scoped>\n",
       "    .dataframe tbody tr th:only-of-type {\n",
       "        vertical-align: middle;\n",
       "    }\n",
       "\n",
       "    .dataframe tbody tr th {\n",
       "        vertical-align: top;\n",
       "    }\n",
       "\n",
       "    .dataframe thead th {\n",
       "        text-align: right;\n",
       "    }\n",
       "</style>\n",
       "<table border=\"1\" class=\"dataframe\">\n",
       "  <thead>\n",
       "    <tr style=\"text-align: right;\">\n",
       "      <th></th>\n",
       "      <th>Model Name</th>\n",
       "      <th>MAE</th>\n",
       "      <th>MAPE</th>\n",
       "      <th>RMSE</th>\n",
       "    </tr>\n",
       "  </thead>\n",
       "  <tbody>\n",
       "    <tr>\n",
       "      <th>0</th>\n",
       "      <td>XGBRegressor</td>\n",
       "      <td>857.883405</td>\n",
       "      <td>0.124669</td>\n",
       "      <td>1256.642196</td>\n",
       "    </tr>\n",
       "  </tbody>\n",
       "</table>\n",
       "</div>"
      ],
      "text/plain": [
       "     Model Name         MAE      MAPE         RMSE\n",
       "0  XGBRegressor  857.883405  0.124669  1256.642196"
      ]
     },
     "execution_count": 93,
     "metadata": {
      "tags": []
     },
     "output_type": "execute_result"
    }
   ],
   "source": [
    "# Instanciando modelo\n",
    "model_xgb = xgb.XGBRegressor( objective='reg:squarederror',\n",
    "                              n_estimators = 100,\n",
    "                              eta= 0.01,\n",
    "                              max_depth=10,\n",
    "                              subsample=0.7,\n",
    "                              colsample_bytree=0.9)\n",
    "\n",
    "model_xgb.fit(x_train, y_train)\n",
    "\n",
    "y_pred_xgb = model_xgb.predict( x_test)\n",
    "\n",
    "xgb_result = ml_error('XGBRegressor', np.expm1(y_test), np.expm1(y_pred_xgb))\n",
    "xgb_result"
   ]
  },
  {
   "cell_type": "markdown",
   "metadata": {
    "colab_type": "text",
    "id": "cn8ebo5QFu2F"
   },
   "source": [
    "## 7.6 Comparação dos modelos"
   ]
  },
  {
   "cell_type": "code",
   "execution_count": null,
   "metadata": {
    "colab": {
     "base_uri": "https://localhost:8080/",
     "height": 204
    },
    "colab_type": "code",
    "id": "9LRPUf_ZEiD8",
    "outputId": "cd771425-3d45-42d1-a1f1-151d6c4de9d9"
   },
   "outputs": [
    {
     "data": {
      "text/html": [
       "<div>\n",
       "<style scoped>\n",
       "    .dataframe tbody tr th:only-of-type {\n",
       "        vertical-align: middle;\n",
       "    }\n",
       "\n",
       "    .dataframe tbody tr th {\n",
       "        vertical-align: top;\n",
       "    }\n",
       "\n",
       "    .dataframe thead th {\n",
       "        text-align: right;\n",
       "    }\n",
       "</style>\n",
       "<table border=\"1\" class=\"dataframe\">\n",
       "  <thead>\n",
       "    <tr style=\"text-align: right;\">\n",
       "      <th></th>\n",
       "      <th>Model Name</th>\n",
       "      <th>MAE</th>\n",
       "      <th>MAPE</th>\n",
       "      <th>RMSE</th>\n",
       "    </tr>\n",
       "  </thead>\n",
       "  <tbody>\n",
       "    <tr>\n",
       "      <th>0</th>\n",
       "      <td>RandomForestRegressor</td>\n",
       "      <td>665.991178</td>\n",
       "      <td>0.097421</td>\n",
       "      <td>1000.839661</td>\n",
       "    </tr>\n",
       "    <tr>\n",
       "      <th>0</th>\n",
       "      <td>XGBRegressor</td>\n",
       "      <td>857.883405</td>\n",
       "      <td>0.124669</td>\n",
       "      <td>1256.642196</td>\n",
       "    </tr>\n",
       "    <tr>\n",
       "      <th>0</th>\n",
       "      <td>Average Model</td>\n",
       "      <td>1354.800167</td>\n",
       "      <td>0.455150</td>\n",
       "      <td>1835.141019</td>\n",
       "    </tr>\n",
       "    <tr>\n",
       "      <th>0</th>\n",
       "      <td>LinearRegression</td>\n",
       "      <td>1867.255209</td>\n",
       "      <td>0.292794</td>\n",
       "      <td>2671.364521</td>\n",
       "    </tr>\n",
       "    <tr>\n",
       "      <th>0</th>\n",
       "      <td>lasso</td>\n",
       "      <td>1867.255209</td>\n",
       "      <td>0.292794</td>\n",
       "      <td>2671.364521</td>\n",
       "    </tr>\n",
       "  </tbody>\n",
       "</table>\n",
       "</div>"
      ],
      "text/plain": [
       "              Model Name          MAE      MAPE         RMSE\n",
       "0  RandomForestRegressor   665.991178  0.097421  1000.839661\n",
       "0           XGBRegressor   857.883405  0.124669  1256.642196\n",
       "0          Average Model  1354.800167  0.455150  1835.141019\n",
       "0       LinearRegression  1867.255209  0.292794  2671.364521\n",
       "0                  lasso  1867.255209  0.292794  2671.364521"
      ]
     },
     "execution_count": 94,
     "metadata": {
      "tags": []
     },
     "output_type": "execute_result"
    }
   ],
   "source": [
    "comp_results= pd.concat([baseline_result,\n",
    "                      lr_result,\n",
    "                      lasso_result,\n",
    "                      rf_result,\n",
    "                      xgb_result])\n",
    "\n",
    "comp_results.sort_values('RMSE')"
   ]
  },
  {
   "cell_type": "markdown",
   "metadata": {
    "colab_type": "text",
    "id": "oCL_zWMRwgmt"
   },
   "source": [
    "# 8.0 OTIMIZAÇÃO DE HIPERPARÂMETROS"
   ]
  },
  {
   "cell_type": "markdown",
   "metadata": {
    "colab_type": "text",
    "id": "8WZY_j3wwk1N"
   },
   "source": [
    "*Encontrar o conjunto de parâmetros que maximiza o aprendizado do modelo*\n",
    "*(random, grid, bayesian)*"
   ]
  },
  {
   "cell_type": "markdown",
   "metadata": {
    "colab_type": "text",
    "id": "aeAmCZa80KxS"
   },
   "source": [
    "## 8.1 Ramdom Search"
   ]
  },
  {
   "cell_type": "code",
   "execution_count": null,
   "metadata": {
    "colab": {},
    "colab_type": "code",
    "id": "u36WSMvf0xYs"
   },
   "outputs": [],
   "source": [
    "params = {'n_estimators':     [1500, 1700, 2500, 3000, 3500 ],\n",
    "          'eta':              [0.01, 0.03                   ],\n",
    "          'max_depth':        [3,    5,    9                ],\n",
    "          'subsample':        [0.1,  0.5,  0.7              ],\n",
    "          'colsample_bytree':  [0.3,  0.7,  0.9             ],\n",
    "          'min_child_weight': [3,    8,    15               ]}\n",
    "\n",
    "n_iterations = 10"
   ]
  },
  {
   "cell_type": "code",
   "execution_count": null,
   "metadata": {
    "colab": {},
    "colab_type": "code",
    "id": "SbvhM8fL0HoS"
   },
   "outputs": [],
   "source": [
    "final_result = pd.DataFrame()\n",
    "\n",
    "for n in range(n_iterations):\n",
    "\n",
    "  # Escolha randomica de parametros\n",
    "  hp = { k: random.sample(v,1)[0] for k,v in params.items() }\n",
    "  print( hp)\n",
    "  \n",
    "  # Instanciando estimador\n",
    "  model_xgb = XGBRegressor( objective='ref:squarederror',\n",
    "                                n_estimators=hp['n_estimators'],\n",
    "                                eta=hp['eta'],\n",
    "                                max_depth=hp['max_depth'],\n",
    "                                subsample=hp['subsample'],\n",
    "                                colsample_bytee= hp['colsample_bytree'],\n",
    "                                min_child_weight= hp['min_child_weight'])\n",
    "  \n",
    "  # Performance\n",
    "  result = cross_validation( X_training, 2, 'XGBoost Regressor', model_xgb, verbose=False)\n",
    "  final_result = pd.concat((final_result, result))\n",
    "\n",
    "final_result"
   ]
  },
  {
   "cell_type": "markdown",
   "metadata": {
    "colab_type": "text",
    "id": "Pzdv_PLx7csz"
   },
   "source": [
    "## 8.2 Modelo final"
   ]
  },
  {
   "cell_type": "code",
   "execution_count": null,
   "metadata": {
    "colab": {},
    "colab_type": "code",
    "id": "TbRmZ8sC44rT"
   },
   "outputs": [],
   "source": [
    "params_opt = { 'n_estimators':    30 00,\n",
    "               'eta':             0.03,\n",
    "               'max_depth':       5   ,\n",
    "               'subsample':       0.7 ,\n",
    "               'colsample_bytree':0.7 ,\n",
    "               'min_child_weight':3   }"
   ]
  },
  {
   "cell_type": "code",
   "execution_count": null,
   "metadata": {
    "colab": {
     "base_uri": "https://localhost:8080/",
     "height": 680
    },
    "colab_type": "code",
    "id": "W-uiTnHl74cl",
    "outputId": "87570c74-081c-4440-d862-ac259170d9ba"
   },
   "outputs": [
    {
     "ename": "XGBoostError",
     "evalue": "ignored",
     "output_type": "error",
     "traceback": [
      "\u001b[0;31m---------------------------------------------------------------------------\u001b[0m",
      "\u001b[0;31mXGBoostError\u001b[0m                              Traceback (most recent call last)",
      "\u001b[0;32m<ipython-input-98-b82e3ac16fa6>\u001b[0m in \u001b[0;36m<module>\u001b[0;34m()\u001b[0m\n\u001b[1;32m      9\u001b[0m \u001b[0;34m\u001b[0m\u001b[0m\n\u001b[1;32m     10\u001b[0m \u001b[0;31m# Treino\u001b[0m\u001b[0;34m\u001b[0m\u001b[0;34m\u001b[0m\u001b[0;34m\u001b[0m\u001b[0m\n\u001b[0;32m---> 11\u001b[0;31m \u001b[0mmodel_xgb_opt\u001b[0m\u001b[0;34m.\u001b[0m\u001b[0mfit\u001b[0m\u001b[0;34m(\u001b[0m \u001b[0mx_train\u001b[0m\u001b[0;34m,\u001b[0m \u001b[0my_train\u001b[0m\u001b[0;34m)\u001b[0m\u001b[0;34m\u001b[0m\u001b[0;34m\u001b[0m\u001b[0m\n\u001b[0m\u001b[1;32m     12\u001b[0m \u001b[0;34m\u001b[0m\u001b[0m\n\u001b[1;32m     13\u001b[0m \u001b[0;31m# Predições\u001b[0m\u001b[0;34m\u001b[0m\u001b[0;34m\u001b[0m\u001b[0;34m\u001b[0m\u001b[0m\n",
      "\u001b[0;32m/usr/local/lib/python3.6/dist-packages/xgboost/sklearn.py\u001b[0m in \u001b[0;36mfit\u001b[0;34m(self, X, y, sample_weight, eval_set, eval_metric, early_stopping_rounds, verbose, xgb_model, sample_weight_eval_set, callbacks)\u001b[0m\n\u001b[1;32m    394\u001b[0m                               \u001b[0mevals_result\u001b[0m\u001b[0;34m=\u001b[0m\u001b[0mevals_result\u001b[0m\u001b[0;34m,\u001b[0m \u001b[0mobj\u001b[0m\u001b[0;34m=\u001b[0m\u001b[0mobj\u001b[0m\u001b[0;34m,\u001b[0m \u001b[0mfeval\u001b[0m\u001b[0;34m=\u001b[0m\u001b[0mfeval\u001b[0m\u001b[0;34m,\u001b[0m\u001b[0;34m\u001b[0m\u001b[0;34m\u001b[0m\u001b[0m\n\u001b[1;32m    395\u001b[0m                               \u001b[0mverbose_eval\u001b[0m\u001b[0;34m=\u001b[0m\u001b[0mverbose\u001b[0m\u001b[0;34m,\u001b[0m \u001b[0mxgb_model\u001b[0m\u001b[0;34m=\u001b[0m\u001b[0mxgb_model\u001b[0m\u001b[0;34m,\u001b[0m\u001b[0;34m\u001b[0m\u001b[0;34m\u001b[0m\u001b[0m\n\u001b[0;32m--> 396\u001b[0;31m                               callbacks=callbacks)\n\u001b[0m\u001b[1;32m    397\u001b[0m \u001b[0;34m\u001b[0m\u001b[0m\n\u001b[1;32m    398\u001b[0m         \u001b[0;32mif\u001b[0m \u001b[0mevals_result\u001b[0m\u001b[0;34m:\u001b[0m\u001b[0;34m\u001b[0m\u001b[0;34m\u001b[0m\u001b[0m\n",
      "\u001b[0;32m/usr/local/lib/python3.6/dist-packages/xgboost/training.py\u001b[0m in \u001b[0;36mtrain\u001b[0;34m(params, dtrain, num_boost_round, evals, obj, feval, maximize, early_stopping_rounds, evals_result, verbose_eval, xgb_model, callbacks, learning_rates)\u001b[0m\n\u001b[1;32m    214\u001b[0m                            \u001b[0mevals\u001b[0m\u001b[0;34m=\u001b[0m\u001b[0mevals\u001b[0m\u001b[0;34m,\u001b[0m\u001b[0;34m\u001b[0m\u001b[0;34m\u001b[0m\u001b[0m\n\u001b[1;32m    215\u001b[0m                            \u001b[0mobj\u001b[0m\u001b[0;34m=\u001b[0m\u001b[0mobj\u001b[0m\u001b[0;34m,\u001b[0m \u001b[0mfeval\u001b[0m\u001b[0;34m=\u001b[0m\u001b[0mfeval\u001b[0m\u001b[0;34m,\u001b[0m\u001b[0;34m\u001b[0m\u001b[0;34m\u001b[0m\u001b[0m\n\u001b[0;32m--> 216\u001b[0;31m                            xgb_model=xgb_model, callbacks=callbacks)\n\u001b[0m\u001b[1;32m    217\u001b[0m \u001b[0;34m\u001b[0m\u001b[0m\n\u001b[1;32m    218\u001b[0m \u001b[0;34m\u001b[0m\u001b[0m\n",
      "\u001b[0;32m/usr/local/lib/python3.6/dist-packages/xgboost/training.py\u001b[0m in \u001b[0;36m_train_internal\u001b[0;34m(params, dtrain, num_boost_round, evals, obj, feval, xgb_model, callbacks)\u001b[0m\n\u001b[1;32m     72\u001b[0m         \u001b[0;31m# Skip the first update if it is a recovery step.\u001b[0m\u001b[0;34m\u001b[0m\u001b[0;34m\u001b[0m\u001b[0;34m\u001b[0m\u001b[0m\n\u001b[1;32m     73\u001b[0m         \u001b[0;32mif\u001b[0m \u001b[0mversion\u001b[0m \u001b[0;34m%\u001b[0m \u001b[0;36m2\u001b[0m \u001b[0;34m==\u001b[0m \u001b[0;36m0\u001b[0m\u001b[0;34m:\u001b[0m\u001b[0;34m\u001b[0m\u001b[0;34m\u001b[0m\u001b[0m\n\u001b[0;32m---> 74\u001b[0;31m             \u001b[0mbst\u001b[0m\u001b[0;34m.\u001b[0m\u001b[0mupdate\u001b[0m\u001b[0;34m(\u001b[0m\u001b[0mdtrain\u001b[0m\u001b[0;34m,\u001b[0m \u001b[0mi\u001b[0m\u001b[0;34m,\u001b[0m \u001b[0mobj\u001b[0m\u001b[0;34m)\u001b[0m\u001b[0;34m\u001b[0m\u001b[0;34m\u001b[0m\u001b[0m\n\u001b[0m\u001b[1;32m     75\u001b[0m             \u001b[0mbst\u001b[0m\u001b[0;34m.\u001b[0m\u001b[0msave_rabit_checkpoint\u001b[0m\u001b[0;34m(\u001b[0m\u001b[0;34m)\u001b[0m\u001b[0;34m\u001b[0m\u001b[0;34m\u001b[0m\u001b[0m\n\u001b[1;32m     76\u001b[0m             \u001b[0mversion\u001b[0m \u001b[0;34m+=\u001b[0m \u001b[0;36m1\u001b[0m\u001b[0;34m\u001b[0m\u001b[0;34m\u001b[0m\u001b[0m\n",
      "\u001b[0;32m/usr/local/lib/python3.6/dist-packages/xgboost/core.py\u001b[0m in \u001b[0;36mupdate\u001b[0;34m(self, dtrain, iteration, fobj)\u001b[0m\n\u001b[1;32m   1107\u001b[0m         \u001b[0;32mif\u001b[0m \u001b[0mfobj\u001b[0m \u001b[0;32mis\u001b[0m \u001b[0;32mNone\u001b[0m\u001b[0;34m:\u001b[0m\u001b[0;34m\u001b[0m\u001b[0;34m\u001b[0m\u001b[0m\n\u001b[1;32m   1108\u001b[0m             _check_call(_LIB.XGBoosterUpdateOneIter(self.handle, ctypes.c_int(iteration),\n\u001b[0;32m-> 1109\u001b[0;31m                                                     dtrain.handle))\n\u001b[0m\u001b[1;32m   1110\u001b[0m         \u001b[0;32melse\u001b[0m\u001b[0;34m:\u001b[0m\u001b[0;34m\u001b[0m\u001b[0;34m\u001b[0m\u001b[0m\n\u001b[1;32m   1111\u001b[0m             \u001b[0mpred\u001b[0m \u001b[0;34m=\u001b[0m \u001b[0mself\u001b[0m\u001b[0;34m.\u001b[0m\u001b[0mpredict\u001b[0m\u001b[0;34m(\u001b[0m\u001b[0mdtrain\u001b[0m\u001b[0;34m)\u001b[0m\u001b[0;34m\u001b[0m\u001b[0;34m\u001b[0m\u001b[0m\n",
      "\u001b[0;32m/usr/local/lib/python3.6/dist-packages/xgboost/core.py\u001b[0m in \u001b[0;36m_check_call\u001b[0;34m(ret)\u001b[0m\n\u001b[1;32m    174\u001b[0m     \"\"\"\n\u001b[1;32m    175\u001b[0m     \u001b[0;32mif\u001b[0m \u001b[0mret\u001b[0m \u001b[0;34m!=\u001b[0m \u001b[0;36m0\u001b[0m\u001b[0;34m:\u001b[0m\u001b[0;34m\u001b[0m\u001b[0;34m\u001b[0m\u001b[0m\n\u001b[0;32m--> 176\u001b[0;31m         \u001b[0;32mraise\u001b[0m \u001b[0mXGBoostError\u001b[0m\u001b[0;34m(\u001b[0m\u001b[0mpy_str\u001b[0m\u001b[0;34m(\u001b[0m\u001b[0m_LIB\u001b[0m\u001b[0;34m.\u001b[0m\u001b[0mXGBGetLastError\u001b[0m\u001b[0;34m(\u001b[0m\u001b[0;34m)\u001b[0m\u001b[0;34m)\u001b[0m\u001b[0;34m)\u001b[0m\u001b[0;34m\u001b[0m\u001b[0;34m\u001b[0m\u001b[0m\n\u001b[0m\u001b[1;32m    177\u001b[0m \u001b[0;34m\u001b[0m\u001b[0m\n\u001b[1;32m    178\u001b[0m \u001b[0;34m\u001b[0m\u001b[0m\n",
      "\u001b[0;31mXGBoostError\u001b[0m: [22:37:06] /workspace/src/objective/objective.cc:23: Unknown objective function ref:squarederror\nStack trace:\n  [bt] (0) /usr/local/lib/python3.6/dist-packages/xgboost/./lib/libxgboost.so(xgboost::ObjFunction::Create(std::string const&)+0x6d0) [0x7fb778b77070]\n  [bt] (1) /usr/local/lib/python3.6/dist-packages/xgboost/./lib/libxgboost.so(xgboost::LearnerImpl::LazyInitModel()+0x3c1) [0x7fb778b1cff1]\n  [bt] (2) /usr/local/lib/python3.6/dist-packages/xgboost/./lib/libxgboost.so(XGBoosterUpdateOneIter+0x52) [0x7fb778a84ac2]\n  [bt] (3) /usr/lib/x86_64-linux-gnu/libffi.so.6(ffi_call_unix64+0x4c) [0x7fb7a8135dae]\n  [bt] (4) /usr/lib/x86_64-linux-gnu/libffi.so.6(ffi_call+0x22f) [0x7fb7a813571f]\n  [bt] (5) /usr/lib/python3.6/lib-dynload/_ctypes.cpython-36m-x86_64-linux-gnu.so(_ctypes_callproc+0x2b4) [0x7fb7a83495c4]\n  [bt] (6) /usr/lib/python3.6/lib-dynload/_ctypes.cpython-36m-x86_64-linux-gnu.so(+0x11c33) [0x7fb7a8349c33]\n  [bt] (7) /usr/bin/python3(_PyObject_FastCallKeywords+0x19c) [0x5a9eec]\n  [bt] (8) /usr/bin/python3() [0x50a783]\n\n"
     ]
    }
   ],
   "source": [
    "# Instanciando estimador\n",
    "model_xgb_opt = xgb.XGBRegressor( objective=               'ref:squarederror'    ,\n",
    "                                 n_estimators=     params_opt['n_estimators']    ,\n",
    "                                 eta=              params_opt['eta']             ,\n",
    "                                 max_depth=        params_opt['max_depth']       ,\n",
    "                                 subsample=        params_opt['subsample']       ,\n",
    "                                 colsample_bytee=  params_opt['colsample_bytree'],\n",
    "                                 min_child_weight= params_opt['min_child_weight'])\n",
    "\n",
    "# Treino\n",
    "model_xgb_opt.fit( x_train, y_train)\n",
    "\n",
    "# Predições\n",
    "y_pred_xgb_opt = model_xgb_opt.predict ( x_test)\n",
    "\n",
    "# Performance\n",
    "result_opt = ml_error( 'XGBoost Regressor Optimized', np.expm1( y_test), np.expm1( y_pred_xgb_opt))\n",
    "result_opt"
   ]
  },
  {
   "cell_type": "markdown",
   "metadata": {
    "colab_type": "text",
    "id": "QrXuIQovEzTL"
   },
   "source": [
    "## 8.3 Salvando o modelo"
   ]
  },
  {
   "cell_type": "code",
   "execution_count": null,
   "metadata": {
    "colab": {},
    "colab_type": "code",
    "id": "QT1o7IdBEyjK"
   },
   "outputs": [],
   "source": [
    "import pickle"
   ]
  },
  {
   "cell_type": "code",
   "execution_count": null,
   "metadata": {
    "colab": {},
    "colab_type": "code",
    "id": "QbyoNLPGE4Ap"
   },
   "outputs": [],
   "source": [
    "file_path_str = ''\n",
    "piclke.dump( model_xgb_opt, open(file_path_str, 'wb'))"
   ]
  },
  {
   "cell_type": "markdown",
   "metadata": {
    "colab_type": "text",
    "id": "VDxnZYMh6CLd"
   },
   "source": [
    "# 9.0 RESULTADOS E INTERPRETAÇÃO"
   ]
  },
  {
   "cell_type": "markdown",
   "metadata": {
    "colab_type": "text",
    "id": "QwWMvKSLOcIC"
   },
   "source": [
    "## Performance do modelo sobre o negócio.\n",
    "*MAE, MAPE e MPE*"
   ]
  },
  {
   "cell_type": "markdown",
   "metadata": {
    "colab_type": "text",
    "id": "TqhsBETl6S-S"
   },
   "source": [
    "MAE: Mean Absolute error (Erro absoluto médio),\n",
    "i.e a média das distâncias das medidas reais com o valor predito"
   ]
  },
  {
   "cell_type": "markdown",
   "metadata": {
    "colab_type": "text",
    "id": "Us9G4hjpHIgj"
   },
   "source": [
    "MAPE: Mean Absolute Percentage Error (Erro absoluto médio percetual),\n",
    "i.e a média das distâncias das medidas reais com o valor predito relativo as medidas reais (em %)"
   ]
  },
  {
   "cell_type": "code",
   "execution_count": null,
   "metadata": {
    "colab": {
     "base_uri": "https://localhost:8080/",
     "height": 136
    },
    "colab_type": "code",
    "id": "Bs4KGWMsHz_Z",
    "outputId": "94967791-ec2b-42c2-8c61-0b14d6403b07"
   },
   "outputs": [
    {
     "name": "stdout",
     "output_type": "stream",
     "text": [
      "target_min:  568.0\n",
      "target_max:  41550.0\n",
      "target_range:  40982.0\n",
      "target_mean:  6994.16\n",
      "\n",
      "MAE:  664.97\n",
      "MAPE:  9.75 %  (MAE / Target.mean)\n"
     ]
    }
   ],
   "source": [
    "print( \"target_min: \", np.expm1(y_test).min())\n",
    "print( \"target_max: \", np.expm1(y_test).max())\n",
    "print( \"target_range: \", (np.expm1(y_test).max() - np.expm1(y_test).min()) )\n",
    "print( \"target_mean: \", round(np.expm1(y_test).mean() , 2))\n",
    "\n",
    "print( '\\nMAE: ', round(664.974996,2)) #acessar direto do dataframe do resultado do modelo otimizado\n",
    "print( 'MAPE: ', round(0.097529 * 100,2),'%  (MAE / Target.mean)') #acessar direto do dataframe do resultado do modelo otimizado"
   ]
  },
  {
   "cell_type": "markdown",
   "metadata": {
    "colab_type": "text",
    "id": "EAakNjodRNsx"
   },
   "source": [
    "MPE: Mean Percentage Error (Erro médio percentual)\n",
    "\n",
    "Como ele não cancela as distâncias do valor real com o predito. Esta medida é útil para ver se o modelo está gerando previsões subestimadas ou sobrestimadas (previsões otimistas ou pessimistas)"
   ]
  },
  {
   "cell_type": "code",
   "execution_count": null,
   "metadata": {
    "colab": {
     "base_uri": "https://localhost:8080/",
     "height": 34
    },
    "colab_type": "code",
    "id": "jIywFQ7bRNs-",
    "outputId": "4fd80076-61ca-45e9-caf5-1a9ec15baf0e"
   },
   "outputs": [
    {
     "name": "stdout",
     "output_type": "stream",
     "text": [
      "MPE = :  -0.35  %\n"
     ]
    }
   ],
   "source": [
    "def mpe (y, y_pred):\n",
    "  return np.mean((y - y_pred) / y)\n",
    "\n",
    "# MPE = mpe ( np.expm1( y_test), np.expm1( y_pred_xgb_opt))\n",
    "print( 'MPE = : ', round(-0.0035453341 * 100,2), ' %' ) #acessar direto da linha acima"
   ]
  },
  {
   "cell_type": "markdown",
   "metadata": {
    "colab_type": "text",
    "id": "f34Kblfm6LtF"
   },
   "source": [
    "## Performance do modelo de regressão (análise técnica do modelo)\n",
    "*RMSE, MPE*"
   ]
  },
  {
   "cell_type": "markdown",
   "metadata": {
    "colab_type": "text",
    "id": "ivKzn0VSHy35"
   },
   "source": [
    "RMSE: Root Mean Square Error (Raiz do quadrado da média dos erros), i.e. a raiz quadrada do quadrado da média dos erros., ou a raiz quadrada da variância dos erros.\n",
    "\n",
    "Mais sensível a outliers pois atribui maior peso a erros maiores. "
   ]
  },
  {
   "cell_type": "code",
   "execution_count": null,
   "metadata": {
    "colab": {
     "base_uri": "https://localhost:8080/",
     "height": 34
    },
    "colab_type": "code",
    "id": "PX9wHuhwLUfj",
    "outputId": "dab36d60-98a5-41c2-f782-9cc76620955a"
   },
   "outputs": [
    {
     "name": "stdout",
     "output_type": "stream",
     "text": [
      "RMSE:  957.77\n"
     ]
    }
   ],
   "source": [
    "print( 'RMSE: ', round(957.774225,2)) #acessar direto do dataframe do resultado do modelo otimizado"
   ]
  },
  {
   "cell_type": "markdown",
   "metadata": {
    "colab_type": "text",
    "id": "l6MqUe77LVSy"
   },
   "source": [
    "MPE: Mean Percentage Error (Erro médio percentual)\n",
    "\n",
    "Como ele não cancela as distâncias do valor real com o predito. Esta medida é útil para ver se o modelo está gerando previsões subestimadas ou sobrestimadas (previsões otimistas ou pessimistas)"
   ]
  },
  {
   "cell_type": "code",
   "execution_count": null,
   "metadata": {
    "colab": {
     "base_uri": "https://localhost:8080/",
     "height": 34
    },
    "colab_type": "code",
    "id": "cXHACY5FLVZx",
    "outputId": "4fd80076-61ca-45e9-caf5-1a9ec15baf0e"
   },
   "outputs": [
    {
     "name": "stdout",
     "output_type": "stream",
     "text": [
      "MPE = :  -0.35  %\n"
     ]
    }
   ],
   "source": [
    "def mpe (y, y_pred):\n",
    "  return np.mean((y - y_pred) / y)\n",
    "\n",
    "# MPE = mpe ( np.expm1( y_test), np.expm1( y_pred_xgb_opt))\n",
    "print( 'MPE = : ', round(-0.0035453341 * 100,2), ' %' ) #acessar direto da linha acima"
   ]
  },
  {
   "cell_type": "markdown",
   "metadata": {
    "colab_type": "text",
    "id": "6fNcOMigOJFU"
   },
   "source": [
    "modelo superestimado suas predições em 0,35%."
   ]
  },
  {
   "cell_type": "markdown",
   "metadata": {
    "colab_type": "text",
    "id": "RMOdP9MH6PFd"
   },
   "source": [
    "## Interpretação sobre o negócio\n",
    "*Comparação com Status Quo e Incremento de Receita*"
   ]
  },
  {
   "cell_type": "markdown",
   "metadata": {
    "colab_type": "text",
    "id": "Kaj81a7xSjUA"
   },
   "source": [
    "O dataset Rossmann não disponibiliza informações sobre o método de previsão de receita. Assim sendo será feito um estudo comparativo entre o modelo deste notebook com o modelo de previsão ARIMA. Observando as métricas de MAE, MAPE e MPE"
   ]
  },
  {
   "cell_type": "code",
   "execution_count": null,
   "metadata": {
    "colab": {
     "base_uri": "https://localhost:8080/",
     "height": 231
    },
    "colab_type": "code",
    "id": "9FcggmhV5_A3",
    "outputId": "b7e1ad8b-0c0d-48cc-e26d-c8db3afc182a"
   },
   "outputs": [
    {
     "ename": "NameError",
     "evalue": "ignored",
     "output_type": "error",
     "traceback": [
      "\u001b[0;31m---------------------------------------------------------------------------\u001b[0m",
      "\u001b[0;31mNameError\u001b[0m                                 Traceback (most recent call last)",
      "\u001b[0;32m<ipython-input-124-8c970d5de0cb>\u001b[0m in \u001b[0;36m<module>\u001b[0;34m()\u001b[0m\n\u001b[0;32m----> 1\u001b[0;31m \u001b[0mdf9\u001b[0m \u001b[0;34m=\u001b[0m \u001b[0mx_test\u001b[0m\u001b[0;34m(\u001b[0m \u001b[0mcols_selected_boruta_full\u001b[0m\u001b[0;34m)\u001b[0m\u001b[0;34m\u001b[0m\u001b[0;34m\u001b[0m\u001b[0m\n\u001b[0m\u001b[1;32m      2\u001b[0m \u001b[0;34m\u001b[0m\u001b[0m\n\u001b[1;32m      3\u001b[0m \u001b[0;31m#Rescale\u001b[0m\u001b[0;34m\u001b[0m\u001b[0;34m\u001b[0m\u001b[0;34m\u001b[0m\u001b[0m\n\u001b[1;32m      4\u001b[0m \u001b[0mdf9\u001b[0m\u001b[0;34m[\u001b[0m\u001b[0;34m'faturamento'\u001b[0m\u001b[0;34m]\u001b[0m \u001b[0;34m=\u001b[0m \u001b[0mnp\u001b[0m\u001b[0;34m.\u001b[0m\u001b[0mexpm1\u001b[0m\u001b[0;34m(\u001b[0m \u001b[0mdf9\u001b[0m\u001b[0;34m[\u001b[0m\u001b[0;34m'faturamento'\u001b[0m\u001b[0;34m]\u001b[0m\u001b[0;34m)\u001b[0m\u001b[0;34m\u001b[0m\u001b[0;34m\u001b[0m\u001b[0m\n\u001b[1;32m      5\u001b[0m \u001b[0mdf9\u001b[0m\u001b[0;34m[\u001b[0m \u001b[0;34m'predições'\u001b[0m\u001b[0;34m]\u001b[0m \u001b[0;34m=\u001b[0m \u001b[0mnp\u001b[0m\u001b[0;34m.\u001b[0m\u001b[0mexpm1\u001b[0m\u001b[0;34m(\u001b[0m\u001b[0my_pred_xgb_opt\u001b[0m\u001b[0;34m)\u001b[0m\u001b[0;34m\u001b[0m\u001b[0;34m\u001b[0m\u001b[0m\n",
      "\u001b[0;31mNameError\u001b[0m: name 'cols_selected_boruta_full' is not defined"
     ]
    }
   ],
   "source": [
    "df9 = x_test( cols_selected_boruta_full)\n",
    "\n",
    "#Rescale\n",
    "df9['faturamento'] = np.expm1( df9['faturamento'])\n",
    "df9[ 'predições'] = np.expm1(y_pred_xgb_opt)"
   ]
  },
  {
   "cell_type": "code",
   "execution_count": null,
   "metadata": {
    "colab": {},
    "colab_type": "code",
    "id": "j3vk_tDX9JaF"
   },
   "outputs": [],
   "source": [
    "#Predições\n",
    "df9_aux1 = df9[['ID_loja', 'predições']].groupby('ID_loja').sum().reset_index()\n",
    "\n",
    "# MAE e MAPE\n",
    "df9_aux2 = df9[['ID_loja', 'faturamento', 'predições']].groupby('ID_Loja').apply(lambda x: mean_absolute_error( x['faturamento'], x['predições'])).reset_index().rename( columns = {0 : 'MAE'})\n",
    "df9_aux3 = df9[['ID_loja', 'faturamento', 'predições']].groupby('ID_Loja').apply(lambda x: mean_absolute_percentage_error( x['faturamento'], x['predições'])).reset_index().rename( columns = {0 : 'MAPE'})\n",
    "\n",
    "# Merging\n",
    "df9_aux4 = pd.merge( df9_aux2, df9_aux3, how='inner', on='ID_loja')\n",
    "df9_aux5 = pd.merge( df9_aux1, df9_aux4, how='inner', on='ID_loja')\n",
    "\n",
    "# Cenários\n",
    "df9_aux5['pior_cenario'] = df9_aux5['predições'] - df9_aux5['MAE']\n",
    "df9_aux5['melhor_cenario'] = df9_aux5['predições'] + df9_aux5['MAE']\n",
    "\n",
    "# Reordenando colunas\n",
    "df9_aux5 = df9_aux[['ID_loja', 'predições', 'pior_cenario', 'melhor_cenario', 'MAE', 'MAPE']]\n",
    "df9_final = df9_aux5.sort_values( 'MAPE', ascending = False)\n",
    "\n",
    "df9_final.head()"
   ]
  },
  {
   "cell_type": "code",
   "execution_count": null,
   "metadata": {
    "colab": {},
    "colab_type": "code",
    "id": "ze62lZTrY7mz"
   },
   "outputs": [],
   "source": [
    "sns.scatterplot( x ='ID_Loja', y = 'MAPE', data = df9_final)"
   ]
  },
  {
   "cell_type": "code",
   "execution_count": null,
   "metadata": {
    "colab": {},
    "colab_type": "code",
    "id": "DiuUtKi_Zjv0"
   },
   "outputs": [],
   "source": [
    "df9_summary = df9_final[['predições', 'pior_cenario', 'melhor cenario']].apply( lambda x: np.sum(x), axis = 0).reset_index().rename( columns = {'index' : 'Cenarios', 0: 'Faturamento'})\n",
    "df9_summary['Faturamento'] = df9_summary['Faturamento'].map( 'R${:,.2f}'.format)\n",
    "df9_summary"
   ]
  },
  {
   "cell_type": "code",
   "execution_count": null,
   "metadata": {
    "colab": {
     "base_uri": "https://localhost:8080/",
     "height": 365
    },
    "colab_type": "code",
    "id": "yC_gMeH8bnqD",
    "outputId": "004e3863-9840-487a-a666-a0ed5e43fb64"
   },
   "outputs": [
    {
     "ename": "NameError",
     "evalue": "ignored",
     "output_type": "error",
     "traceback": [
      "\u001b[0;31m---------------------------------------------------------------------------\u001b[0m",
      "\u001b[0;31mNameError\u001b[0m                                 Traceback (most recent call last)",
      "\u001b[0;32m<ipython-input-123-0b97ef14c894>\u001b[0m in \u001b[0;36m<module>\u001b[0;34m()\u001b[0m\n\u001b[1;32m      1\u001b[0m \u001b[0mplt\u001b[0m\u001b[0;34m.\u001b[0m\u001b[0msubplot\u001b[0m\u001b[0;34m(\u001b[0m\u001b[0;36m2\u001b[0m\u001b[0;34m,\u001b[0m\u001b[0;36m2\u001b[0m\u001b[0;34m,\u001b[0m\u001b[0;36m1\u001b[0m\u001b[0;34m)\u001b[0m\u001b[0;34m\u001b[0m\u001b[0;34m\u001b[0m\u001b[0m\n\u001b[0;32m----> 2\u001b[0;31m \u001b[0msns\u001b[0m\u001b[0;34m.\u001b[0m\u001b[0mlineplot\u001b[0m\u001b[0;34m(\u001b[0m \u001b[0mx\u001b[0m \u001b[0;34m=\u001b[0m \u001b[0;34m'data'\u001b[0m\u001b[0;34m,\u001b[0m \u001b[0my\u001b[0m\u001b[0;34m=\u001b[0m\u001b[0;34m'faturamento'\u001b[0m\u001b[0;34m,\u001b[0m \u001b[0mdata\u001b[0m \u001b[0;34m=\u001b[0m \u001b[0mdf9\u001b[0m\u001b[0;34m,\u001b[0m \u001b[0mlabel\u001b[0m \u001b[0;34m=\u001b[0m \u001b[0;34m'REAL'\u001b[0m\u001b[0;34m)\u001b[0m\u001b[0;34m\u001b[0m\u001b[0;34m\u001b[0m\u001b[0m\n\u001b[0m\u001b[1;32m      3\u001b[0m \u001b[0msns\u001b[0m\u001b[0;34m.\u001b[0m\u001b[0mlineplot\u001b[0m\u001b[0;34m(\u001b[0m \u001b[0mx\u001b[0m \u001b[0;34m=\u001b[0m \u001b[0;34m'data'\u001b[0m\u001b[0;34m,\u001b[0m \u001b[0my\u001b[0m\u001b[0;34m=\u001b[0m\u001b[0;34m'predições'\u001b[0m\u001b[0;34m,\u001b[0m \u001b[0mdata\u001b[0m \u001b[0;34m=\u001b[0m \u001b[0mdf9\u001b[0m\u001b[0;34m,\u001b[0m \u001b[0mlabel\u001b[0m \u001b[0;34m=\u001b[0m \u001b[0;34m'PREDITO'\u001b[0m\u001b[0;34m)\u001b[0m\u001b[0;34m\u001b[0m\u001b[0;34m\u001b[0m\u001b[0m\n\u001b[1;32m      4\u001b[0m \u001b[0;34m\u001b[0m\u001b[0m\n\u001b[1;32m      5\u001b[0m \u001b[0mplt\u001b[0m\u001b[0;34m.\u001b[0m\u001b[0msubplot\u001b[0m\u001b[0;34m(\u001b[0m\u001b[0;36m2\u001b[0m\u001b[0;34m,\u001b[0m\u001b[0;36m2\u001b[0m\u001b[0;34m,\u001b[0m\u001b[0;36m2\u001b[0m\u001b[0;34m)\u001b[0m\u001b[0;34m\u001b[0m\u001b[0;34m\u001b[0m\u001b[0m\n",
      "\u001b[0;31mNameError\u001b[0m: name 'df9' is not defined"
     ]
    },
    {
     "data": {
      "image/png": "[encoded data removed]",
      "text/plain": [
       "<Figure size 432x288 with 1 Axes>"
      ]
     },
     "metadata": {
      "needs_background": "light",
      "tags": []
     },
     "output_type": "display_data"
    }
   ],
   "source": [
    "plt.subplot(2,2,1)\n",
    "sns.lineplot( x = 'data', y='faturamento', data = df9, label = 'REAL')\n",
    "sns.lineplot( x = 'data', y='predições', data = df9, label = 'PREDITO')\n",
    "\n",
    "plt.subplot(2,2,2)\n",
    "sns.lineplot(x='data', y='error_rate', data=df9)\n",
    "\n",
    "plt.subplot(2,2,3)\n",
    "sns.displot( df9['error'])\n",
    "\n",
    "plt.subplot(2,2,4)\n",
    "sns.scatterplot( df9['predições'], df9['error'])"
   ]
  },
  {
   "cell_type": "markdown",
   "metadata": {
    "colab_type": "text",
    "id": "GTSLlNr9cgm0"
   },
   "source": [
    "# 10 DEPLOY"
   ]
  },
  {
   "cell_type": "markdown",
   "metadata": {
    "colab_type": "text",
    "id": "vQBxS4DE3bP-"
   },
   "source": [
    "# Para Ciclo 2"
   ]
  },
  {
   "cell_type": "markdown",
   "metadata": {
    "colab_type": "text",
    "id": "ikYeIMk0Gj0U"
   },
   "source": [
    "Fazer em jupyter notebook\n",
    "\n",
    "realmente rodar o boruta\n",
    "\n",
    "ter prints de tempo de execução\n",
    "\n",
    "inserir equações das formulas usadas para calculo dos indicadores de resultados do modelo final\n",
    "\n",
    "calcular rmpe para modelo"
   ]
  }
 ],
 "metadata": {
  "colab": {
   "name": "bcbp_rossmann_01 .ipynb",
   "provenance": []
  },
  "kernelspec": {
   "display_name": "Python 3",
   "language": "python",
   "name": "python3"
  },
  "language_info": {
   "codemirror_mode": {
    "name": "ipython",
    "version": 3
   },
   "file_extension": ".py",
   "mimetype": "text/x-python",
   "name": "python",
   "nbconvert_exporter": "python",
   "pygments_lexer": "ipython3",
   "version": "3.8.5"
  }
 },
 "nbformat": 4,
 "nbformat_minor": 1
}
